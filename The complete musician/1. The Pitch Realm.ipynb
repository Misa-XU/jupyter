{
 "cells": [
  {
   "cell_type": "markdown",
   "metadata": {},
   "source": [
    "Westen music written during the __Baroque__, __Classical__ and __Romantic__ periods (c. 1650 - c. 1900) is called __TONAL MUSIC__ or the music of the __common-practice period__. This kind of music has a point of gravitation where all pitch orbit around. This phenomenon is called __tonality__.\n",
    "\n",
    "1. __Staff__: contains horizontal lines and spaces.\n",
    "2. __Clef__: represents a specific pitch that inform performers how much higher or lower a given pitch is compare to others.\n",
    "    - C Clef: ![](images/cclef.png)\n",
    "        Nowadays, Alto for viola music and Tenor for trombone, bassoon and cello music.\n",
    "    - Grand staff: \n",
    "        - Treble (G Clef)\n",
    "        - Bass (F Clef)\n",
    "        - Ledger lines\n",
    "        - Octave sign (8va, 8vb) \n",
    "        ![](images/gstaff.png)"
   ]
  }
 ],
 "metadata": {
  "kernelspec": {
   "display_name": "Python 3",
   "language": "python",
   "name": "python3"
  },
  "language_info": {
   "codemirror_mode": {
    "name": "ipython",
    "version": 3
   },
   "file_extension": ".py",
   "mimetype": "text/x-python",
   "name": "python",
   "nbconvert_exporter": "python",
   "pygments_lexer": "ipython3",
   "version": "3.6.7"
  }
 },
 "nbformat": 4,
 "nbformat_minor": 2
}
