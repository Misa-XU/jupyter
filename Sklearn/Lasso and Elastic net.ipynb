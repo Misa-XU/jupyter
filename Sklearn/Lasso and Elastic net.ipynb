{
 "cells": [
  {
   "cell_type": "code",
   "execution_count": 14,
   "metadata": {},
   "outputs": [],
   "source": [
    "import numpy as np\n",
    "import matplotlib.pyplot as plt\n",
    "from sklearn.metrics import r2_score, mean_squared_error"
   ]
  },
  {
   "cell_type": "code",
   "execution_count": 8,
   "metadata": {},
   "outputs": [],
   "source": [
    "np.random.seed(42)\n",
    "n_samples, n_features = 50, 100\n",
    "X = np.random.randn(n_samples, n_features)\n",
    "idx = np.arange(n_features)\n",
    "coef = (-1) ** idx * np.exp(-idx / 10)\n",
    "coef[10:] = 0  # sparsify coef\n",
    "y = np.dot(X, coef)\n",
    "y += 0.01 * np.random.normal(size=n_samples)\n",
    "n_samples = X.shape[0]\n",
    "X_train, y_train = X[:n_samples // 2], y[:n_samples // 2]\n",
    "X_test, y_test = X[n_samples // 2:], y[n_samples // 2:]"
   ]
  },
  {
   "cell_type": "code",
   "execution_count": 30,
   "metadata": {},
   "outputs": [
    {
     "name": "stdout",
     "output_type": "stream",
     "text": [
      "[ 0.78254557 -0.79687776  0.         -0.17297543  0.39279153 -0.24957933\n",
      "  0.60407086 -0.          0.15194562 -0.087415   -0.          0.\n",
      "  0.61638871  0.          0.         -0.          0.10251778  0.\n",
      "  0.42438157  0.         -0.          0.31126094  0.03642576 -0.\n",
      "  0.          0.          0.02701953 -0.         -0.          0.\n",
      "  0.         -0.         -0.          0.20145306 -0.          0.01579268\n",
      "  0.         -0.28089428  0.05626382  0.          0.          0.\n",
      "  0.          0.          0.          0.          0.         -0.\n",
      "  0.          0.         -0.22525581 -0.          0.         -0.\n",
      "  0.         -0.         -0.          0.27433526 -0.         -0.\n",
      " -0.          0.06668276 -0.         -0.          0.          0.19773687\n",
      "  0.         -0.          0.0055266   0.         -0.          0.\n",
      " -0.         -0.          0.          0.         -0.         -0.\n",
      " -0.          0.          0.          0.          0.         -0.\n",
      "  0.          0.         -0.         -0.          0.         -0.\n",
      "  0.         -0.         -0.          0.28422401 -0.          0.\n",
      " -0.          0.          0.          0.        ]\n",
      "r^2 on test data : 0.612612\n",
      "mse on test data : 1.690269\n"
     ]
    },
    {
     "data": {
      "text/plain": [
       "<matplotlib.legend.Legend at 0x1fc7125ffd0>"
      ]
     },
     "execution_count": 30,
     "metadata": {},
     "output_type": "execute_result"
    },
    {
     "data": {
      "image/png": "[encoded data removed]",
      "text/plain": [
       "<Figure size 432x288 with 1 Axes>"
      ]
     },
     "metadata": {
      "needs_background": "light"
     },
     "output_type": "display_data"
    }
   ],
   "source": [
    "from sklearn.linear_model import Lasso\n",
    "\n",
    "alpha = 0.01\n",
    "lasso = Lasso(alpha=alpha)\n",
    "\n",
    "y_pred_lasso = lasso.fit(X_train, y_train).predict(X_test)\n",
    "r2_score_lasso = r2_score(y_test, y_pred_lasso)\n",
    "mse = mean_squared_error(y_test, y_pred_lasso)\n",
    "print(lasso.coef_)\n",
    "print(\"r^2 on test data : %f\" % r2_score_lasso)\n",
    "print(\"mse on test data : %f\" % mse)\n",
    "\n",
    "fig = plt.figure()\n",
    "plt.scatter(np.arange(n_samples // 2), y_train, c = 'b', label = 'target')\n",
    "plt.scatter(np.arange(n_samples // 2), y_pred_lasso, c = 'y', label = 'predict')\n",
    "plt.legend()"
   ]
  },
  {
   "cell_type": "code",
   "execution_count": 29,
   "metadata": {},
   "outputs": [
    {
     "name": "stdout",
     "output_type": "stream",
     "text": [
      "[ 0.80654443 -0.72433643  0.08502361 -0.22486296  0.33331068 -0.22851134\n",
      "  0.61435095 -0.01651123  0.18752709 -0.10662745 -0.          0.\n",
      "  0.56884615  0.03433065  0.         -0.          0.12389937  0.\n",
      "  0.35880295  0.         -0.          0.30609583  0.02532408 -0.\n",
      "  0.          0.          0.03967557 -0.         -0.          0.\n",
      "  0.         -0.         -0.          0.19874795 -0.00711161  0.02595648\n",
      "  0.         -0.26243125  0.          0.          0.          0.\n",
      "  0.          0.          0.          0.          0.         -0.\n",
      "  0.          0.         -0.21266991 -0.         -0.         -0.\n",
      "  0.04282559 -0.         -0.          0.30809501 -0.         -0.\n",
      " -0.          0.07437247 -0.         -0.         -0.          0.21401995\n",
      "  0.         -0.          0.          0.         -0.          0.\n",
      " -0.         -0.          0.          0.         -0.         -0.\n",
      " -0.          0.          0.          0.          0.         -0.\n",
      "  0.          0.         -0.         -0.          0.          0.\n",
      "  0.         -0.         -0.          0.28792054 -0.          0.\n",
      " -0.          0.          0.          0.        ]\n",
      "r^2 on test data : 0.592920\n",
      "mse on test data : 1.776188\n"
     ]
    },
    {
     "data": {
      "text/plain": [
       "<module 'matplotlib.pyplot' from 'C:\\\\ProgramData\\\\Miniconda3\\\\lib\\\\site-packages\\\\matplotlib\\\\pyplot.py'>"
      ]
     },
     "metadata": {},
     "output_type": "display_data"
    },
    {
     "data": {
      "image/png": "[encoded data removed]",
      "text/plain": [
       "<Figure size 432x288 with 1 Axes>"
      ]
     },
     "metadata": {
      "needs_background": "light"
     },
     "output_type": "display_data"
    }
   ],
   "source": [
    "from sklearn.linear_model import ElasticNet\n",
    "\n",
    "enet = ElasticNet(alpha=alpha, l1_ratio=0.7)\n",
    "\n",
    "y_pred_enet = enet.fit(X_train, y_train).predict(X_test)\n",
    "r2_score_enet = r2_score(y_test, y_pred_enet)\n",
    "mse_enet = mean_squared_error(y_test, y_pred_enet)\n",
    "print(enet.coef_)\n",
    "print(\"r^2 on test data : %f\" % r2_score_enet)\n",
    "print(\"mse on test data : %f\" % mse_enet)\n",
    "\n",
    "m, s, _ = plt.stem(np.where(enet.coef_)[0], enet.coef_[enet.coef_ != 0],\n",
    "                   markerfmt='x', label='Elastic net coefficients')\n",
    "plt.setp([m, s], color=\"#2ca02c\")\n",
    "m, s, _ = plt.stem(np.where(lasso.coef_)[0], lasso.coef_[lasso.coef_ != 0],\n",
    "                   markerfmt='x', label='Lasso coefficients')\n",
    "plt.setp([m, s], color='#ff7f0e')\n",
    "plt.stem(np.where(coef)[0], coef[coef != 0], label='true coefficients',\n",
    "         markerfmt='bx')\n",
    "\n",
    "plt.legend(loc='best')\n",
    "plt.title(\"Lasso $R^2$: %.3f, Elastic Net $R^2$: %.3f\"\n",
    "          % (r2_score_lasso, r2_score_enet))\n",
    "display(plt)"
   ]
  }
 ],
 "metadata": {
  "kernelspec": {
   "display_name": "Python 3",
   "language": "python",
   "name": "python3"
  },
  "language_info": {
   "codemirror_mode": {
    "name": "ipython",
    "version": 3
   },
   "file_extension": ".py",
   "mimetype": "text/x-python",
   "name": "python",
   "nbconvert_exporter": "python",
   "pygments_lexer": "ipython3",
   "version": "3.6.7"
  }
 },
 "nbformat": 4,
 "nbformat_minor": 2
}
