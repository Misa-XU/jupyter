{
 "cells": [
  {
   "cell_type": "markdown",
   "metadata": {},
   "source": [
    "1. switch on\n",
    "2. wait for 3 minutes\n",
    "3. access LAN\n",
    "4. access 99\n",
    "5. ping to outside\n",
    "    - fix protential network problems\n",
    "6. run ipscanner.py to check whether the Pis are communicatable\n",
    "    - fix protential network problems\n",
    "7. run df.py fb to check whether the Pis are already subscripting mqtt\n",
    "    - fix protential hardware problems\n",
    "8. run df.py cs to check whether the cameras under good condition\n",
    "    - fix protential hardware problems\n",
    "9. run a testing session"
   ]
  }
 ],
 "metadata": {
  "kernelspec": {
   "display_name": "Python 3",
   "language": "python",
   "name": "python3"
  },
  "language_info": {
   "codemirror_mode": {
    "name": "ipython",
    "version": 3
   },
   "file_extension": ".py",
   "mimetype": "text/x-python",
   "name": "python",
   "nbconvert_exporter": "python",
   "pygments_lexer": "ipython3",
   "version": "3.6.7"
  }
 },
 "nbformat": 4,
 "nbformat_minor": 2
}
