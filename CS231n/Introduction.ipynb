{
 "cells": [
  {
   "cell_type": "markdown",
   "metadata": {},
   "source": [
    "### Related Courses:\n",
    "1. CS131: Computer Vision: Foundations and Applications\n",
    "    - Fall 2018, Juan Carlos Niebles and Ranjay Krishna\n",
    "    - Undergraduate introductory class\n",
    "2. CS231a: Computer Vision, from 3D Reconstruction to Recognition\n",
    "    - Professor Silvio Savarese\n",
    "    - Core computer vision class for seniors, masters, and PhDs\n",
    "    - Image processing, cameras, 3D reconstruction, segmentation, object recognition,scene understanding; not just deep learning\n",
    "- CS 224n: Natural Language Processing with Deep Learning\n",
    "    – Winter 2019, Chris Manning\n",
    "- CS 230: Deep Learning\n",
    "    – Spring 2019, Prof. Andrew Ng and Kian Katanforoosh\n",
    "- CS231n: Convolutional Neural Networks for Visual Recognition\n",
    "    – This course, Justin Johnson & Serena Yeung & Fei-Fei Li\n",
    "    – Focusing on applications of deep learning to computer vision"
   ]
  }
 ],
 "metadata": {
  "kernelspec": {
   "display_name": "Python 3",
   "language": "python",
   "name": "python3"
  },
  "language_info": {
   "codemirror_mode": {
    "name": "ipython",
    "version": 3
   },
   "file_extension": ".py",
   "mimetype": "text/x-python",
   "name": "python",
   "nbconvert_exporter": "python",
   "pygments_lexer": "ipython3",
   "version": "3.6.7"
  }
 },
 "nbformat": 4,
 "nbformat_minor": 2
}
