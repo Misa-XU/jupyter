{
 "cells": [
  {
   "cell_type": "markdown",
   "metadata": {},
   "source": [
    "### Related Courses:\n",
    "1. CS131: Computer Vision: Foundations and Applications\n",
    "    - Fall 2018, Juan Carlos Niebles and Ranjay Krishna\n",
    "    - Undergraduate introductory class\n",
    "2. CS231a: Computer Vision, from 3D Reconstruction to Recognition\n",
    "    - Professor Silvio Savarese\n",
    "    - Core computer vision class for seniors, masters, and PhDs\n",
    "    - Image processing, cameras, 3D reconstruction, segmentation, object recognition,scene understanding; not just deep learning\n",
    "- CS 224n: Natural Language Processing with Deep Learning\n",
    "    – Winter 2019, Chris Manning\n",
    "- CS 230: Deep Learning\n",
    "    – Spring 2019, Prof. Andrew Ng and Kian Katanforoosh\n",
    "- CS231n: Convolutional Neural Networks for Visual Recognition\n",
    "    – This course, Justin Johnson & Serena Yeung & Fei-Fei Li\n",
    "    – Focusing on applications of deep learning to computer vision"
   ]
  },
  {
   "cell_type": "markdown",
   "metadata": {},
   "source": [
    "![](images/00.png)"
   ]
  },
  {
   "cell_type": "markdown",
   "metadata": {},
   "source": [
    "The experiment above shows that visual processing under mammal's brains starts from simple structure like oriented edges"
   ]
  },
  {
   "cell_type": "markdown",
   "metadata": {},
   "source": [
    "![](images/01.png)"
   ]
  },
  {
   "cell_type": "markdown",
   "metadata": {},
   "source": [
    "Previously, the idea is like every object is composed of simple geometric primitives (like cylindrical shapes).\n",
    "\n",
    "Then some believes that object could be reconstructed from edges (mostly straight likes) and their combination.\n",
    "\n",
    "In the early years, the computation resources are very limited, so people may try to do object segmentation first."
   ]
  },
  {
   "cell_type": "markdown",
   "metadata": {},
   "source": [
    "![](images/02.png)"
   ]
  },
  {
   "cell_type": "markdown",
   "metadata": {},
   "source": [
    "The project above use a kind of graph theory"
   ]
  },
  {
   "cell_type": "markdown",
   "metadata": {},
   "source": [
    "- @ AdaBoost algorithm to do real-time face detection by Paul Viola \n",
    "- @ Spatial Pyramid Matching, Lazebnik, Schmid & Ponce, 2006\n",
    "- @ Histogram of Gradients (HoG)\n",
    "- @ Deformable Part Model\n",
    "- @ Visual Genome"
   ]
  },
  {
   "cell_type": "markdown",
   "metadata": {},
   "source": [
    "#### Benchmark\n",
    "- PASCAL Visual Object Challange (20 object categories, thousands images per category)\n",
    "- ImageNet: __22K__ categories and __14M__ images and its ImageNet Large Scale Visual Recognition Challange (part of 1k class and 1.4M images)<br>\n",
    "    It's very likely to overfit in the training process since visual data is very complex, then our model tend to have a high dimension whereas we have no enough data to train them. So they want to put together the largest possible dataset\n",
    "- CIFAR10: 10 classes, 50k training images, 10k test images nearly evenly distributed across these categories"
   ]
  }
 ],
 "metadata": {
  "kernelspec": {
   "display_name": "Python 3",
   "language": "python",
   "name": "python3"
  },
  "language_info": {
   "codemirror_mode": {
    "name": "ipython",
    "version": 3
   },
   "file_extension": ".py",
   "mimetype": "text/x-python",
   "name": "python",
   "nbconvert_exporter": "python",
   "pygments_lexer": "ipython3",
   "version": "3.6.7"
  }
 },
 "nbformat": 4,
 "nbformat_minor": 2
}
