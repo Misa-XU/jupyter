{
 "cells": [
  {
   "cell_type": "markdown",
   "metadata": {},
   "source": [
    "# Numpy Tutorial"
   ]
  },
  {
   "cell_type": "code",
   "execution_count": 105,
   "metadata": {},
   "outputs": [
    {
     "name": "stdout",
     "output_type": "stream",
     "text": [
      "1.15.4\n"
     ]
    }
   ],
   "source": [
    "import numpy as np\n",
    "print (np.__version__)\n",
    "import matplotlib.pyplot as plt"
   ]
  },
  {
   "cell_type": "markdown",
   "metadata": {},
   "source": [
    "# Section I:  ndarray\n",
    "The most important object defined in NumPy is an N-dimensional array type called __ndarray__. It describes the collection of items of the same type. Items in the collection can be accessed using a zero-based index.\n",
    "\n",
    "Every item in an ndarray takes the same size of block in the memory. Each element in ndarray is an object of data-type object (called dtype). Note that numpy.array is not the same as the Standard Python Library class array.array, which only handles one-dimensional arrays and offers less functionality. "
   ]
  },
  {
   "cell_type": "markdown",
   "metadata": {},
   "source": [
    "### 1. Create A Numpy Array\n",
    "\n",
    "An instance of ndarray class can be constructed by different array creation routines described later in the tutorial. The basic ndarray is created using an array function in NumPy as follows\n",
    "\n",
    "`numpy.array(object, dtype = None, copy = True, order = None, subok = False, ndmin = 0)` to create an array or<br>\n",
    "`numpy.asarray(object, dtype=None, order=None)` to convert the input to an array, if the input is already an ndarray, it would return a shallow copy\n",
    "\n",
    "Param | Description\n",
    "--- | :---\n",
    "*object* | An array object; An object exposing the array interface; An object whose *\\__array\\__* method returns an array; A (nested) sequence.\n",
    "*dtype* | Desired data type of array; By default is the minumum type required to hold the objects; Can only be used to ‘upcast’ the array; .astype(t) instead for downcasting.\n",
    "*copy* | By default, the object is copied. If copy = False, a copy will only be made if <br> 1. *\\__array\\__* returns a copy, <br> 2. Object is a nested sequence,<br> 3. To satisfy any of the other requirements like dtype or order\n",
    "*order* | C (row major) or F (column major) or A (any) (default)\n",
    "*subok* | By default, returned array forced to be a base class array. If true, sub-classes passed through\n",
    "*ndmin* | Specifies the minimum dimensions of resultant array\n",
    "\n",
    "---\n",
    "\n",
    "\n",
    "#### Examples"
   ]
  },
  {
   "cell_type": "code",
   "execution_count": 31,
   "metadata": {},
   "outputs": [
    {
     "data": {
      "text/plain": [
       "array([1, 2, 3])"
      ]
     },
     "execution_count": 31,
     "metadata": {},
     "output_type": "execute_result"
    }
   ],
   "source": [
    "# create a ndarray by passing an python list\n",
    "np.array([1, 2, 3])"
   ]
  },
  {
   "cell_type": "code",
   "execution_count": 32,
   "metadata": {},
   "outputs": [
    {
     "data": {
      "text/plain": [
       "array([1., 2., 3.])"
      ]
     },
     "execution_count": 32,
     "metadata": {},
     "output_type": "execute_result"
    }
   ],
   "source": [
    "# All elements in ndarray hold the same dtype.\n",
    "np.array([1, 2, 3.0])"
   ]
  },
  {
   "cell_type": "code",
   "execution_count": 34,
   "metadata": {},
   "outputs": [
    {
     "name": "stdout",
     "output_type": "stream",
     "text": [
      "Construct by passing a list\n"
     ]
    },
    {
     "data": {
      "text/plain": [
       "array([[1, 2],\n",
       "       [3, 4]])"
      ]
     },
     "execution_count": 34,
     "metadata": {},
     "output_type": "execute_result"
    }
   ],
   "source": [
    "# More than one dimensions:\n",
    "# 1.\n",
    "print(\"Construct by passing a list\")\n",
    "np.array([[1, 2], [3, 4]])"
   ]
  },
  {
   "cell_type": "code",
   "execution_count": 35,
   "metadata": {},
   "outputs": [
    {
     "name": "stdout",
     "output_type": "stream",
     "text": [
      "Construct by passing a np.mat\n"
     ]
    },
    {
     "data": {
      "text/plain": [
       "array([[1, 2],\n",
       "       [3, 4]])"
      ]
     },
     "execution_count": 35,
     "metadata": {},
     "output_type": "execute_result"
    }
   ],
   "source": [
    "# 2.\n",
    "print(\"Construct by passing a np.mat\")\n",
    "np.array(np.mat('1 2; 3 4'))"
   ]
  },
  {
   "cell_type": "code",
   "execution_count": 36,
   "metadata": {
    "scrolled": true
   },
   "outputs": [
    {
     "data": {
      "text/plain": [
       "matrix([[1, 2],\n",
       "        [3, 4]])"
      ]
     },
     "execution_count": 36,
     "metadata": {},
     "output_type": "execute_result"
    }
   ],
   "source": [
    "# We could also find that when subok = True, the type of object will be preserved\n",
    "np.array(np.mat('1 2; 3 4'), subok=True)"
   ]
  },
  {
   "cell_type": "markdown",
   "metadata": {},
   "source": [
    "### 1.2 Array Creation Extensions\n",
    "\n",
    "`numpy.full(shape, fill_value, dtype=None, order='C')`\n",
    " - Return a new array of given shape and type, filled with fill_value.\n",
    " \n",
    "`numpy.full_like(a, fill_value, dtype=None, order='K', subok=True)`\n",
    " - Return a full array with the same shape and type as a given array.\n",
    " \n",
    "#### Examples"
   ]
  },
  {
   "cell_type": "code",
   "execution_count": 48,
   "metadata": {},
   "outputs": [
    {
     "data": {
      "text/plain": [
       "array([[1, 1, 1],\n",
       "       [1, 1, 1]])"
      ]
     },
     "execution_count": 48,
     "metadata": {},
     "output_type": "execute_result"
    }
   ],
   "source": [
    "a = np.full([2, 3], 1)\n",
    "a"
   ]
  },
  {
   "cell_type": "code",
   "execution_count": 53,
   "metadata": {},
   "outputs": [
    {
     "data": {
      "text/plain": [
       "array([[5, 5, 5],\n",
       "       [5, 5, 5]])"
      ]
     },
     "execution_count": 53,
     "metadata": {},
     "output_type": "execute_result"
    }
   ],
   "source": [
    "np.full_like(a, 5)"
   ]
  },
  {
   "cell_type": "markdown",
   "metadata": {},
   "source": [
    "Similarly, we have\n",
    " - `ones_like()` and `ones()`\n",
    " - `zeros_like()` and `zeros()`\n",
    "\n",
    "Even we could use `empty()` and `empty_like()`. In contrast, They not initialize the returned array; Then may therefore be marginally faster. "
   ]
  },
  {
   "cell_type": "code",
   "execution_count": 62,
   "metadata": {},
   "outputs": [
    {
     "data": {
      "text/plain": [
       "array([[1, 1],\n",
       "       [1, 1]])"
      ]
     },
     "execution_count": 62,
     "metadata": {},
     "output_type": "execute_result"
    }
   ],
   "source": [
    "# numpy.empty(shape, dtype=float, order='C')\n",
    "np.ones([2, 2], dtype = int)"
   ]
  },
  {
   "cell_type": "code",
   "execution_count": 50,
   "metadata": {
    "scrolled": true
   },
   "outputs": [
    {
     "data": {
      "text/plain": [
       "array([[       1144,           0,        1144],\n",
       "       [          0,      131074, -2147483648]])"
      ]
     },
     "execution_count": 50,
     "metadata": {},
     "output_type": "execute_result"
    }
   ],
   "source": [
    "#numpy.empty_like(prototype, dtype=None, order='K', subok=True)\n",
    "a = [[1,2,3], [4,5,6]]\n",
    "np.empty_like(a)"
   ]
  },
  {
   "cell_type": "markdown",
   "metadata": {},
   "source": [
    "Specificly \n",
    " - `numpy.eye(N, M=None, k=0, dtype=<class 'float'>, order='C')` could return a diagonal 2-D array\n",
    " - `numpy.identity(n, dtype=None)` would return a exactly identity array\n",
    " \n",
    "#### Examples"
   ]
  },
  {
   "cell_type": "code",
   "execution_count": 65,
   "metadata": {},
   "outputs": [
    {
     "data": {
      "text/plain": [
       "array([[1, 0, 0],\n",
       "       [0, 1, 0],\n",
       "       [0, 0, 1]])"
      ]
     },
     "execution_count": 65,
     "metadata": {},
     "output_type": "execute_result"
    }
   ],
   "source": [
    "np.eye(3, dtype = int)"
   ]
  },
  {
   "cell_type": "code",
   "execution_count": 66,
   "metadata": {
    "scrolled": true
   },
   "outputs": [
    {
     "data": {
      "text/plain": [
       "array([[1., 0.],\n",
       "       [0., 1.]])"
      ]
     },
     "execution_count": 66,
     "metadata": {},
     "output_type": "execute_result"
    }
   ],
   "source": [
    "np.identity(2)"
   ]
  },
  {
   "cell_type": "markdown",
   "metadata": {},
   "source": [
    "#### Array Concentrating and Splitting\n",
    "`numpy.r\\_\\[\\*arrays\\]` concatenate arrays along the _first_ axis.<br>\n",
    "`numpy.c\\_\\[\\*arrays\\]` contentrate arrays along the _second_ axis"
   ]
  },
  {
   "cell_type": "code",
   "execution_count": 113,
   "metadata": {},
   "outputs": [
    {
     "data": {
      "text/plain": [
       "array([[1, 4],\n",
       "       [2, 5],\n",
       "       [3, 6]])"
      ]
     },
     "execution_count": 113,
     "metadata": {},
     "output_type": "execute_result"
    }
   ],
   "source": [
    "np.c_[np.array([1,2,3]), np.array([4,5,6])]"
   ]
  },
  {
   "cell_type": "code",
   "execution_count": 114,
   "metadata": {},
   "outputs": [
    {
     "data": {
      "text/plain": [
       "array([1, 2, 3, 4, 5, 6])"
      ]
     },
     "execution_count": 114,
     "metadata": {},
     "output_type": "execute_result"
    }
   ],
   "source": [
    "np.r_[np.array([1,2,3]), np.array([4,5,6])]"
   ]
  },
  {
   "cell_type": "markdown",
   "metadata": {},
   "source": [
    "Alternatively, <br>\n",
    "`np.hstack(tup)` column-wisely.<br>\n",
    "`np.vstack(tup)` row-wisely.<br>\n",
    "`dstack(tup)`    depth-wisely.<br>"
   ]
  },
  {
   "cell_type": "code",
   "execution_count": 183,
   "metadata": {
    "scrolled": true
   },
   "outputs": [
    {
     "data": {
      "text/plain": [
       "array([1, 2, 3, 4, 5, 6])"
      ]
     },
     "execution_count": 183,
     "metadata": {},
     "output_type": "execute_result"
    }
   ],
   "source": [
    "np.hstack((np.array([1,2,3]), np.array([4,5,6])))"
   ]
  },
  {
   "cell_type": "markdown",
   "metadata": {},
   "source": [
    "Array could be splitted by `numpy.split(ary, indices_or_sections, axis=0)`\n",
    "Similarly, hsplit(), vsplit(), dsplit() could also work"
   ]
  },
  {
   "cell_type": "code",
   "execution_count": 184,
   "metadata": {},
   "outputs": [
    {
     "data": {
      "text/plain": [
       "[array([0., 1., 2.]),\n",
       " array([3., 4.]),\n",
       " array([5.]),\n",
       " array([6., 7.]),\n",
       " array([], dtype=float64)]"
      ]
     },
     "execution_count": 184,
     "metadata": {},
     "output_type": "execute_result"
    }
   ],
   "source": [
    "x = np.arange(8.0)\n",
    "np.split(x, [3, 5, 6, 10])"
   ]
  },
  {
   "cell_type": "markdown",
   "metadata": {},
   "source": [
    "## 2. Fields of ndarray\n",
    "\n",
    "Fields | Functionality\n",
    "--- | ---\n",
    "ndarray.flags\t| Information about the memory layout of the array.\n",
    "ndarray.shape\t| Tuple of array dimensions.\n",
    "ndarray.strides\t| Tuple of bytes to step in each dimension when traversing an array.\n",
    "ndarray.ndim\t| Number of array dimensions.\n",
    "ndarray.size\t| Number of elements in the array.\n",
    "ndarray.itemsize | Length of one array element in bytes.\n",
    "ndarray.nbytes\t| Total bytes consumed by the elements of the array.\n",
    "ndarray.base\t| Base object if memory is from some other object.\n",
    "ndarray.T | Same as self.transpose()"
   ]
  },
  {
   "cell_type": "code",
   "execution_count": 84,
   "metadata": {},
   "outputs": [
    {
     "data": {
      "text/plain": [
       "(3, 5)"
      ]
     },
     "execution_count": 84,
     "metadata": {},
     "output_type": "execute_result"
    }
   ],
   "source": [
    "a = np.arange(15).reshape(3, 5)\n",
    "a.shape"
   ]
  },
  {
   "cell_type": "code",
   "execution_count": 85,
   "metadata": {},
   "outputs": [
    {
     "data": {
      "text/plain": [
       "2"
      ]
     },
     "execution_count": 85,
     "metadata": {},
     "output_type": "execute_result"
    }
   ],
   "source": [
    "a.ndim"
   ]
  },
  {
   "cell_type": "code",
   "execution_count": 86,
   "metadata": {},
   "outputs": [
    {
     "data": {
      "text/plain": [
       "  C_CONTIGUOUS : True\n",
       "  F_CONTIGUOUS : False\n",
       "  OWNDATA : False\n",
       "  WRITEABLE : True\n",
       "  ALIGNED : True\n",
       "  WRITEBACKIFCOPY : False\n",
       "  UPDATEIFCOPY : False"
      ]
     },
     "execution_count": 86,
     "metadata": {},
     "output_type": "execute_result"
    }
   ],
   "source": [
    "a.flags"
   ]
  },
  {
   "cell_type": "code",
   "execution_count": 87,
   "metadata": {},
   "outputs": [
    {
     "data": {
      "text/plain": [
       "(20, 4)"
      ]
     },
     "execution_count": 87,
     "metadata": {},
     "output_type": "execute_result"
    }
   ],
   "source": [
    "a.strides"
   ]
  },
  {
   "cell_type": "code",
   "execution_count": 88,
   "metadata": {},
   "outputs": [
    {
     "data": {
      "text/plain": [
       "15"
      ]
     },
     "execution_count": 88,
     "metadata": {},
     "output_type": "execute_result"
    }
   ],
   "source": [
    "a.size"
   ]
  },
  {
   "cell_type": "code",
   "execution_count": 89,
   "metadata": {},
   "outputs": [
    {
     "data": {
      "text/plain": [
       "4"
      ]
     },
     "execution_count": 89,
     "metadata": {},
     "output_type": "execute_result"
    }
   ],
   "source": [
    "a.itemsize"
   ]
  },
  {
   "cell_type": "code",
   "execution_count": 90,
   "metadata": {},
   "outputs": [
    {
     "data": {
      "text/plain": [
       "60"
      ]
     },
     "execution_count": 90,
     "metadata": {},
     "output_type": "execute_result"
    }
   ],
   "source": [
    "a.nbytes"
   ]
  },
  {
   "cell_type": "code",
   "execution_count": 91,
   "metadata": {},
   "outputs": [
    {
     "data": {
      "text/plain": [
       "array([ 0,  1,  2,  3,  4,  5,  6,  7,  8,  9, 10, 11, 12, 13, 14])"
      ]
     },
     "execution_count": 91,
     "metadata": {},
     "output_type": "execute_result"
    }
   ],
   "source": [
    "a.base"
   ]
  },
  {
   "cell_type": "code",
   "execution_count": 92,
   "metadata": {},
   "outputs": [
    {
     "data": {
      "text/plain": [
       "array([[ 0,  5, 10],\n",
       "       [ 1,  6, 11],\n",
       "       [ 2,  7, 12],\n",
       "       [ 3,  8, 13],\n",
       "       [ 4,  9, 14]])"
      ]
     },
     "execution_count": 92,
     "metadata": {},
     "output_type": "execute_result"
    }
   ],
   "source": [
    "a.T"
   ]
  },
  {
   "cell_type": "markdown",
   "metadata": {},
   "source": [
    "## 3. Indexing"
   ]
  },
  {
   "cell_type": "markdown",
   "metadata": {},
   "source": [
    "The basic slice syntax is i:j:k which is the same as in python. Besides, when slicing in multi-dimensional array, the syntax become array\\[i:j:k, i:j:k, i:j:k\\], where the i:j:k is for the corresponding dimension.\n",
    "\n",
    "Ellipsis expand to the number of : objects needed to make a selection tuple of the same length as x.ndim. There may only be a single ellipsis present."
   ]
  },
  {
   "cell_type": "code",
   "execution_count": 154,
   "metadata": {},
   "outputs": [
    {
     "data": {
      "text/plain": [
       "array([[1, 2, 3],\n",
       "       [4, 5, 6]])"
      ]
     },
     "execution_count": 154,
     "metadata": {},
     "output_type": "execute_result"
    }
   ],
   "source": [
    "x = np.array([[[1],[2],[3]], [[4],[5],[6]],[[7],[8],[9]]])\n",
    "x[0:2:1, ..., 0]"
   ]
  },
  {
   "cell_type": "code",
   "execution_count": 159,
   "metadata": {},
   "outputs": [
    {
     "data": {
      "text/plain": [
       "array([[[[1],\n",
       "         [2],\n",
       "         [3]]],\n",
       "\n",
       "\n",
       "       [[[4],\n",
       "         [5],\n",
       "         [6]]],\n",
       "\n",
       "\n",
       "       [[[7],\n",
       "         [8],\n",
       "         [9]]]])"
      ]
     },
     "execution_count": 159,
     "metadata": {},
     "output_type": "execute_result"
    }
   ],
   "source": [
    "'''\n",
    "Each newaxis object in the selection tuple serves to expand the dimensions of the resulting selection by one unit-length dimension. \n",
    "The added dimension is the position of the newaxis object in the selection tuple.\n",
    "'''\n",
    "x[:,np.newaxis,:,:,]"
   ]
  },
  {
   "cell_type": "markdown",
   "metadata": {},
   "source": [
    "Advanced indexes always are __broadcast__ and iterated as one:\n",
    "\n",
    "`x[ind_1[i_1, ..., i_M], ind_2[i_1, ..., i_M], ..., ind_N[i_1, ..., i_M]]`\n",
    "\n",
    "From each row, a specific element should be selected. The row index is just \\[0, 1, 2\\] and the column index specifies the element to choose for the corresponding row, here \\[0, 1, 0\\]. Using both together the task can be solved using advanced indexing:"
   ]
  },
  {
   "cell_type": "code",
   "execution_count": 161,
   "metadata": {},
   "outputs": [
    {
     "data": {
      "text/plain": [
       "array([1, 4, 5])"
      ]
     },
     "execution_count": 161,
     "metadata": {},
     "output_type": "execute_result"
    }
   ],
   "source": [
    "x = np.array([[1, 2], [3, 4], [5, 6]])\n",
    "x[[0, 1, 2], [0, 1, 0]]"
   ]
  },
  {
   "cell_type": "markdown",
   "metadata": {},
   "source": [
    "It's also helpful when extract part of a matrix"
   ]
  },
  {
   "cell_type": "code",
   "execution_count": 164,
   "metadata": {
    "scrolled": true
   },
   "outputs": [
    {
     "data": {
      "text/plain": [
       "array([[ 0,  2],\n",
       "       [ 9, 11]])"
      ]
     },
     "execution_count": 164,
     "metadata": {},
     "output_type": "execute_result"
    }
   ],
   "source": [
    "x = np.array([[ 0,  1,  2], [ 3,  4,  5], [ 6,  7,  8], [ 9, 10, 11]])\n",
    "rows = np.array([[0, 0], [3, 3]], dtype=np.intp)\n",
    "# by broadcasing, rows can also be represented as sparse form like\n",
    "# rows[:, np.newaxis]\n",
    "# array([[0], [3]])\n",
    "columns = np.array([[0, 2], [0, 2]], dtype=np.intp)\n",
    "x[rows, columns]"
   ]
  },
  {
   "cell_type": "markdown",
   "metadata": {},
   "source": [
    "__Boolean array indexing__\n",
    "\n",
    "This type of advanced indexing is used when the resultant object is meant to be the result of Boolean operations, such as comparison operators."
   ]
  },
  {
   "cell_type": "code",
   "execution_count": 165,
   "metadata": {},
   "outputs": [
    {
     "data": {
      "text/plain": [
       "array([ 6,  7,  8,  9, 10, 11])"
      ]
     },
     "execution_count": 165,
     "metadata": {},
     "output_type": "execute_result"
    }
   ],
   "source": [
    "x = np.array([[ 0,  1,  2],[ 3,  4,  5],[ 6,  7,  8],[ 9, 10, 11]]) \n",
    "x[x > 5]"
   ]
  },
  {
   "cell_type": "code",
   "execution_count": 167,
   "metadata": {
    "scrolled": true
   },
   "outputs": [
    {
     "data": {
      "text/plain": [
       "array([[20, 21, 22],\n",
       "       [23, 24,  5],\n",
       "       [ 6,  7,  8],\n",
       "       [ 9, 10, 11]])"
      ]
     },
     "execution_count": 167,
     "metadata": {},
     "output_type": "execute_result"
    }
   ],
   "source": [
    "x[x < 5] += 20\n",
    "x"
   ]
  },
  {
   "cell_type": "markdown",
   "metadata": {},
   "source": [
    ">>> a = np.arange(12).reshape(3,4)\n",
    ">>> b = a > 4\n",
    ">>> b                                          # b is a boolean with a's shape\n",
    "array([[False, False, False, False],\n",
    "       [False,  True,  True,  True],\n",
    "       [ True,  True,  True,  True]])\n",
    ">>> a[b]                                       # 1d array with the selected elements\n",
    "array([ 5,  6,  7,  8,  9, 10, 11])"
   ]
  },
  {
   "cell_type": "markdown",
   "metadata": {},
   "source": [
    "## 4. Operations on ndarray\n",
    "\n",
    "### 4.0 Arithmetic Operation\n",
    "\\+ \\- \\* \\/ \\** @ < >\n",
    "\n",
    "\n",
    "### 4.1  Shape Manipulation\n",
    "Note that if no specific notifications, all method coule be access via both obj.func() or np.func(obj)\n",
    "\n",
    "Function | Descrption\n",
    "---| ---\n",
    "`reshape(a, newshape[, order])`\t| Gives a new shape to an array without changing its data.\n",
    "`ravel(a[, order])`\t            | Returns a contiguous flattened array.\n",
    "`ndarray.flat`\t                    | Gives a 1-D iterator over the array.\n",
    "`ndarray.flatten([order])`         | Return a copy of the array which collapsed into one dimension\n",
    "`squeeze(a, axis=None)` | Remove single-dimensional entries from the shape of an array.\n",
    "`transpose(a[, aes])` | Permute the dimensions of an array, same as ndarray.T when ndim > 2\n",
    "\n",
    "\n",
    "a.shape = 2,-1,3  # -1 means \"whatever is needed\""
   ]
  },
  {
   "cell_type": "code",
   "execution_count": 206,
   "metadata": {
    "scrolled": true
   },
   "outputs": [
    {
     "data": {
      "text/plain": [
       "array([[[0],\n",
       "        [2]],\n",
       "\n",
       "       [[4],\n",
       "        [6]]])"
      ]
     },
     "execution_count": 206,
     "metadata": {},
     "output_type": "execute_result"
    }
   ],
   "source": [
    "x = np.arange(8, step = 2).reshape(2,2,1)\n",
    "x"
   ]
  },
  {
   "cell_type": "code",
   "execution_count": 207,
   "metadata": {},
   "outputs": [
    {
     "data": {
      "text/plain": [
       "array([0, 2, 4, 6])"
      ]
     },
     "execution_count": 207,
     "metadata": {},
     "output_type": "execute_result"
    }
   ],
   "source": [
    "np.ravel(x)"
   ]
  },
  {
   "cell_type": "code",
   "execution_count": 203,
   "metadata": {},
   "outputs": [
    {
     "data": {
      "text/plain": [
       "array([0, 2, 4, 6])"
      ]
     },
     "execution_count": 203,
     "metadata": {},
     "output_type": "execute_result"
    }
   ],
   "source": [
    "x.flatten()"
   ]
  },
  {
   "cell_type": "code",
   "execution_count": 204,
   "metadata": {
    "scrolled": true
   },
   "outputs": [
    {
     "data": {
      "text/plain": [
       "array([0, 2, 4, 6])"
      ]
     },
     "execution_count": 204,
     "metadata": {},
     "output_type": "execute_result"
    }
   ],
   "source": [
    "#One shape dimension can be -1. In this case, the value is inferred from the length of the array and remaining dimensions.\n",
    "x.reshape(-1)"
   ]
  },
  {
   "cell_type": "code",
   "execution_count": 205,
   "metadata": {},
   "outputs": [
    {
     "data": {
      "text/plain": [
       "array([[0, 2],\n",
       "       [4, 6]])"
      ]
     },
     "execution_count": 205,
     "metadata": {},
     "output_type": "execute_result"
    }
   ],
   "source": [
    "np.squeeze(x)"
   ]
  },
  {
   "cell_type": "code",
   "execution_count": 211,
   "metadata": {
    "scrolled": true
   },
   "outputs": [
    {
     "data": {
      "text/plain": [
       "array([[[0, 4],\n",
       "        [2, 6]]])"
      ]
     },
     "execution_count": 211,
     "metadata": {},
     "output_type": "execute_result"
    }
   ],
   "source": [
    "x.T"
   ]
  },
  {
   "cell_type": "markdown",
   "metadata": {},
   "source": [
    "### 4.2 Linear Algebra\n",
    "\n",
    "\n",
    "Function | Description\n",
    "--- | ---\n",
    "trace(a\\[, offset, axis1, axis2, dtype, out\\]) |\teturn the sum along diagonals of the array.\n",
    "dot(a, b\\[, out\\])\t| Dot product of two arrays.\n",
    "vdot(a, b)\t| Return the dot product of two vectors.\n",
    "inner(a, b)\t| Inner product of two arrays.\n",
    "outer(a, b\\[, out\\])\t | Compute the outer product of two vectors.\n",
    "matmul(x1, x2, \\[, out, casting, order, …\\]) | Matrix product of two arrays.\n"
   ]
  },
  {
   "cell_type": "code",
   "execution_count": 280,
   "metadata": {},
   "outputs": [
    {
     "data": {
      "text/plain": [
       "487.33333333333326"
      ]
     },
     "execution_count": 280,
     "metadata": {},
     "output_type": "execute_result"
    }
   ],
   "source": [
    "a = np.linspace(10,3, 4)\n",
    "b = np.linspace(24,9,4)"
   ]
  },
  {
   "cell_type": "code",
   "execution_count": 281,
   "metadata": {},
   "outputs": [
    {
     "data": {
      "text/plain": [
       "487.33333333333326"
      ]
     },
     "execution_count": 281,
     "metadata": {},
     "output_type": "execute_result"
    }
   ],
   "source": [
    "a.dot(b)"
   ]
  },
  {
   "cell_type": "code",
   "execution_count": 283,
   "metadata": {},
   "outputs": [
    {
     "data": {
      "text/plain": [
       "487.33333333333326"
      ]
     },
     "execution_count": 283,
     "metadata": {},
     "output_type": "execute_result"
    }
   ],
   "source": [
    "np.vdot(a, b)"
   ]
  },
  {
   "cell_type": "code",
   "execution_count": 284,
   "metadata": {},
   "outputs": [
    {
     "data": {
      "text/plain": [
       "487.33333333333326"
      ]
     },
     "execution_count": 284,
     "metadata": {},
     "output_type": "execute_result"
    }
   ],
   "source": [
    "np.inner(a, b)"
   ]
  },
  {
   "cell_type": "code",
   "execution_count": 285,
   "metadata": {},
   "outputs": [
    {
     "data": {
      "text/plain": [
       "array([[240.        , 190.        , 140.        ,  90.        ],\n",
       "       [184.        , 145.66666667, 107.33333333,  69.        ],\n",
       "       [128.        , 101.33333333,  74.66666667,  48.        ],\n",
       "       [ 72.        ,  57.        ,  42.        ,  27.        ]])"
      ]
     },
     "execution_count": 285,
     "metadata": {},
     "output_type": "execute_result"
    }
   ],
   "source": [
    "np.outer(a, b)"
   ]
  },
  {
   "cell_type": "markdown",
   "metadata": {},
   "source": [
    "Those functions are under numpy.linalg\n",
    "\n",
    "Function | Description\n",
    "--- | ---\n",
    "matrix_power(a, n) |\tRaise a square matrix to the (integer) power n.\n",
    "multi_dot(arrays) | Compute the dot product of two or more arrays in a single function call.\n",
    "cholesky(a)\t| Cholesky decomposition.\n",
    "qr(a) | Compute the qr factorization of a matrix\n",
    "det(a)\t| Compute the determinant of an array.\n",
    "eig(a)\t| Compute the eigenvalues and right eigenvectors of a square array.\n",
    "eigh(a\\[, UPLO\\]) |Return the eigenvalues and eigenvectors of a complex Hermitian (conjugate symmetric) or a real symmetric matrix.\n",
    "eigvals(a)\t| Compute the eigenvalues of a general matrix.\n",
    "eigvalsh(a\\[, UPLO\\]) |\tCompute the eigenvalues of a complex Hermitian or real symmetric matrix.\n",
    "inv(a)\t| Compute the (multiplicative) inverse of a matrix.\n",
    "lstsq(a, b\\[, rcond\\])\t| Return the least-squares solution to a linear matrix equation.\n",
    "norm(x\\[, ord, axis, keepdims\\]) |\tMatrix or vector norm.\n",
    "pinv(a\\[, rcond\\]) |\tCompute the (Moore-Penrose) pseudo-inverse of a matrix.\n",
    "solve(a, b)\t| Solve a linear matrix equation, or system of linear scalar equations.\n",
    "svd(a\\[, full_matrices, compute_uv\\]) | Singular Value Decomposition.\n",
    "\n",
    "##### Exeptions\n",
    "linalg.LinAlgError\tGeneric Python-exception-derived object raised by linalg functions."
   ]
  },
  {
   "cell_type": "code",
   "execution_count": 233,
   "metadata": {},
   "outputs": [
    {
     "data": {
      "text/plain": [
       "array([[1, 2],\n",
       "       [0, 3]])"
      ]
     },
     "execution_count": 233,
     "metadata": {},
     "output_type": "execute_result"
    }
   ],
   "source": [
    "x = np.array([[1,2],[0,3]])\n",
    "x"
   ]
  },
  {
   "cell_type": "code",
   "execution_count": 256,
   "metadata": {},
   "outputs": [
    {
     "data": {
      "text/plain": [
       "array([[1, 8],\n",
       "       [0, 9]])"
      ]
     },
     "execution_count": 256,
     "metadata": {},
     "output_type": "execute_result"
    }
   ],
   "source": [
    "np.linalg.matrix_power(x, 2)"
   ]
  },
  {
   "cell_type": "code",
   "execution_count": 269,
   "metadata": {},
   "outputs": [
    {
     "data": {
      "text/plain": [
       "212"
      ]
     },
     "execution_count": 269,
     "metadata": {},
     "output_type": "execute_result"
    }
   ],
   "source": [
    "np.linalg.multi_dot([np.array([6, 5]), np.array([[1,5],[2,6]]),  np.array([2,3])])"
   ]
  },
  {
   "cell_type": "code",
   "execution_count": 235,
   "metadata": {},
   "outputs": [
    {
     "data": {
      "text/plain": [
       "3.0000000000000004"
      ]
     },
     "execution_count": 235,
     "metadata": {},
     "output_type": "execute_result"
    }
   ],
   "source": [
    "np.linalg.det(x)"
   ]
  },
  {
   "cell_type": "code",
   "execution_count": 240,
   "metadata": {
    "scrolled": true
   },
   "outputs": [
    {
     "name": "stdout",
     "output_type": "stream",
     "text": [
      "[1. 3.]\n",
      "[[1.         0.70710678]\n",
      " [0.         0.70710678]]\n"
     ]
    }
   ],
   "source": [
    "w, v = np.linalg.eig(x)\n",
    "print (w)\n",
    "print (v)"
   ]
  },
  {
   "cell_type": "code",
   "execution_count": 243,
   "metadata": {},
   "outputs": [
    {
     "data": {
      "text/plain": [
       "array([[ 1.        , -0.66666667],\n",
       "       [ 0.        ,  0.33333333]])"
      ]
     },
     "execution_count": 243,
     "metadata": {},
     "output_type": "execute_result"
    }
   ],
   "source": [
    "np.linalg.inv(x)"
   ]
  },
  {
   "cell_type": "code",
   "execution_count": 253,
   "metadata": {},
   "outputs": [
    {
     "data": {
      "text/plain": [
       "array([[ 1.00000000e+00, -6.66666667e-01],\n",
       "       [-2.77555756e-17,  3.33333333e-01]])"
      ]
     },
     "execution_count": 253,
     "metadata": {},
     "output_type": "execute_result"
    }
   ],
   "source": [
    "np.linalg.pinv(x)"
   ]
  },
  {
   "cell_type": "code",
   "execution_count": 249,
   "metadata": {},
   "outputs": [
    {
     "name": "stdout",
     "output_type": "stream",
     "text": [
      "Solution [-2.  2.]\n",
      "Residual []\n",
      "Rank 2\n",
      "Singular values [3.65028154 0.82185442]\n"
     ]
    }
   ],
   "source": [
    "solution, residual, rank, singular_values = np.linalg.lstsq(x, [2,6], rcond = -1)\n",
    "print(\"Solution\", solution)\n",
    "print(\"Residual\", residual)\n",
    "print(\"Rank\", rank)\n",
    "print(\"Singular values\", singular_values)"
   ]
  },
  {
   "cell_type": "markdown",
   "metadata": {},
   "source": [
    "The following norms can be calculated:<br>\n",
    "\n",
    "ord | norm for matrices | norm for vectors\n",
    "--- | --- | ---\n",
    "None |\tFrobenius norm\t|2-norm\n",
    "'fro' | Frobenius norm\t| –\n",
    "'nuc' |nuclear norm\t| –\n",
    "inf\t | max(sum(abs(x), axis=1))\t|max(abs(x))\n",
    "-inf | min(sum(abs(x), axis=1))\t|min(abs(x))\n",
    "0 |–\t|sum(x != 0)\n",
    "1\t|max(sum(abs(x), axis=0))\t|as below\n",
    "-1\t|min(sum(abs(x), axis=0))\t|as below\n",
    "2\t|2-norm (largest sing. value)|\tas below\n",
    "-2\t|smallest singular value\t|as below\n",
    "other|\t–\t|sum(abs(x)\\**ord)\\**(1./ord)\n",
    "\n",
    "The Frobenius norm is given by [1]:\n",
    " $$||A||_F = [\\sum_{i,j} abs(a_{i,j})^2]^{1/2}$$\n",
    "The nuclear norm is the sum of the singular values."
   ]
  },
  {
   "cell_type": "code",
   "execution_count": 250,
   "metadata": {},
   "outputs": [
    {
     "data": {
      "text/plain": [
       "3.7416573867739413"
      ]
     },
     "execution_count": 250,
     "metadata": {},
     "output_type": "execute_result"
    }
   ],
   "source": [
    "np.linalg.norm(x)"
   ]
  },
  {
   "cell_type": "code",
   "execution_count": 251,
   "metadata": {
    "scrolled": true
   },
   "outputs": [
    {
     "data": {
      "text/plain": [
       "array([-6.,  7.])"
      ]
     },
     "execution_count": 251,
     "metadata": {},
     "output_type": "execute_result"
    }
   ],
   "source": [
    "np.linalg.solve(x, [8, 21])"
   ]
  },
  {
   "cell_type": "code",
   "execution_count": 252,
   "metadata": {},
   "outputs": [
    {
     "name": "stdout",
     "output_type": "stream",
     "text": [
      "u [[ 0.58471028 -0.81124219]\n",
      " [ 0.81124219  0.58471028]]\n",
      "s [3.65028154 0.82185442]\n",
      "vh [[ 0.16018224  0.98708746]\n",
      " [-0.98708746  0.16018224]]\n"
     ]
    }
   ],
   "source": [
    "u, s, vh = np.linalg.svd(x, full_matrices=True)\n",
    "print(\"u\", u)\n",
    "print(\"s\", s)\n",
    "print(\"vh\", vh)"
   ]
  },
  {
   "cell_type": "markdown",
   "metadata": {},
   "source": [
    "### 4.3 Statistics\n",
    "sum()\n",
    "min(axis = )\n",
    "max(axis = )\n",
    "cumsum(axis=1)"
   ]
  },
  {
   "cell_type": "markdown",
   "metadata": {},
   "source": [
    ">>> c = a.view()\n",
    ">>> c is a\n",
    "False\n",
    ">>> c.base is a                        # c is a view of the data owned by a\n",
    "True\n",
    ">>> c.flags.owndata\n",
    "False\n",
    ">>>\n",
    ">>> c.shape = 2,6                      # a's shape doesn't change\n",
    ">>> a.shape\n",
    "(3, 4)\n",
    ">>> c[0,4] = 1234                      # a's data changes\n",
    ">>> a\n",
    "array([[   0,    1,    2,    3],\n",
    "       [1234,    5,    6,    7],\n",
    "       [   8,    9,   10,   11]])"
   ]
  },
  {
   "cell_type": "markdown",
   "metadata": {},
   "source": [
    "## 5. Numerical Ranges\n",
    "\n",
    "### 5.1 Linear space\n",
    "\n",
    "`numpy.arange([start, ]stop, [step, ]dtype=None)` returns evenly spaced values within a given interval. \n",
    " - Values are generated within the half-open interval [start, stop) \n",
    "\n",
    "When using a non-integer step, such as 0.1, the results will often not be consistent. It is better to use numpy.linspace for these cases.\n",
    "`numpy.linspace(start, stop, num=50, endpoint=True, retstep=False, dtype=None, axis=0)`"
   ]
  },
  {
   "cell_type": "code",
   "execution_count": 94,
   "metadata": {},
   "outputs": [
    {
     "data": {
      "text/plain": [
       "array([3, 5])"
      ]
     },
     "execution_count": 94,
     "metadata": {},
     "output_type": "execute_result"
    }
   ],
   "source": [
    "np.arange(3,7,2)"
   ]
  },
  {
   "cell_type": "code",
   "execution_count": 93,
   "metadata": {},
   "outputs": [
    {
     "data": {
      "text/plain": [
       "array([2. , 2.2, 2.4, 2.6, 2.8])"
      ]
     },
     "execution_count": 93,
     "metadata": {},
     "output_type": "execute_result"
    }
   ],
   "source": [
    "np.linspace(2.0, 3.0, num=5, endpoint=False)"
   ]
  },
  {
   "cell_type": "markdown",
   "metadata": {},
   "source": [
    "### 5.2 Log space\n",
    "`numpy.logspace(start, stop, num=50, endpoint=True, base=10.0, dtype=None, axis=0)` starts at base ** start (base to the power of start) and ends with base ** stop (see endpoint below).\n",
    "\n",
    "`numpy.geomspace(start, stop, num=50, endpoint=True, dtype=None, axis=0)` specify endpoints as numbers explicitly\n",
    " - endpoint : bool, optional\n",
    "    - If True, stop is the last sample. Otherwise, it is not included. Default is True.\n",
    " - retstep : bool, optional\n",
    "    - If True, return (samples, step), where step is the spacing between samples."
   ]
  },
  {
   "cell_type": "code",
   "execution_count": 98,
   "metadata": {},
   "outputs": [
    {
     "data": {
      "text/plain": [
       "array([ 4,  8, 16, 32, 64])"
      ]
     },
     "execution_count": 98,
     "metadata": {},
     "output_type": "execute_result"
    }
   ],
   "source": [
    "np.logspace(2.0, 6.0, base = 2, num= 5, dtype = int)"
   ]
  },
  {
   "cell_type": "code",
   "execution_count": 99,
   "metadata": {
    "scrolled": true
   },
   "outputs": [
    {
     "data": {
      "text/plain": [
       "array([ 4.,  8., 16., 32., 64.])"
      ]
     },
     "execution_count": 99,
     "metadata": {},
     "output_type": "execute_result"
    }
   ],
   "source": [
    "np.geomspace(4, 64, num=5)"
   ]
  },
  {
   "cell_type": "markdown",
   "metadata": {},
   "source": [
    "### 5.3 Mesh Grid\n",
    "\n",
    "`numpy.meshgrid(*xi, indexing = 'ij', sparse = False, copy = True)` Return coordinate matrices from coordinate vectors.\n",
    " - indexing : {‘xy’, ‘ij’}, Cartesian (‘xy’, default) or matrix (‘ij’) indexing of output\n",
    " - sparse : bool, optional. If True a sparse grid is returned in order to conserve memory."
   ]
  },
  {
   "cell_type": "code",
   "execution_count": 107,
   "metadata": {},
   "outputs": [
    {
     "name": "stdout",
     "output_type": "stream",
     "text": [
      "[[-5.  -4.5 -4.  -3.5 -3.  -2.5 -2.  -1.5 -1.  -0.5  0.   0.5  1.   1.5\n",
      "   2.   2.5  3.   3.5  4.   4.5]]\n",
      "[[-5. ]\n",
      " [-4.5]\n",
      " [-4. ]\n",
      " [-3.5]\n",
      " [-3. ]\n",
      " [-2.5]\n",
      " [-2. ]\n",
      " [-1.5]\n",
      " [-1. ]\n",
      " [-0.5]\n",
      " [ 0. ]\n",
      " [ 0.5]\n",
      " [ 1. ]\n",
      " [ 1.5]\n",
      " [ 2. ]\n",
      " [ 2.5]\n",
      " [ 3. ]\n",
      " [ 3.5]\n",
      " [ 4. ]\n",
      " [ 4.5]]\n"
     ]
    },
    {
     "name": "stderr",
     "output_type": "stream",
     "text": [
      "C:\\ProgramData\\Miniconda3\\lib\\site-packages\\ipykernel_launcher.py:7: RuntimeWarning: invalid value encountered in true_divide\n",
      "  import sys\n"
     ]
    },
    {
     "data": {
      "image/png": "[encoded data removed]",
      "text/plain": [
       "<Figure size 432x288 with 1 Axes>"
      ]
     },
     "metadata": {
      "needs_background": "light"
     },
     "output_type": "display_data"
    }
   ],
   "source": [
    "x = np.arange(-5, 5, 0.5)\n",
    "y = np.arange(-5, 5, 0.5)\n",
    "xx, yy = np.meshgrid(x, y, sparse = True)\n",
    "print (xx)\n",
    "print (yy)\n",
    "\n",
    "z = np.sin(xx**2 + yy**2) / (xx**2 + yy**2)\n",
    "plt.contourf(x,y,z)\n",
    "plt.show()"
   ]
  },
  {
   "cell_type": "markdown",
   "metadata": {},
   "source": [
    "`numpy.mgrid\\[start:stop:step\\]` returns a dense multi-dimensional “meshgrid”.\n",
    "\n",
    "> Having meshed arrays like this is sometimes very useful. However, it is not always needed just to evaluate some N-dimensional function over a grid due to the array-broadcasting rules of NumPy and SciPy. If this is the only purpose for generating a meshgrid, you should instead use the function ogrid which generates an “open” grid using newaxis judiciously to create N, N-d arrays where only one dimension in each array has length greater than 1. This will save memory and create the same result if the only purpose for the meshgrid is to generate sample points for evaluation of an N-d function.\n",
    "\n",
    "`numpy.ogrid\\[start:stop:setp\\]` returns an open multi-dimensional “meshgrid”.\n",
    " - If the step length is not a complex number, then the stop is not inclusive.\n",
    " - If the step length is a complex number (e.g. 5j), then the integer part of its magnitude is interpreted as specifying the number of points to create between the start and stop values, where the stop value is inclusive."
   ]
  },
  {
   "cell_type": "code",
   "execution_count": 109,
   "metadata": {
    "scrolled": true
   },
   "outputs": [
    {
     "data": {
      "text/plain": [
       "[array([[0],\n",
       "        [1],\n",
       "        [2],\n",
       "        [3],\n",
       "        [4]]), array([[0, 1, 2, 3, 4]])]"
      ]
     },
     "execution_count": 109,
     "metadata": {},
     "output_type": "execute_result"
    }
   ],
   "source": [
    "np.ogrid[0:5,0:5]"
   ]
  },
  {
   "cell_type": "code",
   "execution_count": 110,
   "metadata": {
    "scrolled": true
   },
   "outputs": [
    {
     "data": {
      "text/plain": [
       "array([-1. , -0.5,  0. ,  0.5,  1. ])"
      ]
     },
     "execution_count": 110,
     "metadata": {},
     "output_type": "execute_result"
    }
   ],
   "source": [
    "np.ogrid[-1:1:5j]"
   ]
  },
  {
   "cell_type": "code",
   "execution_count": 111,
   "metadata": {
    "scrolled": true
   },
   "outputs": [
    {
     "data": {
      "text/plain": [
       "array([[[0, 0, 0, 0, 0],\n",
       "        [1, 1, 1, 1, 1],\n",
       "        [2, 2, 2, 2, 2],\n",
       "        [3, 3, 3, 3, 3],\n",
       "        [4, 4, 4, 4, 4]],\n",
       "\n",
       "       [[0, 1, 2, 3, 4],\n",
       "        [0, 1, 2, 3, 4],\n",
       "        [0, 1, 2, 3, 4],\n",
       "        [0, 1, 2, 3, 4],\n",
       "        [0, 1, 2, 3, 4]]])"
      ]
     },
     "execution_count": 111,
     "metadata": {},
     "output_type": "execute_result"
    }
   ],
   "source": [
    "np.mgrid[0:5,0:5]"
   ]
  },
  {
   "cell_type": "code",
   "execution_count": 112,
   "metadata": {
    "scrolled": true
   },
   "outputs": [
    {
     "data": {
      "text/plain": [
       "array([-1. , -0.5,  0. ,  0.5,  1. ])"
      ]
     },
     "execution_count": 112,
     "metadata": {},
     "output_type": "execute_result"
    }
   ],
   "source": [
    "np.mgrid[-1:1:5j]"
   ]
  },
  {
   "cell_type": "markdown",
   "metadata": {},
   "source": [
    "### 6. Array Iterators"
   ]
  },
  {
   "cell_type": "code",
   "execution_count": 171,
   "metadata": {},
   "outputs": [
    {
     "name": "stdout",
     "output_type": "stream",
     "text": [
      "item: [[10 11]\n",
      " [12 13]]\n",
      "item: [[14 15]\n",
      " [16 17]]\n",
      "item: [[18 19]\n",
      " [20 21]]\n"
     ]
    }
   ],
   "source": [
    "# Default Iteration\n",
    "a = np.arange(12).reshape(3,2,2)+10\n",
    "for val in a:\n",
    "    print ('item:', val)"
   ]
  },
  {
   "cell_type": "code",
   "execution_count": 173,
   "metadata": {},
   "outputs": [
    {
     "name": "stdout",
     "output_type": "stream",
     "text": [
      "0 10\n",
      "1 11\n",
      "2 12\n",
      "3 13\n",
      "4 14\n",
      "5 15\n",
      "6 16\n",
      "7 17\n",
      "8 18\n",
      "9 19\n",
      "10 20\n",
      "11 21\n"
     ]
    }
   ],
   "source": [
    "# Flat iteration\n",
    "for i, val in enumerate(a.flat):\n",
    "    print (i, val)"
   ]
  },
  {
   "cell_type": "code",
   "execution_count": 175,
   "metadata": {
    "scrolled": true
   },
   "outputs": [
    {
     "name": "stdout",
     "output_type": "stream",
     "text": [
      "(0, 0, 0) 10\n",
      "(0, 0, 1) 11\n",
      "(0, 1, 0) 12\n",
      "(0, 1, 1) 13\n",
      "(1, 0, 0) 14\n",
      "(1, 0, 1) 15\n",
      "(1, 1, 0) 16\n",
      "(1, 1, 1) 17\n",
      "(2, 0, 0) 18\n",
      "(2, 0, 1) 19\n",
      "(2, 1, 0) 20\n",
      "(2, 1, 1) 21\n"
     ]
    }
   ],
   "source": [
    "# N-dimensional enumeration\n",
    "for i, val in np.ndenumerate(a):\n",
    "    print (i, val)"
   ]
  },
  {
   "cell_type": "code",
   "execution_count": 176,
   "metadata": {
    "scrolled": true
   },
   "outputs": [
    {
     "name": "stdout",
     "output_type": "stream",
     "text": [
      "(1, 0)\n",
      "(0, 1)\n",
      "(2, 0)\n",
      "(3, 1)\n"
     ]
    }
   ],
   "source": [
    "# Iterator for broadcasting\n",
    "for val in np.broadcast([[1,0],[2,3]],[0,1]):\n",
    "    print (val)"
   ]
  },
  {
   "cell_type": "markdown",
   "metadata": {},
   "source": [
    "5 IO\n",
    "https://docs.scipy.org/doc/numpy/reference/routines.io.html\n",
    "6 random sampling\n",
    "https://docs.scipy.org/doc/numpy/reference/routines.random.html\n",
    "7 stat\n",
    "https://docs.scipy.org/doc/numpy/reference/routines.statistics.html"
   ]
  }
 ],
 "metadata": {
  "kernelspec": {
   "display_name": "Python 3",
   "language": "python",
   "name": "python3"
  },
  "language_info": {
   "codemirror_mode": {
    "name": "ipython",
    "version": 3
   },
   "file_extension": ".py",
   "mimetype": "text/x-python",
   "name": "python",
   "nbconvert_exporter": "python",
   "pygments_lexer": "ipython3",
   "version": "3.6.7"
  }
 },
 "nbformat": 4,
 "nbformat_minor": 2
}
