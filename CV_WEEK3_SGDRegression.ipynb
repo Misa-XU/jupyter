{
 "cells": [
  {
   "cell_type": "markdown",
   "metadata": {},
   "source": [
    "# 数据"
   ]
  },
  {
   "cell_type": "code",
   "execution_count": 10,
   "metadata": {},
   "outputs": [],
   "source": [
    "from argparse import Namespace\n",
    "import matplotlib.pyplot as plt\n",
    "import numpy as np\n",
    "import random"
   ]
  },
  {
   "cell_type": "code",
   "execution_count": 63,
   "metadata": {},
   "outputs": [],
   "source": [
    "class SGDRegression(object):\n",
    "    def __init__(self, train_size, max_iter):\n",
    "        self.train_size = int(train_size)\n",
    "        self.learning_rate = 0.0006\n",
    "        self.max_iter = max_iter\n",
    "        self.batch_size = int(train_size - 1)\n",
    "        self.theta = np.array([1.0, 1.0])\n",
    "    \n",
    "    def train(self, x_train, y_train):\n",
    "        # 初始化\n",
    "        num_samples = len(x_train[0])\n",
    "        pred_y = np.zeros(len(x_train[0]))\n",
    "        self.loss = np.zeros(self.max_iter)\n",
    "        tag = 0\n",
    "        for i in range(self.max_iter):\n",
    "            # 从x_list中随机选择train_size个样本，返回选中的x_list的元素位置\n",
    "            batch_idxs = np.random.choice(len(x_train[0]), self.batch_size)\n",
    "            x_train_batch = np.array([x_train[:, j] for j in batch_idxs]).T\n",
    "            y_train_batch = np.array([y_train[j] for j in batch_idxs])\n",
    "            self.cal_step_gradient(x_train_batch, y_train_batch)\n",
    "            self.loss[i] = self.eval_loss(x_train, y_train)\n",
    "        print('loss is {0}'.format(self.eval_loss(x_train, y_train)))\n",
    "        itera = np.array(range(self.max_iter))\n",
    "    \n",
    "    def cal_step_gradient(self, x_train_batch, y_train_batch):\n",
    "        avg_dtheta = np.array([0.0, 0.0])\n",
    "        for i in range(self.batch_size):\n",
    "            pred_y = self.hypothesis(x_train_batch[:, i])  # 计算预测值\n",
    "            dw, db = self.gradient(pred_y, y_train_batch[i], x_train_batch[:, i])  # 计算当前步的梯度\n",
    "            avg_dtheta[1] += db\n",
    "            avg_dtheta[0] += dw\n",
    "        avg_dtheta[1] /= self.batch_size\n",
    "        avg_dtheta[0] /= self.batch_size\n",
    "        self.theta[1] -= self.learning_rate * avg_dtheta[1]\n",
    "        self.theta[0] -= self.learning_rate * avg_dtheta[0]\n",
    "            \n",
    "    def hypothesis(self, x_train):\n",
    "        return self.theta @ x_train\n",
    "    \n",
    "    # gradient: get dw & db\n",
    "    # 这里应该是得到损失函数关于各个参数的导数，dJ/dw 和 dJ/db\n",
    "    def gradient(self, pred_y, gt_y, x):\n",
    "        diff = pred_y - gt_y   # 这里对应的是损失函数的导数，gt_y = ground true 真实值，已知的\n",
    "        dw = diff * x[0]          # pred_y 是hypothesis算出来的\n",
    "        db = diff\n",
    "        return dw, db\n",
    "    \n",
    "    # 评价函数,其实计算的是损失函数\n",
    "    def eval_loss(self, x_train, y_train):\n",
    "        return np.mean(0.5 * (self.hypothesis(x_train) - y_train) ** 2)\n",
    "        \n",
    "    \n",
    "    \n",
    "    def pred(self, x_train):\n",
    "        pred_y = np.zeros(len(x_train))\n",
    "        for i in range(len(x_train)):\n",
    "            pred_y[i] = self.hypohesis(x_train[i])\n",
    "        return pred_y"
   ]
  },
  {
   "cell_type": "code",
   "execution_count": 48,
   "metadata": {},
   "outputs": [],
   "source": [
    "# 生成样本数据\n",
    "def gen_sample_data(theta, num_samples):\n",
    "    x_list = np.array([[i, 1] for i in range(num_samples)]).T\n",
    "    y_list = theta @ x_list\n",
    "    #y_list += np.random.normal(size = y_list.size)\n",
    "    y_list += np.random.randn(y_list.size)\n",
    "    return x_list, y_list"
   ]
  },
  {
   "cell_type": "code",
   "execution_count": 28,
   "metadata": {},
   "outputs": [],
   "source": [
    "def train_test_split(x_list, y_list, train_size, seed):\n",
    "    random.seed(seed)    # 设置随机种子来保证实验结果的可重复性。\n",
    "    x_train = random.sample(tuple(x_list[0]), int(len(x_list[0]) * train_size))  # 从x_list中取75%个不重复的样本当做训练数据集\n",
    "    y_train = [y_list[list(x_list[0]).index(j)] for j in x_train]\n",
    "    x_test = [x_list[:, j] for j in range(len(x_list[0])) if x_list[0, j] not in x_train]\n",
    "    y_test = [y_list[j] for j in range(len(y_list)) if y_list[j] not in y_train]\n",
    "    x_train = np.array(x_train)\n",
    "    x_train = x_train[np.newaxis, :]\n",
    "    one = np.ones(len(x_train[0]))\n",
    "    one = one[np.newaxis, :]\n",
    "    x_train = np.append(x_train, one, axis = 0)\n",
    "    y_train = np.array(y_train)\n",
    "    x_test = np.array(x_test).T\n",
    "    y_test = np.array(y_test)\n",
    "    return x_train, y_train, x_test, y_test"
   ]
  },
  {
   "cell_type": "code",
   "execution_count": 68,
   "metadata": {},
   "outputs": [],
   "source": [
    "def run():\n",
    "    # 给定参数\n",
    "    # 利用Namespace把参数储存起来\n",
    "    args = Namespace(\n",
    "        seed = 1234,          # 指定随机种子，目的是为了使每一次生成的随机一致,伪随机数\n",
    "        num_samples = 100,    # 指定样本数量\n",
    "        train_size = 0.75,    # 训练数据集的大小\n",
    "        test_size = 0.25,     # 测试数据集的大下\n",
    "        num_epochs = 100,     # 迭代次数\n",
    "        #learning_rate = 0.0005  # 学习率\n",
    "    )\n",
    "    np.random.seed(args.seed)    # 设置随机种子来保证实验结果的可重复性。\n",
    "    #theta = np.array([np.random.randint(0, 10) + np.random.random(), np.random.randint(0, 5) + np.random.random()])   # random.random()是随机加了点噪声\n",
    "    theta = np.array([0.8, 6])\n",
    "    print('b_ori:', theta[1])\n",
    "    print('w_ori:', theta[0])\n",
    "    # 生成数据集\n",
    "    x_list, y_list= gen_sample_data(theta, args.num_samples)\n",
    "    # 划分训练集和测试集\n",
    "    x_train, y_train, x_test, y_test = train_test_split(x_list, y_list, args.train_size, args.seed)\n",
    "    lm = SGDRegression(args.train_size * args.num_samples, args.num_epochs)\n",
    "    lm.train(x_train, y_train)\n",
    "    print(lm.loss[:100])\n",
    "    plt.plot(lm.loss[:])\n",
    "    print('w:', lm.theta[0])\n",
    "    print('b:', lm.theta[1])"
   ]
  },
  {
   "cell_type": "code",
   "execution_count": 69,
   "metadata": {
    "scrolled": true
   },
   "outputs": [
    {
     "name": "stdout",
     "output_type": "stream",
     "text": [
      "b_ori: 6.0\n",
      "w_ori: 0.8\n",
      "loss is 8.265485409734888\n",
      "[44.18265953 57.10535858 60.59752537 33.56290285 15.40111819 13.15996861\n",
      "  9.30285054  8.11408481  4.91817172  4.57317539  6.13465198  7.29279092\n",
      "  7.88899305  8.39084588  8.86869976  9.42371624  7.8784386   7.66293496\n",
      "  6.75687481  7.81583058  5.743089    5.84375216  5.09855628  4.45834764\n",
      "  4.32506991  4.33521904  4.20195267  4.09974822  4.04012246  4.06353766\n",
      "  4.03219225  4.03357069  4.05565286  4.04454378  4.23860058  4.09818368\n",
      "  4.45270115  5.00245345  4.36214814  4.25634484  4.03610156  4.02665777\n",
      "  4.08308257  4.17323079  4.34338934  4.18456388  4.2304414   4.5387204\n",
      "  4.17685964  4.21164242  4.41286568  4.70420903  4.16695054  4.00610325\n",
      "  4.0715731   4.03585088  4.00689695  4.06269133  4.32908384  4.7509369\n",
      "  3.99750914  3.99905839  3.99953761  4.16515483  4.05900041  3.99843176\n",
      "  4.06386431  4.25585112  4.09765741  4.08575574  4.11115397  4.07386984\n",
      "  4.93917029  5.39818206  6.42493582  7.25416197  5.44452383  5.49118504\n",
      "  7.63881159  7.85693643  9.53042889  9.89720375 11.43506518 15.50348911\n",
      " 22.32348838 15.14502775 26.51970918 20.13976023 10.86950983 10.48949844\n",
      "  8.6413091   9.66434766  7.88531893  6.81259259  6.63291205  6.95615758\n",
      "  4.79037845  5.22288451  6.85826842  8.26548541]\n",
      "w: 0.925107954801016\n",
      "b: 1.0813922135751048\n"
     ]
    },
    {
     "data": {
      "image/png": "[encoded data removed]",
      "text/plain": [
       "<Figure size 432x288 with 1 Axes>"
      ]
     },
     "metadata": {
      "needs_background": "light"
     },
     "output_type": "display_data"
    }
   ],
   "source": [
    "# lr = 0.0001   max_iter = 100     \n",
    "if __name__ == '__main__':\n",
    "    run()"
   ]
  },
  {
   "cell_type": "code",
   "execution_count": null,
   "metadata": {},
   "outputs": [],
   "source": []
  }
 ],
 "metadata": {
  "kernelspec": {
   "display_name": "Python 3",
   "language": "python",
   "name": "python3"
  },
  "language_info": {
   "codemirror_mode": {
    "name": "ipython",
    "version": 3
   },
   "file_extension": ".py",
   "mimetype": "text/x-python",
   "name": "python",
   "nbconvert_exporter": "python",
   "pygments_lexer": "ipython3",
   "version": "3.6.7"
  }
 },
 "nbformat": 4,
 "nbformat_minor": 2
}
