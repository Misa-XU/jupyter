{
 "cells": [
  {
   "cell_type": "markdown",
   "metadata": {},
   "source": [
    "## Threshold\n",
    "\n",
    "`cv.AdaptiveThreshold(src, dst, maxValue, adaptive_method=CV_ADAPTIVE_THRESH_MEAN_C, thresholdType=CV_THRESH_BINARY, blockSize=3, param1=5) → None`\n",
    "\n",
    "`cv.threshold(src, thresh, maxval, type[, dst])`\n",
    "\n",
    "Parameters:\t\n",
    "- src – Source 8-bit single-channel image.\n",
    "- dst – Destination image of the same size and the same type as src .\n",
    "- maxValue – Non-zero value assigned to the pixels for which the condition is satisfied. See the details below.\n",
    "- adaptiveMethod – Adaptive thresholding algorithm to use, ADAPTIVE_THRESH_MEAN_C or ADAPTIVE_THRESH_GAUSSIAN_C . See the details below.\n",
    "- thresholdType – Thresholding type that must be either THRESH_BINARY or THRESH_BINARY_INV .\n",
    "- blockSize – Size of a pixel neighborhood that is used to calculate a threshold value for the pixel: 3, 5, 7, and so on.\n",
    "- C – Constant subtracted from the mean or weighted mean (see the details below). Normally, it is positive but may be zero or negative as well.\n",
    "\n",
    "Type | Formula\n",
    "--- | ---\n",
    "THRESH_BINARY | $$dst(x,y) =  \\begin{cases}{\\texttt{maxValue}} & {\\text{if src}(x,y) > T(x,y)} \\\\ {0} & \\text{otherwise}\\end{cases}$$\n",
    "THRESH_BINARY_INV | $$dst(x,y) = \\begin{cases} 0 & \\text{if src(x,y)} > T(x,y) \\\\ \\texttt{maxValue} & \\text{otherwise} \\end{cases}$$\n",
    "THRESH_TRUNC | $$dst(x,y)= \\begin{cases} \\texttt{threshold} & \\text{if} \\text{src}(x,y)> \\text{thresh} \\\\ 0 & \\text{otherwise} \\end{cases}$$ \n",
    "THRESH_TOZERO | $$dst(x,y)= \\begin{cases} src(x,y) & \\text{if src}(x,y) > \\text{thresh} \\\\ 0 & \\text{otherwise} \\end{cases}$$\n",
    "THRESH_TOZERO_INV | $$dst(x,y)= \\begin{cases} 0 & \\text{if src}(x,y) > \\text{thresh} \\\\ \\text{src}(x,y) & \\text{otherwise} \\end{cases}$$\n",
    "\n",
    "\n",
    "where T(x,y) is a threshold calculated individually for each pixel.\n",
    "\n",
    "For the method ADAPTIVE_THRESH_MEAN_C , the threshold value T(x,y) is a mean of the $\\texttt{blockSize} \\times \\texttt{blockSize}$ neighborhood of (x, y) minus C .\n",
    "For the method ADAPTIVE_THRESH_GAUSSIAN_C , the threshold value T(x, y) is a weighted sum (cross-correlation with a Gaussian window) of the $\\texttt{blockSize} \\times \\texttt{blockSize}$ neighborhood of (x, y) minus C. The default sigma (standard deviation) is used for the specified blockSize."
   ]
  },
  {
   "cell_type": "markdown",
   "metadata": {},
   "source": [
    "## Ordered Sets\n",
    "A (non-strict) partial order is a __binary relation__ $\\le$ over a set P satisfying particular axioms which are discussed below. When $a ≤ b$, we say that a is related to b. (This does not imply that b is also related to a, because the relation need not be symmetric.)\n",
    "\n",
    "The axioms for a non-strict partial order state that the relation $≤$ is __reflexive__, __antisymmetric__, and __transitive__. That is, $\\forall a, b, c \\in P$, it must satisfy:\n",
    "- $a ≤ a$ (reflexivity: every element is related to itself).\n",
    "- if $a ≤ b$ and $b ≤ a$, then a = b (antisymmetry: two distinct elements cannot be related in both directions).\n",
    "- if $a ≤ b$ and $b ≤ c$, then $a ≤ c$ (transitivity: if a first element is related to a second element, and, in turn, that element is related to a third element, then the first element is related to the third element).\n",
    "\n",
    "Given a, b from a partially ordered set P, if $a ≤ b$ or $b ≤ a$, then a and b are __comparable__. Otherwise they are __incomparable__. For example, {x} and {x,y,z} are comparable, while {x} and {y} are not. A partial order under which every pair of elements is comparable is called a __total order__ or __linear order__; a totally ordered set is also called a __chain__. A subset of a poset in which no two distinct elements are comparable is called an antichain (e.g. the set of singletons {{x}, {y}, {z}}). An element a is said to be __strictly less__ than an element b if $a ≤ b$ and $a≠b$. An element a is said to be __covered__ by another element b, written a<:b, if a is strictly less than b and no third element c fits between them.\n",
    "\n",
    "## Lattice\n",
    "If (L, ≤) is a partially ordered set (poset), and S ⊆ L is an arbitrary subset, then an element u ∈ L is said to be an __upper bound__ of S if $s ≤ u$ for each $s ∈ S$. A set may have many upper bounds, or none at all. An upper bound u of S is said to be its __least upper bound__, or __join__, or __supremum__, if $u ≤ x$ for each upper bound $x$ of $S$. A set need not have a __least upper bound__, but it cannot have more than one. \n",
    "\n",
    "Dually, $l ∈ L$ is said to be a lower bound of S if $l ≤ s$ for each $s ∈ S$. A lower bound l of S is said to be its __greatest lower bound__, or __meet__, or __infimum__, if x ≤ l for each lower bound x of S. A set may have many lower bounds, or none at all, but can have at most one greatest lower bound.\n",
    "\n",
    "A partially ordered set (L, ≤) is called a __join-semilattice__ if each two-element subset {a, b} ⊆ L has a __join__, and is called a __meet-semilattice__ if each two-element subset has a meet, denoted by $a ∨ b$ and $a ∧ b$ respectively. $(L, ≤)$ is called a __lattice__ if it is both a join- and a meet-semilattice. This definition makes ∨ and ∧ binary operations. Both operations are monotone with respect to the order: $a1 ≤ a2$ and $b1 ≤ b2$ implies that $a1 ∨ b1 ≤ a2 ∨ b2$ and $a1 ∧ b1$ ≤ $a2 ∧ b2$.\n",
    "\n",
    "## Mathematical Morphology\n",
    "Morphology is the study of shape. Mathematical morphology mostly deals with the mathematical theory of describing shapes using sets. In image processing, mathematical morphology is used to investigate the interaction between an image and a certain chosen structuring element using the basic operations of erosion and dilation. \n",
    "\n",
    "Now extending the partial ordering to digital images by applying the rules to the individual pixels. For example, for two images $f$ and $g$, the relation $f \\le g$ holds if\n",
    "$$f \\le g \\iff \\forall x: f(x) \\le g(x)$$\n",
    "And then \n",
    "$$\\begin{align*}\n",
    "\\max\\{f, g\\}(x) & = \\max\\{f(x), g(x)\\} \\\\\n",
    "\\min\\{f, g\\}(x) & = \\min\\{f(x), g(x)\\}\n",
    "\\end{align*}$$\n",
    "\n",
    "#### Complement\n",
    "The complement $X^c$ of a set $X$ is defined as all elements not belonging to $X$. For an image $f$ with a range $\\{L,...,M\\}$, the complement $f^c$ is defined as $f$ mirrored in a central gray-value line and it could be written as \n",
    "$$f^c(x, y) = L + M - f(x, y)$$\n",
    "![](dataset/c.png)\n",
    "#### Operators\n",
    "- Two operators $\\varphi_1$ and $\\varphi_2$ are called __dual__ if\n",
    "$$\\forall f: \\varphi_1(f^c) = (\\varphi_2(f))^c$$\n",
    "- And then __self-dual__ if\n",
    "$$\\forall f: \\varphi(f^c) = (\\varphi(f))^c$$\n",
    "- An operator $\\varphi$ is called __increasing__ if it does not change the order of images:\n",
    "$$\\forall f, g: f \\le g \\iff \\varphi(f) \\le \\varphi(g)$$\n",
    "- An operator $\\varphi$ is called __extensive__ if the output is always larger than the inputs\n",
    "$$\\forall f: f \\le \\varphi(f)$$\n",
    "- And if the reverse holds, then it's called __anti-extensive__:\n",
    "$$\\forall f: f \\ge \\varphi(f)$$\n",
    "- An operator $\\varphi$ is called __idempotent__ if applying the operator more than once has no effect:\n",
    "$$\\forall f: \\varphi(\\varphi(f)) = \\varphi(f)$$"
   ]
  },
  {
   "cell_type": "markdown",
   "metadata": {},
   "source": [
    "#### Image as Set\n",
    "Now we regard a grayscale image $f$ as a stack of sets F with the relation. Then we could apply set operators on it.\n",
    "$$F(c) = \\{(x, y) | f(x, y) \\ge c\\}$$\n",
    "![](dataset/f.png)"
   ]
  },
  {
   "cell_type": "markdown",
   "metadata": {},
   "source": [
    "### Dilation\n",
    "A dilation $\\delta(X)$ of a binary image X by the structuring element $S$ is defined by\n",
    "$$\\delta(X) = \\{s + x | x \\in X \\text{ and } s \\in S \\}$$\n",
    "More intuitively, it means that placing the s anywhere in the image, if it hits the set, make the location of origin be part of the dilated set.\n",
    "If $S$ is not symmetrical, we must ust its transpose $\\check{S}$ in the above summation, which is \n",
    "$$ \\check{S} = \\{s| -s \\in S\\}$$\n",
    "\n",
    "X| S\n",
    "--- | ---\n",
    "<img src='dataset/x.png'>| <img src='dataset/s.png'>\n",
    "$X = \\{(2, 2), (3, 2)\\}$ | $S = \\{(-1, -1), (-1, 0), (-1, 1),...,(1, 1)\\}$\n",
    "\n",
    "### Erosion\n",
    "Its dual operation is called __erosion__, which is defined by\n",
    "$$\\epsilon(X) = \\{x|\\forall s \\in S, x + s \\in X\\}$$"
   ]
  }
 ],
 "metadata": {
  "kernelspec": {
   "display_name": "Python 3",
   "language": "python",
   "name": "python3"
  },
  "language_info": {
   "codemirror_mode": {
    "name": "ipython",
    "version": 3
   },
   "file_extension": ".py",
   "mimetype": "text/x-python",
   "name": "python",
   "nbconvert_exporter": "python",
   "pygments_lexer": "ipython3",
   "version": "3.6.7"
  }
 },
 "nbformat": 4,
 "nbformat_minor": 2
}
