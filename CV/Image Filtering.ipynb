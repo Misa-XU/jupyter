{
 "cells": [
  {
   "cell_type": "markdown",
   "metadata": {},
   "source": [
    "### Linear Shift-Invariant Image Filtering\n",
    "\n",
    "Generally, filtering means neiborhood operation. And the term \"linear shift-invariant image filtering\" means to replace the pixels by a linear combination of their neighbors via a same rule. The rule is determined by the __kernal__ of the filtering. Note that the \n",
    "\n",
    "For example, $g[\\cdot, \\cdot] = \\frac{1}{9}\\, \\begin{bmatrix}1& 1& 1\\\\ 1& 1& 1\\\\ 1& 1& 1\\end{bmatrix}$ is called the __box filter__.\n",
    "Then get the output $h[m,n]$ given kernal $g$ and signal $f[m, n]$ by 'convolution'\n",
    "$$h[m, n] = \\sum_{i, j} g[i, j]f[m + j, n + j]$$\n",
    "It's not the convolution in _'Signals and Systems'_, and the idea is not similar.\n",
    "Although $h(x) * g(x)$ is actually $g(x) * h(x)$, but here, in cv, we shift the image, not the _response_. It's more like a image to pass across a filter, not a filter processing a image\n",
    "\n",
    "Another filter commonly used to blur an image is Gaussian Filter. Theoretically, it's \n",
    "$$g(i, j) = \\frac{1}{2\\pi \\sigma^2} exp^{-\\frac{j^2 + i^2}{2 \\sigma^2}}$$\n",
    "However, it need to be applied in a discrete environment. So firstly, we'd like to truncate the kernal, secondly, we need to determine the $\\sigma$. A reasonable truncate is usually at 2-3$\\sigma$\n",
    "\n",
    "---\n",
    "\n",
    "When the rank of a filter is one, it could be constructed by a outer product of two vectors, which means that it could be splited into two steps and computed separately. This trick is useful for accelerating the process.\n",
    "For a $M \\times M$ image and a $N \\times N$ kernal, before splitting, the cost is $N \\times N \\, \\times \\, M \\times M$. After spliting, it will be $2 \\times N \\, \\times \\, M \\times M$"
   ]
  },
  {
   "cell_type": "code",
   "execution_count": 1,
   "metadata": {},
   "outputs": [],
   "source": [
    "import cv2"
   ]
  },
  {
   "cell_type": "code",
   "execution_count": 2,
   "metadata": {},
   "outputs": [],
   "source": [
    "import numpy as np"
   ]
  },
  {
   "cell_type": "code",
   "execution_count": null,
   "metadata": {},
   "outputs": [],
   "source": [
    "def filtering(kernal, f):\n",
    "    h = np.empty_like(f)\n",
    "    "
   ]
  }
 ],
 "metadata": {
  "kernelspec": {
   "display_name": "Python 3",
   "language": "python",
   "name": "python3"
  },
  "language_info": {
   "codemirror_mode": {
    "name": "ipython",
    "version": 3
   },
   "file_extension": ".py",
   "mimetype": "text/x-python",
   "name": "python",
   "nbconvert_exporter": "python",
   "pygments_lexer": "ipython3",
   "version": "3.6.7"
  }
 },
 "nbformat": 4,
 "nbformat_minor": 2
}
