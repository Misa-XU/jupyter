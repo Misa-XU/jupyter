{
 "cells": [
  {
   "cell_type": "markdown",
   "metadata": {},
   "source": [
    "### Linear Shift-Invariant Image Filtering\n",
    "\n",
    "Generally, filtering means neiborhood operation. And the term \"linear shift-invariant image filtering\" means to replace the pixels by a linear combination of their neighbors via a same rule. The rule is determined by the __kernel__ of the filtering. Note that the \n",
    "\n",
    "For example, $g[\\cdot, \\cdot] = \\frac{1}{9}\\, \\begin{bmatrix}1& 1& 1\\\\ 1& 1& 1\\\\ 1& 1& 1\\end{bmatrix}$ is called the __box filter__.\n",
    "Then get the output $h[m,n]$ given kernel $g$ and signal $f[m, n]$ by 'convolution'\n",
    "$$h[m, n] = \\sum_{i, j} g[i, j]f[m + j, n + j]$$\n",
    "It's not the convolution in _'Signals and Systems'_, and the idea is not similar.\n",
    "Although $h(x) * g(x)$ is actually $g(x) * h(x)$, but here, in cv, we shift the image, not the _response_. It's more like a image to pass across a filter, not a filter processing a image\n",
    "\n",
    "Another filter commonly used to blur an image is Gaussian Filter. Theoretically, it's \n",
    "$$g(\\mathbf{x};\\mathbf{\\mu}, \\Sigma) = \\frac{1}{(2\\pi)^{\\frac{n}{2}}|\\Sigma|^{\\frac{1}{2}}} e^{-\\frac{1}{2} (\\mathbf{x} - \\mu)^T \\Sigma^{-1} (\\mathbf{x} - \\mu)}$$\n",
    "In bivariate case, it could be simpler, as\n",
    "$$ g(x, y) = \\frac{1}{2\\pi \\sigma_x \\sigma_y \\sqrt{1 - \\rho^2}} exp -\\frac{1}{2(1 - \\rho^2)} \\Big(\\frac{(x - \\mu_x)^2}{\\sigma_x^2} +\\frac{(y - \\mu_y)^2}{\\sigma_y^2} - 2\\rho\\frac{(x - \\mu_x)(y - \\mu_y)}{\\sigma_x\\sigma_y} \\Big)\n",
    "$$\n",
    "However, it need to be applied in a discrete environment. So firstly, we'd like to truncate the kernel, secondly, we need to determine the $\\sigma$. a common strategy is to be proportional to image size like 2% of the image diagonal since then it's independent of image resolution. And a reasonable truncate is usually at 2-3$\\sigma$, and it's better to give kernel an odd length\n"
   ]
  },
  {
   "cell_type": "code",
   "execution_count": 1,
   "metadata": {},
   "outputs": [],
   "source": [
    "import cv2"
   ]
  },
  {
   "cell_type": "code",
   "execution_count": 2,
   "metadata": {},
   "outputs": [],
   "source": [
    "import numpy as np"
   ]
  },
  {
   "cell_type": "code",
   "execution_count": 5,
   "metadata": {},
   "outputs": [],
   "source": [
    "from matplotlib import pyplot as plt"
   ]
  },
  {
   "cell_type": "markdown",
   "metadata": {},
   "source": [
    "<img src=\"dataset/neonlights.jpg\" alt=\"drawing\" style=\"height:400px;\"/>"
   ]
  },
  {
   "cell_type": "code",
   "execution_count": 241,
   "metadata": {},
   "outputs": [],
   "source": [
    "img = cv2.imread('dataset/neonlights.jpg')"
   ]
  },
  {
   "cell_type": "code",
   "execution_count": 242,
   "metadata": {},
   "outputs": [],
   "source": [
    "imgGray = cv2.cvtColor(img, cv2.COLOR_BGR2GRAY)"
   ]
  },
  {
   "cell_type": "markdown",
   "metadata": {},
   "source": [
    "### 1. Filtering in Single Channel\n",
    "Let's start with a simple case $\\to$ filtering a gray-scale image, which has only one channel. Most of the filterings could be represented as a convolution of input signal and kernel; whereas some others are special.\n",
    "We use `fitering_gray` to implement normal filterings; For median and bilateral filtering, we will write two functions specifically.\n",
    "\n",
    "Zero-padding:\n",
    "`np.pad(imgGray, (#paddings at left-top,#paddings at right-bottom), 'constant', constant_values=(0, 0))`"
   ]
  },
  {
   "cell_type": "code",
   "execution_count": 181,
   "metadata": {},
   "outputs": [],
   "source": [
    "def filtering_gray(kernel, f, ptype='constant'):\n",
    "    h = np.empty_like(f)\n",
    "    # we assume the kernel is squared and have an odd length\n",
    "    lm = kernel.shape[0]\n",
    "    ln = kernel.shape[1]\n",
    "\n",
    "    if ptype == 'constant':\n",
    "        padded = np.pad(f, [(lm // 2, lm // 2), (ln // 2, ln // 2)], ptype, constant_values=(0, 0))\n",
    "    elif ptype == 'edge':\n",
    "        padded = np.pad(f, [(lm // 2, lm // 2), (ln // 2, ln // 2)], ptype)\n",
    "    else:\n",
    "        return\n",
    "    for m in range(h.shape[0]):\n",
    "        for n in range(h.shape[1]):\n",
    "            h[m][n] = np.sum(np.multiply(kernel, padded[m: m + lm, n: n + ln]))\n",
    "    return h"
   ]
  },
  {
   "cell_type": "code",
   "execution_count": 180,
   "metadata": {},
   "outputs": [],
   "source": [
    "def filtering_gray_median(ksize, f):\n",
    "    h = np.empty_like(f)\n",
    "    # we assume the kernel is squared and have an odd length\n",
    "    lm = kernel.shape[0]\n",
    "    ln = kernel.shape[1]\n",
    "\n",
    "    padded = np.pad(f, [(lm // 2, lm // 2), (ln // 2, ln // 2)], 'constant', constant_values=(0, 0))\n",
    "\n",
    "    for m in range(h.shape[0]):\n",
    "        for n in range(h.shape[1]):\n",
    "            h[m][n] = np.median(padded[m: m + lm, n: n + ln])\n",
    "    return h"
   ]
  },
  {
   "cell_type": "code",
   "execution_count": 235,
   "metadata": {},
   "outputs": [],
   "source": [
    "z = lambda x, y, const, sigmaX, sigmaY, corr: const * np.exp(- 1 / (2 * np.sqrt(1 - corr ** 2)) * ( x ** 2 / sigmaX ** 2 + y ** 2 / sigmaY ** 2 - 2 * corr * x * y / sigmaX / sigmaY))\n",
    "gauss = lambda x, sigmaX: 1 / (np.sqrt(2 * np.pi) * sigmaX) * np.exp(- 1 / 2 * x ** 2 / sigmaX ** 2)\n",
    "def get_gaussian_kernel(k, sigmaX, sigmaY = 0, corr = 0):\n",
    "    # k should be a tuple\n",
    "    # it supports a covariance between x and y\n",
    "    if sigmaY == 0:\n",
    "        sigmaY = sigmaX\n",
    "    m = k[0]\n",
    "    n = k[1]\n",
    "    y, x = np.ogrid[-m // 2 + 1: m // 2 + 1, - n // 2 + 1: n // 2 + 1]\n",
    "    const = 1 / (2 * np.pi * sigmaX * sigmaY * np.sqrt(1 - corr ** 2)) \n",
    "    g = z(x, y, const, sigmaX, sigmaY, corr)\n",
    "    #normalize\n",
    "    return g / np.sum(g)\n",
    "\n",
    "def get_separate_gaussian_kernel(k, sigmaX, sigmaY = 0):\n",
    "    ## here x and y must be independent\n",
    "    if sigmaY == 0:\n",
    "        sigmaY = sigmaX\n",
    "    m = k[0]\n",
    "    n = k[1]\n",
    "    y, x = np.ogrid[-m // 2 + 1: m // 2 + 1, - n // 2 + 1: n // 2 + 1]\n",
    "    y = gauss(y, sigmaY)\n",
    "    x = gauss(x, sigmaX)\n",
    "    y /= np.sum(y)\n",
    "    x /= np.sum(x)\n",
    "    #normalize\n",
    "    return y, x"
   ]
  },
  {
   "cell_type": "code",
   "execution_count": 163,
   "metadata": {},
   "outputs": [],
   "source": [
    "box_filter = np.ones((7, 7)) / 49\n",
    "gy, gx = get_separate_gaussian_kernel((5, 5),3)\n",
    "gm = get_gaussian_kernel((7, 7), 2)"
   ]
  },
  {
   "cell_type": "code",
   "execution_count": 243,
   "metadata": {},
   "outputs": [],
   "source": [
    "blurred = filtering_gray(gm, imgGray)"
   ]
  },
  {
   "cell_type": "code",
   "execution_count": 244,
   "metadata": {},
   "outputs": [],
   "source": [
    "#gaussian blur with a covariance\n",
    "blurred2 = filtering_gray(get_gaussian_kernel((7, 7), 2, 2, 0.5), imgGray)"
   ]
  },
  {
   "cell_type": "code",
   "execution_count": 245,
   "metadata": {},
   "outputs": [],
   "source": [
    "boxed = filtering_gray(box_filter, imgGray)"
   ]
  },
  {
   "cell_type": "code",
   "execution_count": 246,
   "metadata": {},
   "outputs": [],
   "source": [
    "medianed = filtering_gray_median((7, 7), imgGray)"
   ]
  },
  {
   "cell_type": "markdown",
   "metadata": {},
   "source": [
    "-------\n",
    "\n",
    "Those two above are entry-level filtering, the next one is more complicated...called bilateral\n",
    "\n",
    "Blur Comes from Averaging across Edges\n",
    "Same Gaussian kernel everywhere.\n",
    "\n",
    "Bilateral Filter No Averaging across Edges\n",
    "The kernel shape depends on the image content."
   ]
  },
  {
   "cell_type": "markdown",
   "metadata": {},
   "source": [
    "It's not easy to get conclusion from thumbnails. So let's output the image to hard disk first and crop the interest region."
   ]
  },
  {
   "cell_type": "code",
   "execution_count": 248,
   "metadata": {},
   "outputs": [
    {
     "data": {
      "text/plain": [
       "True"
      ]
     },
     "execution_count": 248,
     "metadata": {},
     "output_type": "execute_result"
    }
   ],
   "source": [
    "cv2.imwrite(\"dataset/imgGray.jpg\", imgGray)\n",
    "cv2.imwrite(\"dataset/blurred.jpg\", blurred)\n",
    "cv2.imwrite(\"dataset/blurred2.jpg\", blurred2)\n",
    "cv2.imwrite(\"dataset/imgGray.jpg\", imgGray)\n",
    "cv2.imwrite(\"dataset/medianed.jpg\", medianed)\n",
    "cv2.imwrite(\"dataset/boxed.jpg\", boxed)"
   ]
  },
  {
   "cell_type": "markdown",
   "metadata": {},
   "source": [
    "Left | Mid | Right\n",
    " --- | --- | ---\n",
    " Gaussian Blur with $\\rho = 1$ with ksize = 7  |Gaussian Blur with $\\rho = 0.5$ with ksize = 7 | Box filtered with ksize = 7\n",
    "<img src=\"dataset/blur_crop.jpg\" width=\"350\"> |  <img src=\"dataset/blur2_crop.jpg\" width=\"350\"> | <img src=\"dataset/box_crop.jpg\" width=\"350\">\n",
    "Original Image | Medianed\n",
    "<img src=\"dataset/ori_crop.jpg\" width=\"300\"> | <img src=\"dataset/median_crop.png\" width=\"300\">"
   ]
  },
  {
   "cell_type": "markdown",
   "metadata": {},
   "source": [
    "---\n",
    "\n",
    "When the rank of a filter is one, it could be constructed by a outer product of two vectors, which means that it could be splited into two steps and computed separately. This trick is useful for accelerating the process.\n",
    "For a $M \\times M$ image and a $N \\times N$ kernel, before splitting, the cost is $N \\times N \\, \\times \\, M \\times M$. After spliting, it will be $2 \\times N \\, \\times \\, M \\times M$"
   ]
  }
 ],
 "metadata": {
  "kernelspec": {
   "display_name": "Python 3",
   "language": "python",
   "name": "python3"
  },
  "language_info": {
   "codemirror_mode": {
    "name": "ipython",
    "version": 3
   },
   "file_extension": ".py",
   "mimetype": "text/x-python",
   "name": "python",
   "nbconvert_exporter": "python",
   "pygments_lexer": "ipython3",
   "version": "3.6.7"
  }
 },
 "nbformat": 4,
 "nbformat_minor": 2
}
