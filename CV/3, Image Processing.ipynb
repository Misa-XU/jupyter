{
 "cells": [
  {
   "cell_type": "markdown",
   "metadata": {},
   "source": [
    "## Image Processiong\n",
    "Point operators manipulate pixels independently, whereas area-based operators also depends on some of neighbours of its input pixel. \n",
    "\n",
    "\n",
    "### Point operators\n",
    "Common point operators include brightness and contrast adjustment, color correlation and transformations.\n",
    "A general image processing operator is a function that takes one or more input images and produces an output image. In the continuous domain, this can be denoted as \n",
    "<center>$g(x) = h(f(x))$ or $g(x) = h(f0(x),...,fn(x))$</center>\n",
    "\n",
    "Two commonly used processes are multiplication and addition with a constant, \n",
    "$$g(x) = af(x) + b$$\n",
    "The parameters $a > 0$ and $b$ are often called the __gain__ and __bias__ parameters; sometimes these parameters are said to control contrast and brightness. Sometimes bias and gain may be spatially varing, e.g. _graded density filter_\n",
    "$$g(x) = a(x)f(x) + b(x)$$\n",
    "Another is called linear blend operator\n",
    "$$g(x) = (1 - \\alpha) f_0(x) + \\alpha f_1(x)$$"
   ]
  },
  {
   "cell_type": "markdown",
   "metadata": {},
   "source": [
    "In fact, adding the same value to each color channel not only increases the apparent intensity of each pixel, it can also affect the pixel’s hue and saturation.\n",
    "3.1.2"
   ]
  }
 ],
 "metadata": {
  "kernelspec": {
   "display_name": "Python 3",
   "language": "python",
   "name": "python3"
  },
  "language_info": {
   "codemirror_mode": {
    "name": "ipython",
    "version": 3
   },
   "file_extension": ".py",
   "mimetype": "text/x-python",
   "name": "python",
   "nbconvert_exporter": "python",
   "pygments_lexer": "ipython3",
   "version": "3.6.7"
  }
 },
 "nbformat": 4,
 "nbformat_minor": 2
}
