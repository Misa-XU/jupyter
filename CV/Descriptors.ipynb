{
 "cells": [
  {
   "cell_type": "markdown",
   "metadata": {},
   "source": [
    "# Descriptors\n",
    "Image Patch -- Just use the pixel values of the patch\n",
    "- Perfectly fine if geometry and appearance is unchanged\n",
    "- A downsampling is useful to make it simple, fast, robust to small affine transforms.\n",
    "\n",
    "Image Gradients\n",
    "- Feature is invariant to absolute intensity values\n",
    "- Sensitive to deformations\n",
    "\n",
    "Color histogram\n",
    "- Invariant to changes in scale and rotation\n",
    "- Sensitive to spatial layout\n",
    "\n",
    "Spatial histograms\n",
    "- Retains rough spatial layout\n",
    "- Some invariance to deformations\n",
    "- Orientation normalization may useful -- Use the dominant image gradient direction to normalize the orientation of the patch"
   ]
  },
  {
   "cell_type": "markdown",
   "metadata": {},
   "source": [
    "Multi-Scale Oriented Patches "
   ]
  }
 ],
 "metadata": {
  "kernelspec": {
   "display_name": "Python 3",
   "language": "python",
   "name": "python3"
  },
  "language_info": {
   "codemirror_mode": {
    "name": "ipython",
    "version": 3
   },
   "file_extension": ".py",
   "mimetype": "text/x-python",
   "name": "python",
   "nbconvert_exporter": "python",
   "pygments_lexer": "ipython3",
   "version": "3.6.7"
  }
 },
 "nbformat": 4,
 "nbformat_minor": 2
}
