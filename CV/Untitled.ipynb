{
 "cells": [
  {
   "cell_type": "markdown",
   "metadata": {},
   "source": [
    "# Image Transformation\n",
    "Generally, There are two types of image transformations\n",
    "- Change the __RANGE__, or\n",
    "- Change the __DOMAIN__"
   ]
  },
  {
   "cell_type": "markdown",
   "metadata": {},
   "source": [
    "---TODO --- @Add reference  @Add visual examples\n",
    "$$G(x) = h\\{F(x)\\}$$\n",
    "$$G(x) = F(l\\{x\\})$$"
   ]
  },
  {
   "cell_type": "markdown",
   "metadata": {},
   "source": [
    "In this Chapter, we study 2D Transformations first, which include \n",
    "- translation\n",
    "- rotation\n",
    "- aspect\n",
    "- affine\n",
    "- perspective\n",
    "- cylindrical"
   ]
  },
  {
   "cell_type": "markdown",
   "metadata": {},
   "source": [
    "First let's see the representation of different types of matrix\n",
    "\n",
    "Style | Appearence\n",
    "--- | ---\n",
    "matrix | $\n",
    "\\begin{matrix} \n",
    "a & b \\\\\n",
    "c & d \n",
    "\\end{matrix}\n",
    "$\n",
    "pmatrix | $\n",
    "\\begin{pmatrix} \n",
    "a & b \\\\\n",
    "c & d \n",
    "\\end{pmatrix}\n",
    "$\n",
    "bmatrix | $\n",
    "\\begin{bmatrix} \n",
    "a & b \\\\\n",
    "c & d \n",
    "\\end{bmatrix}\n",
    "$\n",
    "vmatrix | $\n",
    "\\begin{vmatrix} \n",
    "a & b \\\\\n",
    "c & d \n",
    "\\end{vmatrix}\n",
    "$\n",
    "Vmatrix | $\n",
    "\\begin{Vmatrix} \n",
    "a & b \\\\\n",
    "c & d \n",
    "\\end{Vmatrix}\n",
    "$"
   ]
  },
  {
   "cell_type": "markdown",
   "metadata": {},
   "source": [
    "We use square brackets here.\n",
    "Recall the rules of Linear Transformation\n",
    "$$F (\\mathbf{\\mu_1} + \\mathbf{\\mu_2}) = F(\\mathbf{\\mu_1}) + F(\\mathbf{\\mu_2})$$\n",
    "and \n",
    "$$$$\n",
    "\n",
    "Option | Transformation Matrix\n",
    "--- | ---\n",
    "scaling | $ \\begin{matrix} s_x & 0 \\\\ 0 & s_y \\end{matrix} $\n",
    "shearing | $ \\begin{pmatrix} 1 & s_x \\\\ s_y & 1 \\end{pmatrix} $\n",
    "rotating | $ \\begin{bmatrix} cos(\\theta)  & -sin(\\theta) \\\\ sin(\\theta)  &  cos(\\theta) \\end{bmatrix} $\n",
    "flipping across y | $ \\begin{bmatrix} -1  & 0 \\\\ 0  &  1 \\end{bmatrix} $\n",
    "flipping across y | $ \\begin{bmatrix} 1  & 0 \\\\  0 &  -1 \\end{bmatrix} $"
   ]
  }
 ],
 "metadata": {
  "kernelspec": {
   "display_name": "Python 3",
   "language": "python",
   "name": "python3"
  },
  "language_info": {
   "codemirror_mode": {
    "name": "ipython",
    "version": 3
   },
   "file_extension": ".py",
   "mimetype": "text/x-python",
   "name": "python",
   "nbconvert_exporter": "python",
   "pygments_lexer": "ipython3",
   "version": "3.6.7"
  }
 },
 "nbformat": 4,
 "nbformat_minor": 2
}
