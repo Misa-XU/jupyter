{
 "cells": [
  {
   "cell_type": "markdown",
   "metadata": {},
   "source": [
    "# Logistic Regression with a Neural Network mindset\n",
    "Welcome to your first (required) programming assignment! You will build a logistic regression classifier to recognize cats. This assignment will step you through how to do this with a Neural Network mindset, and so will also hone your intuitions about deep learning.\n",
    "\n",
    "#### Instructions:\n",
    "\n",
    "Do not use loops (for/while) in your code, unless the instructions explicitly ask you to do so.\n",
    "You will learn to:\n",
    "- Build the general architecture of a learning algorithm, including:\n",
    "- Initializing parameters\n",
    "- Calculating the cost function and its gradient\n",
    "- Using an optimization algorithm (gradient descent)\n",
    "- Gather all three functions above into a main model function, in the right order.\n",
    "\n",
    "## 1 - Packages\n",
    "First, let's run the cell below to import all the packages that you will need during this assignment.\n",
    "- numpy is the fundamental package for scientific computing with Python.\n",
    "- h5py is a common package to interact with a dataset that is stored on an H5 file.\n",
    "- matplotlib is a famous library to plot graphs in Python.\n",
    "- PIL and scipy are used here to test your model with your own picture at the end."
   ]
  },
  {
   "cell_type": "code",
   "execution_count": 2,
   "metadata": {},
   "outputs": [],
   "source": [
    "import numpy as np\n",
    "import matplotlib.pyplot as plt\n",
    "import h5py\n",
    "from lr_utils import load_dataset\n",
    "import scipy"
   ]
  },
  {
   "cell_type": "markdown",
   "metadata": {},
   "source": [
    "## 2 - Overview of the Problem set\n",
    "Problem Statement: You are given a dataset (\"data.h5\") containing:\n",
    "- a training set of m_train images labeled as cat (y=1) or non-cat (y=0)\n",
    "- a test set of m_test images labeled as cat or non-cat\n",
    "- each image is of shape (num_px, num_px, 3) where 3 is for the 3 channels (RGB). Thus, each image is square (height = num_px) and (width = num_px).\n",
    "\n",
    "You will build a simple image-recognition algorithm that can correctly classify pictures as cat or non-cat.\n",
    "\n",
    "Let's get more familiar with the dataset. Load the data by running the following code."
   ]
  },
  {
   "cell_type": "code",
   "execution_count": 4,
   "metadata": {},
   "outputs": [],
   "source": [
    "# Loading the data (cat/non-cat)\n",
    "train_set_x_orig, train_set_y, test_set_x_orig, test_set_y, classes = load_dataset()"
   ]
  },
  {
   "cell_type": "markdown",
   "metadata": {},
   "source": [
    "We added \"\\_orig\" at the end of image datasets (train and test) because we are going to preprocess them. After preprocessing, we will end up with train_set_x and test_set_x (the labels train_set_y and test_set_y don't need any preprocessing).\n",
    "\n",
    "Each line of your train_set_x_orig and test_set_x_orig is an array representing an image. You can visualize an example by running the following code. Feel free also to change the index value and re-run to see other images."
   ]
  },
  {
   "cell_type": "code",
   "execution_count": 5,
   "metadata": {},
   "outputs": [
    {
     "data": {
      "text/plain": [
       "(209, 64, 64, 3)"
      ]
     },
     "execution_count": 5,
     "metadata": {},
     "output_type": "execute_result"
    }
   ],
   "source": [
    "train_set_x_orig.shape"
   ]
  },
  {
   "cell_type": "code",
   "execution_count": 9,
   "metadata": {
    "scrolled": true
   },
   "outputs": [
    {
     "data": {
      "text/plain": [
       "<matplotlib.image.AxesImage at 0x233232e8cf8>"
      ]
     },
     "execution_count": 9,
     "metadata": {},
     "output_type": "execute_result"
    },
    {
     "data": {
      "image/png": "[encoded data removed]",
      "text/plain": [
       "<Figure size 432x288 with 1 Axes>"
      ]
     },
     "metadata": {
      "needs_background": "light"
     },
     "output_type": "display_data"
    }
   ],
   "source": [
    "plt.imshow(train_set_x_orig[25, :, :, :])"
   ]
  },
  {
   "cell_type": "markdown",
   "metadata": {},
   "source": [
    "### Preprocess"
   ]
  },
  {
   "cell_type": "code",
   "execution_count": 19,
   "metadata": {},
   "outputs": [],
   "source": [
    "train_X = train_set_x_orig.reshape((train_set_x_orig.shape[0], -1)).T\n",
    "test_X = test_set_x_orig.reshape((test_set_x_orig.shape[0], -1)).T\n",
    "train_Y = train_set_y\n",
    "test_Y = test_set_y"
   ]
  },
  {
   "cell_type": "code",
   "execution_count": 26,
   "metadata": {},
   "outputs": [
    {
     "data": {
      "text/plain": [
       "(1, 209)"
      ]
     },
     "execution_count": 26,
     "metadata": {},
     "output_type": "execute_result"
    }
   ],
   "source": [
    "train_Y.shape"
   ]
  },
  {
   "cell_type": "code",
   "execution_count": 18,
   "metadata": {
    "scrolled": true
   },
   "outputs": [
    {
     "data": {
      "text/plain": [
       "array([17, 31, 56, 22, 33], dtype=uint8)"
      ]
     },
     "execution_count": 18,
     "metadata": {},
     "output_type": "execute_result"
    }
   ],
   "source": [
    "train_X[0:5,0]"
   ]
  },
  {
   "cell_type": "markdown",
   "metadata": {},
   "source": [
    "One common preprocessing step in machine learning is to center and standardize your dataset, meaning that you substract the mean of the whole numpy array from each example, and then divide each example by the standard deviation of the whole numpy array. But for picture datasets, it is simpler and more convenient and works almost as well to just divide every row of the dataset by 255 (the maximum value of a pixel channel).\n",
    "\n",
    "Let's standardize our dataset."
   ]
  },
  {
   "cell_type": "code",
   "execution_count": 21,
   "metadata": {},
   "outputs": [],
   "source": [
    "train_X = train_X / 255.\n",
    "test_X = test_X /  255."
   ]
  },
  {
   "cell_type": "markdown",
   "metadata": {},
   "source": [
    "Common steps for pre-processing a new dataset are:\n",
    "- Figure out the dimensions and shapes of the problem (m_train, m_test, num_px, ...)\n",
    "- Reshape the datasets such that each example is now a vector of size (num_px * num_px * 3, 1)\n",
    "- \"Standardize\" the data"
   ]
  },
  {
   "cell_type": "markdown",
   "metadata": {},
   "source": [
    "## 3 - General Architecture of the learning algorithm\n",
    "It's time to design a simple algorithm to distinguish cat images from non-cat images.\n",
    "\n",
    "You will build a Logistic Regression, using a Neural Network mindset. The following Figure explains why Logistic Regression is actually a very simple Neural Network!\n",
    "\n",
    "Key steps: In this exercise, you will carry out the following steps:\n",
    "- Initialize the parameters of the model\n",
    "- Learn the parameters for the model by minimizing the cost  \n",
    "- Use the learned parameters to make predictions (on the test set)\n",
    "- Analyse the results and conclude\n",
    "\n",
    "## 4 - Building the parts of our algorithm\n",
    "The main steps for building a Neural Network are:\n",
    "- Define the model structure (such as number of input features)\n",
    "- Initialize the model's parameters\n",
    "- Loop:\n",
    "    - Calculate current loss (forward propagation)\n",
    "    - Calculate current gradient (backward propagation)\n",
    "    - Update parameters (gradient descent)\n",
    "    - (You often build 1-3 separately and integrate them into one function we call model().)\n",
    "\n",
    "#### 4.1 - Helper functions\n",
    "Exercise: Using your code from \"Python Basics\", implement sigmoid(). As you've seen in the figure above, you need to compute $sigmoid( w^T x + b)$ to make predictions."
   ]
  },
  {
   "cell_type": "code",
   "execution_count": 104,
   "metadata": {},
   "outputs": [],
   "source": [
    "sigmoid = lambda z: 1. / (1 + np.exp(- z + 1e-16))"
   ]
  },
  {
   "cell_type": "markdown",
   "metadata": {},
   "source": [
    "#### 4.2 - Initializing parameters¶\n",
    "Exercise: Implement parameter initialization in the cell below. You have to initialize w as a vector of zeros. If you don't know what numpy function to use, look up np.zeros() in the Numpy library's documentation."
   ]
  },
  {
   "cell_type": "code",
   "execution_count": 24,
   "metadata": {},
   "outputs": [],
   "source": [
    "def initialize_with_zeros(dim):\n",
    "    return np.zeros((dim, 1)), 0"
   ]
  },
  {
   "cell_type": "markdown",
   "metadata": {},
   "source": [
    "#### 4.3 - Forward and Backward propagation\n",
    "Now that your parameters are initialized, you can do the \"forward\" and \"backward\" propagation steps for learning the parameters.\n",
    "\n",
    "Exercise: Implement a function propagate() that computes the cost function and its gradient."
   ]
  },
  {
   "cell_type": "markdown",
   "metadata": {},
   "source": [
    "$$\\begin{align*}\n",
    "\\frac{\\partial}{\\partial gz} J & = \\frac{y - gz}{gz'} \\\\\n",
    "\\delta & = y - gz \\\\\n",
    "\\delta \\frac{\\partial z}{\\partial w} & = X \\delta^T \\\\\n",
    "\\delta \\frac{\\partial z}{\\partial b} & = \\delta \\\\\n",
    "\\end{align*}$$"
   ]
  },
  {
   "cell_type": "markdown",
   "metadata": {},
   "source": [
    "#### Intuitively understanding X @ delta.T\n",
    "X is a m * N tensor, delta.T is n * N tensor, then X @ delta.T is\n",
    "<img src = 'images/xdeltat.png' width = '500px' />"
   ]
  },
  {
   "cell_type": "code",
   "execution_count": 71,
   "metadata": {},
   "outputs": [],
   "source": [
    "def propagate(W, b, X, Y):\n",
    "    \n",
    "    # forward prop\n",
    "    z = W.T @ X + b\n",
    "    gz = sigmoid(z)\n",
    "    # loss\n",
    "    loss = - np.mean(Y * np.log(gz) + (1 - Y) * np.log(1 - gz))\n",
    "    # back prop\n",
    "    delta = gz - Y\n",
    "    grad = {}\n",
    "    grad['w'] = X @ delta.T / X.shape[1] # exactly, this is quite fast and intuitive\n",
    "    grad['b']= np.mean(delta)\n",
    "    \n",
    "    return grad, loss"
   ]
  },
  {
   "cell_type": "code",
   "execution_count": 76,
   "metadata": {
    "scrolled": true
   },
   "outputs": [
    {
     "name": "stdout",
     "output_type": "stream",
     "text": [
      "dw = [[0.99993216]\n",
      " [1.99980262]]\n",
      "db = 0.49993523062470574\n",
      "cost = 6.000064773192205\n"
     ]
    }
   ],
   "source": [
    "w, b, X, Y = np.array([[1], [2]]), 2, np.array([[1,2], [3,4]]), np.array([[1, 0]])\n",
    "grads, cost = propagate(w, b, X, Y)\n",
    "print (\"dw = \" + str(grads[\"w\"]))\n",
    "print (\"db = \" + str(grads[\"b\"]))\n",
    "print (\"cost = \" + str(cost))"
   ]
  },
  {
   "cell_type": "markdown",
   "metadata": {},
   "source": [
    "#### Optimization\n",
    "You have initialized your parameters.\n",
    "You are also able to compute a cost function and its gradient.\n",
    "Now, you want to update the parameters using gradient descent.\n",
    "Exercise: Write down the optimization function. The goal is to learn $w$ and $b$ by minimizing the cost function $J$. For a parameter $\\theta$, the update rule is $ \\theta = \\theta - \\alpha\\,d\\theta$, where $\\alpha$ is the learning rate."
   ]
  },
  {
   "cell_type": "code",
   "execution_count": 78,
   "metadata": {},
   "outputs": [],
   "source": [
    "def gradient_descent(params, grads, alpha):\n",
    "    for k in params:\n",
    "        params[k] -= 1.0 * alpha * grads[k]\n",
    "    return params"
   ]
  },
  {
   "cell_type": "code",
   "execution_count": 82,
   "metadata": {},
   "outputs": [],
   "source": [
    "# GRADED FUNCTION: optimize\n",
    "\n",
    "def optimize(w, b, X, Y, num_iterations, learning_rate, print_cost = False):\n",
    "    \"\"\"\n",
    "    This function optimizes w and b by running a gradient descent algorithm\n",
    "    \n",
    "    Arguments:\n",
    "    w -- weights, a numpy array of size (num_px * num_px * 3, 1)\n",
    "    b -- bias, a scalar\n",
    "    X -- data of shape (num_px * num_px * 3, number of examples)\n",
    "    Y -- true \"label\" vector (containing 0 if non-cat, 1 if cat), of shape (1, number of examples)\n",
    "    num_iterations -- number of iterations of the optimization loop\n",
    "    learning_rate -- learning rate of the gradient descent update rule\n",
    "    print_cost -- True to print the loss every 100 steps\n",
    "    \n",
    "    Returns:\n",
    "    params -- dictionary containing the weights w and bias b\n",
    "    grads -- dictionary containing the gradients of the weights and bias with respect to the cost function\n",
    "    costs -- list of all the costs computed during the optimization, this will be used to plot the learning curve.\n",
    "    \n",
    "    Tips:\n",
    "    You basically need to write down two steps and iterate through them:\n",
    "        1) Calculate the cost and the gradient for the current parameters. Use propagate().\n",
    "        2) Update the parameters using gradient descent rule for w and b.\n",
    "    \"\"\"\n",
    "    params = {}\n",
    "    params['w'] = w * 1.0\n",
    "    params['b'] = b * 1.0\n",
    "    \n",
    "    costs = []\n",
    "    \n",
    "    for i in range(num_iterations):\n",
    "        grad, loss = propagate(params['w'], params['b'], X, Y)\n",
    "        params = gradient_descent(params, grad, learning_rate)\n",
    "        if i % 100 == 0:\n",
    "            costs.append(loss)\n",
    "            if print_cost:\n",
    "                print(\"Loss after {0} iterations is {1}\".format(i, loss))\n",
    "    \n",
    "    return params, grad, costs"
   ]
  },
  {
   "cell_type": "code",
   "execution_count": 83,
   "metadata": {
    "scrolled": false
   },
   "outputs": [
    {
     "name": "stdout",
     "output_type": "stream",
     "text": [
      "w = [[0.1124579 ]\n",
      " [0.23106775]]\n",
      "b = 1.5593049248448891\n",
      "dw = [[0.90158428]\n",
      " [1.76250842]]\n",
      "db = 0.4304620716786828\n"
     ]
    }
   ],
   "source": [
    "params, grads, costs = optimize(w, b, X, Y, num_iterations= 100, learning_rate = 0.009, print_cost = False)\n",
    "\n",
    "print (\"w = \" + str(params[\"w\"]))\n",
    "print (\"b = \" + str(params[\"b\"]))\n",
    "print (\"dw = \" + str(grads[\"w\"]))\n",
    "print (\"db = \" + str(grads[\"b\"]))"
   ]
  },
  {
   "cell_type": "markdown",
   "metadata": {},
   "source": [
    "Exercise: The previous function will output the learned w and b. We are able to use w and b to predict the labels for a dataset X. Implement the predict() function. There is two steps to computing predictions:\n",
    "\n",
    "Calculate $\\hat{Y} = A = \\sigma(w^T X + b)$\n",
    "\n",
    "Convert the entries of a into 0 (if activation <= 0.5) or 1 (if activation > 0.5), stores the predictions in a vector Y_prediction. If you wish, you can use an if/else statement in a for loop (though there is also a way to vectorize this)."
   ]
  },
  {
   "cell_type": "code",
   "execution_count": 88,
   "metadata": {},
   "outputs": [],
   "source": [
    "def predict(W, b, X, thrs = 0.5):\n",
    "    output = np.zeros((1, X.shape[1]))\n",
    "    output[sigmoid(W.T @ X + b) >= thrs] = 1\n",
    "    return output"
   ]
  },
  {
   "cell_type": "code",
   "execution_count": 89,
   "metadata": {
    "scrolled": true
   },
   "outputs": [
    {
     "data": {
      "text/plain": [
       "array([[1., 1.]])"
      ]
     },
     "execution_count": 89,
     "metadata": {},
     "output_type": "execute_result"
    }
   ],
   "source": [
    "predict(w, b, X)"
   ]
  },
  {
   "cell_type": "markdown",
   "metadata": {},
   "source": [
    "#### 5 - Merge all functions into a model\n",
    "You will now see how the overall model is structured by putting together all the building blocks (functions implemented in the previous parts) together, in the right order.\n",
    "\n",
    "Exercise: Implement the model function. Use the following notation:\n",
    "- Y_prediction for your predictions on the test set\n",
    "- Y_prediction_train for your predictions on the train set\n",
    "- w, costs, grads for the outputs of optimize()"
   ]
  },
  {
   "cell_type": "code",
   "execution_count": 90,
   "metadata": {},
   "outputs": [],
   "source": [
    "def accuracy(yhat, y):\n",
    "    return yhat[yhat == y].size / y.size"
   ]
  },
  {
   "cell_type": "code",
   "execution_count": 100,
   "metadata": {},
   "outputs": [],
   "source": [
    "# GRADED FUNCTION: model\n",
    "\n",
    "def model(train_X, train_Y, test_X, test_Y, num_iterations=2000, learning_rate=0.5, print_cost=False):\n",
    "    w, b = initialize_with_zeros(train_X.shape[0])\n",
    "    params, grads, costs = optimize(w, b, train_X, train_Y, num_iterations, learning_rate, print_cost) \n",
    "    \n",
    "    test_pred = predict(params['w'], params['b'], test_X)\n",
    "    train_pred = predict(params['w'], params['b'], train_X)\n",
    "    \n",
    "    print('train accuracy: {0}'.format(accuracy(train_pred, train_Y)))\n",
    "    print('test accuracy: {0}'.format(accuracy(test_pred, test_Y)))\n",
    "    \n",
    "    output = {'costs': costs,\n",
    "             'w' : params['w'],\n",
    "             'b': params['b'],\n",
    "             'train_acc': accuracy(train_pred, train_Y),\n",
    "             'test_acc': accuracy(test_pred, test_Y)}\n",
    "    return output"
   ]
  },
  {
   "cell_type": "code",
   "execution_count": 101,
   "metadata": {
    "scrolled": true
   },
   "outputs": [
    {
     "name": "stdout",
     "output_type": "stream",
     "text": [
      "Loss after 0 iterations is 0.6931471805599453\n",
      "Loss after 100 iterations is 0.5845083636993086\n",
      "Loss after 200 iterations is 0.46694904094655476\n",
      "Loss after 300 iterations is 0.37600686694802077\n",
      "Loss after 400 iterations is 0.33146328932825125\n",
      "Loss after 500 iterations is 0.30327306747438293\n",
      "Loss after 600 iterations is 0.27987958658260487\n",
      "Loss after 700 iterations is 0.2600421369258757\n",
      "Loss after 800 iterations is 0.24294068467796626\n",
      "Loss after 900 iterations is 0.22800422256726066\n",
      "Loss after 1000 iterations is 0.2148195137844964\n",
      "Loss after 1100 iterations is 0.20307819060644985\n",
      "Loss after 1200 iterations is 0.19254427716706857\n",
      "Loss after 1300 iterations is 0.18303333796883509\n",
      "Loss after 1400 iterations is 0.17439859438448876\n",
      "Loss after 1500 iterations is 0.16652139705400335\n",
      "Loss after 1600 iterations is 0.15930451829756614\n",
      "Loss after 1700 iterations is 0.152667324712965\n",
      "Loss after 1800 iterations is 0.14654223503982342\n",
      "Loss after 1900 iterations is 0.1408720757031016\n",
      "train accuracy: 0.9904306220095693\n",
      "test accuracy: 0.7\n"
     ]
    }
   ],
   "source": [
    "res = model(train_X, train_Y, test_X, test_Y, num_iterations = 2000, learning_rate = 0.005, print_cost = True)"
   ]
  },
  {
   "cell_type": "markdown",
   "metadata": {},
   "source": [
    "#### 6 - Further analysis (optional/ungraded exercise)\n",
    "Congratulations on building your first image classification model. Let's analyze it further, and examine possible choices for the learning rate $\\alpha$.\n",
    "\n",
    "Choice of learning rate\n",
    "Reminder: In order for Gradient Descent to work you must choose the learning rate wisely. The learning rate $\\alpha$ determines how rapidly we update the parameters. If the learning rate is too large we may \"overshoot\" the optimal value. Similarly, if it is too small we will need too many iterations to converge to the best values. That's why it is crucial to use a well-tuned learning rate.\n",
    "\n",
    "Let's compare the learning curve of our model with several choices of learning rates. Run the cell below. This should take about 1 minute. Feel free also to try different values than the three we have initialized the learning_rates variable to contain, and see what happens."
   ]
  },
  {
   "cell_type": "markdown",
   "metadata": {},
   "source": [
    "##### 3000 iterations"
   ]
  },
  {
   "cell_type": "code",
   "execution_count": 105,
   "metadata": {
    "scrolled": false
   },
   "outputs": [
    {
     "name": "stderr",
     "output_type": "stream",
     "text": [
      "C:\\ProgramData\\Miniconda3\\lib\\site-packages\\ipykernel_launcher.py:7: RuntimeWarning: divide by zero encountered in log\n",
      "  import sys\n",
      "C:\\ProgramData\\Miniconda3\\lib\\site-packages\\ipykernel_launcher.py:7: RuntimeWarning: invalid value encountered in multiply\n",
      "  import sys\n"
     ]
    },
    {
     "name": "stdout",
     "output_type": "stream",
     "text": [
      "train accuracy: 1.0\n",
      "test accuracy: 0.66\n",
      "train accuracy: 1.0\n",
      "test accuracy: 0.66\n",
      "train accuracy: 1.0\n",
      "test accuracy: 0.68\n",
      "train accuracy: 0.9952153110047847\n",
      "test accuracy: 0.68\n",
      "train accuracy: 0.937799043062201\n",
      "test accuracy: 0.74\n"
     ]
    }
   ],
   "source": [
    "alpha = [0.1, 0.05, 0.01, 0.005, 0.001]\n",
    "costs = []\n",
    "train_acc = []\n",
    "test_acc = []\n",
    "for lr in alpha:\n",
    "    res = model(train_X, train_Y, test_X, test_Y, num_iterations = 3000, learning_rate = lr)\n",
    "    costs.append(res['costs'])\n",
    "    train_acc.append(res['train_acc'])\n",
    "    test_acc.append(res['test_acc'])"
   ]
  },
  {
   "cell_type": "code",
   "execution_count": 113,
   "metadata": {},
   "outputs": [
    {
     "data": {
      "text/plain": [
       "<matplotlib.legend.Legend at 0x233259877f0>"
      ]
     },
     "execution_count": 113,
     "metadata": {},
     "output_type": "execute_result"
    },
    {
     "data": {
      "image/png": "[encoded data removed]",
      "text/plain": [
       "<Figure size 432x288 with 1 Axes>"
      ]
     },
     "metadata": {
      "needs_background": "light"
     },
     "output_type": "display_data"
    }
   ],
   "source": [
    "i = 0\n",
    "for cost in costs:\n",
    "    plt.plot(cost[4:], label = alpha[i])\n",
    "    i += 1\n",
    "plt.legend()"
   ]
  },
  {
   "cell_type": "code",
   "execution_count": 116,
   "metadata": {
    "scrolled": true
   },
   "outputs": [
    {
     "data": {
      "text/plain": [
       "[<matplotlib.lines.Line2D at 0x2332535a390>]"
      ]
     },
     "execution_count": 116,
     "metadata": {},
     "output_type": "execute_result"
    },
    {
     "data": {
      "image/png": "[encoded data removed]",
      "text/plain": [
       "<Figure size 432x288 with 1 Axes>"
      ]
     },
     "metadata": {
      "needs_background": "light"
     },
     "output_type": "display_data"
    }
   ],
   "source": [
    "plt.plot(alpha, train_acc)\n",
    "plt.plot(alpha, test_acc)"
   ]
  },
  {
   "cell_type": "code",
   "execution_count": 117,
   "metadata": {
    "scrolled": true
   },
   "outputs": [
    {
     "name": "stderr",
     "output_type": "stream",
     "text": [
      "C:\\ProgramData\\Miniconda3\\lib\\site-packages\\ipykernel_launcher.py:7: RuntimeWarning: divide by zero encountered in log\n",
      "  import sys\n",
      "C:\\ProgramData\\Miniconda3\\lib\\site-packages\\ipykernel_launcher.py:7: RuntimeWarning: invalid value encountered in multiply\n",
      "  import sys\n"
     ]
    },
    {
     "name": "stdout",
     "output_type": "stream",
     "text": [
      "train accuracy: 1.0\n",
      "test accuracy: 0.64\n",
      "train accuracy: 1.0\n",
      "test accuracy: 0.66\n",
      "train accuracy: 1.0\n",
      "test accuracy: 0.7\n",
      "train accuracy: 1.0\n",
      "test accuracy: 0.68\n",
      "train accuracy: 0.9712918660287081\n",
      "test accuracy: 0.7\n"
     ]
    }
   ],
   "source": [
    "alpha = [0.1, 0.05, 0.01, 0.005, 0.001]\n",
    "costs = []\n",
    "train_acc = []\n",
    "test_acc = []\n",
    "for lr in alpha:\n",
    "    res = model(train_X, train_Y, test_X, test_Y, num_iterations = 6000, learning_rate = lr)\n",
    "    costs.append(res['costs'])\n",
    "    train_acc.append(res['train_acc'])\n",
    "    test_acc.append(res['test_acc'])"
   ]
  },
  {
   "cell_type": "markdown",
   "metadata": {},
   "source": [
    "It's shown that after more iterations, the accuracy in training set improved, but the accuracy in testing set decreased, I think it means that \n",
    "1. Overfitting\n",
    "2. Lack of training data\n",
    "3. Bad features"
   ]
  }
 ],
 "metadata": {
  "kernelspec": {
   "display_name": "Python 3",
   "language": "python",
   "name": "python3"
  },
  "language_info": {
   "codemirror_mode": {
    "name": "ipython",
    "version": 3
   },
   "file_extension": ".py",
   "mimetype": "text/x-python",
   "name": "python",
   "nbconvert_exporter": "python",
   "pygments_lexer": "ipython3",
   "version": "3.6.7"
  }
 },
 "nbformat": 4,
 "nbformat_minor": 2
}
