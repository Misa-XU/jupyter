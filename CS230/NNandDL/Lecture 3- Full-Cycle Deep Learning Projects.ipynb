{
 "cells": [
  {
   "cell_type": "markdown",
   "metadata": {},
   "source": [
    "#### Steps of an ML Project:\n",
    "1. Select Problem: For example a voice activated project (via supervised learning), we need to specify the input and output\n",
    "    - X: audioclip $\\to$ Y: 1{found trigger word}\n",
    "2. Get labelled data\n",
    "    - How many days (1, 2, 3, 5, 8 ...) for collecting data\n",
    "    - How would you collect data\n",
    "    - Don't spend too much time on data collection because ML is actually a very iterative process, until we try, we never know what's hard and what's easy (unless you are really well-experienced) After rudimentary training, you will know where your algorithm fails, then go back and collect corresponding data\n",
    "3. Design model\n",
    "4. Train model (May turn back to step 2&3 )\n",
    "    - In the step 3 & 4, research is quite helpful\n",
    "    - Keep clear notes on experiments, may have a spreadsheet\n",
    "5. Test model\n",
    "6. Deploy\n",
    "    - Location:\n",
    "        - Edge (end device) Away from network latency, privacy\n",
    "        - Cloud: Easier to maintance \n",
    "    - VAD, voice activity detection\n",
    "        1. Non-ML See if volumn $\\ge \\epsilon$; Less reliable, simpler, more robust when applying to a new dataset\n",
    "        2. Train small NN/ SVM on human speech; Less robust but in pracital is a must\n",
    "        - Less parameters, more general\n",
    "    - Data change: the training data are different from which our algorithm need to perform well on\n",
    "        - New accents\n",
    "        - Different background noises\n",
    "        - New microphone\n",
    "7. Monitor\n",
    "    - Web search (the world is changing)\n",
    "    - Self-driving (different rules)\n",
    "8. Q&A: kind of statistical testing"
   ]
  },
  {
   "cell_type": "markdown",
   "metadata": {},
   "source": [
    "#### Criteria to Select a Project\n",
    "- Interest\n",
    "- Availability of Data\n",
    "- Domain Knowledge\n",
    "- Utility\n",
    "- Feasibility"
   ]
  },
  {
   "cell_type": "markdown",
   "metadata": {},
   "source": [
    "Structered Data: \n",
    "- databases of data\n",
    "- Each of the features has well defined meaning\n",
    "\n",
    "Unstructered Data: \n",
    "- Audio, images, text\n",
    "- People have natual empathy to understand unstructured data"
   ]
  }
 ],
 "metadata": {
  "kernelspec": {
   "display_name": "Python 3",
   "language": "python",
   "name": "python3"
  },
  "language_info": {
   "codemirror_mode": {
    "name": "ipython",
    "version": 3
   },
   "file_extension": ".py",
   "mimetype": "text/x-python",
   "name": "python",
   "nbconvert_exporter": "python",
   "pygments_lexer": "ipython3",
   "version": "3.6.7"
  }
 },
 "nbformat": 4,
 "nbformat_minor": 2
}
