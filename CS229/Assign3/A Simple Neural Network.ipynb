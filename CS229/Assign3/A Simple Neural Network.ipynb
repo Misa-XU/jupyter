{
 "cells": [
  {
   "cell_type": "markdown",
   "metadata": {},
   "source": [
    "#### (a) What's the gradient descent update to $w^{[1]}_{1, 2}$\n",
    "We have\n",
    "$$\\begin{align*}\n",
    "\\sigma (w^{[1]}_2 \\mathbf{x}^{(i)}) & = h_2^{(i)} \\\\\n",
    "\\sigma (w^{[2]} \\mathbf{h}^{(i)}) & = o^{(i)}\n",
    "\\end{align*}$$\n",
    "Then we could have"
   ]
  },
  {
   "cell_type": "markdown",
   "metadata": {},
   "source": [
    "$$\\begin{align*}\n",
    "w^{[1]}_{1, 2} & := w^{[1]}_{1, 2} - \\alpha \\frac{\\partial}{\\partial w^{[1]}_{1, 2}} l\\\\\n",
    "& = w^{[1]}_{1, 2} - \\alpha \\sum \\frac{\\partial l}{\\partial o^{(i)} } \\frac{\\partial o^{(i)}}{\\partial w^{[2]} \\mathbf{h}^{(i)}} \\frac{\\partial w^{[2]} \\mathbf{h}^{(i)}}{\\partial h_2^{(i)}} \\frac{\\partial h_2^{(i)}}{\\partial w^{[1]}_2 \\mathbf{x}^{(i)}} \\frac{\\partial w^{[1]}_2 \\mathbf{x}^{(i)}}{\\partial {w^{[1]}_{1, 2}}} \\\\\n",
    "& = w^{[1]}_{1, 2} - \\frac{2\\alpha}{m} \\sum (o^{(i)} - y^{(i)}) \\sigma(w^{[2]} \\mathbf{h}^{(i)}) (1 - \\sigma(w^{[2]} \\mathbf{h}^{(i)})) w^{[2]}_2 \\sigma(w^{[1]}_2 \\mathbf{x}^{(i)})(1 - \\sigma(w^{[1]}_2 \\mathbf{x}^{(i)}))x_1^{(i)}\n",
    "\\end{align*}$$"
   ]
  },
  {
   "cell_type": "markdown",
   "metadata": {},
   "source": [
    "<img src = \"dataset/figure1.png\" style = \"width:300px\"/>\n",
    "<img src = \"dataset/q1b.png\" style = \"width:700px\"/>"
   ]
  },
  {
   "cell_type": "markdown",
   "metadata": {},
   "source": [
    "We find that the three vertices of the triangle are $(0.4, 0.4), \\,(3.6, 0.4), \\,(0.4, 3.6)$.\n",
    "Hence the feasible region could be expressed as a set of affine constraints:\n",
    "$$\\begin{align*}\n",
    "x - 0.4 & \\ge 0 \\\\\n",
    "y - 0.4 & \\ge 0 \\\\\n",
    "4 - x - y & \\ge 0\n",
    "\\end{align*}$$\n",
    "So we could let the first parameter matrix be\n",
    "$$\\begin{bmatrix} -0.4 & 1 & 0 \\\\ -0.4 & 0 & 1 \\\\ 4 & -1 & -1\\end{bmatrix} \\begin{bmatrix} 1 \\\\ x_1 \\\\ x_2 \\end{bmatrix} = \\begin{bmatrix} x_1 - 0.4 \\\\ x_2 - 0.4 \\\\ 4 - x_1 - x_2 \\end{bmatrix}$$\n",
    "And the second paramter matrix be\n",
    "$$\\begin{bmatrix} -2.9 & 1 & 1 & 1 \\end{bmatrix}  \\begin{bmatrix} 1 \\\\ \\text{sign}(x_1 - 0.4) \\\\ \\text{sign}(x_2 - 0.4) \\\\ \\text{sign}(4 - x_1 - x_2) \\end{bmatrix}$$\n",
    "Which means that the output will be 0 unless all constraints are satisfied."
   ]
  },
  {
   "cell_type": "markdown",
   "metadata": {},
   "source": [
    "#### (c)\n",
    "No because the dataset is not linearly separatable. If the activation function is linear, then it's actually an affine transformation since $w^[[2]T]w^{[1]T}X = \\tilde{W}^TX$"
   ]
  }
 ],
 "metadata": {
  "kernelspec": {
   "display_name": "Python 3",
   "language": "python",
   "name": "python3"
  },
  "language_info": {
   "codemirror_mode": {
    "name": "ipython",
    "version": 3
   },
   "file_extension": ".py",
   "mimetype": "text/x-python",
   "name": "python",
   "nbconvert_exporter": "python",
   "pygments_lexer": "ipython3",
   "version": "3.6.7"
  }
 },
 "nbformat": 4,
 "nbformat_minor": 2
}
