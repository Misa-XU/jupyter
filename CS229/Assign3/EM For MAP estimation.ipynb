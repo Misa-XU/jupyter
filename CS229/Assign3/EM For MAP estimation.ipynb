{
 "cells": [
  {
   "cell_type": "markdown",
   "metadata": {},
   "source": [
    "Similar with MSE estimation, we make\n",
    "$$\\begin{align*}\n",
    "\\log \\Big( \\prod p(x^{(i)}|\\theta) \\Big) p(\\theta) & = \\log \\Big( \\prod \\sum_{z^{(i)}} p(x^{(i)}, z^{(i)}|\\theta) \\Big) p(\\theta) \\\\\n",
    "& = \\log \\Big( \\prod \\sum_{z^{(i)}} Q(z^{(i)}) \\frac{p(x^{(i)}, z^{(i)}|\\theta)}{Q(z^{(i)})} \\Big) p(\\theta) \\\\\n",
    "& = \\log p(\\theta) + \\sum \\log \\sum_{z^{(i)}} Q(z^{(i)}) \\frac{p(x^{(i)}, z^{(i)}|\\theta)}{Q(z^{(i)})}\n",
    "\\end{align*}$$\n",
    "\n",
    "Given Jensen's inequality, since $\\log x$ is concave, we have $f(E(x)) \\ge E(f(x))$, so we have\n",
    "$$\\log \\sum_{z^{(i)}} Q(z^{(i)}) \\frac{p(x^{(i)}, z^{(i)}|\\theta)}{Q(z^{(i)})} \\ge \\sum_{z^{(i)}} Q(z^{(i)}) \\log \\frac{p(x^{(i)}, z^{(i)}|\\theta)}{Q(z^{(i)})}$$\n",
    "And the equality holds when $\\frac{p(x^{(i)}, z^{(i)}|\\theta)}{Q(z^{(i)})}$ is a constant, so we make $Q$ be the posterior estimation, specifically,\n",
    "$$\\begin{align*}\n",
    "p(z^{(i)} = j) & = p(z^{(i)} = j|x^{(i)};\\theta)\\\\\n",
    "& = \\frac{p(x^{(i)}|z^{(i) = j};\\theta) p(z^{(i)} = j|\\theta)}{p(x)} \\\\\n",
    "& = \\frac{p(x^{(i)}|z^{(i) = j};\\theta) p(z^{(i)} = j|\\theta)}{\\sum_{l}p(x^{(i)}|z^{(i)} = l;\\theta) p(z^{(i)} = l; \\theta)}\n",
    "\\end{align*}$$"
   ]
  },
  {
   "cell_type": "markdown",
   "metadata": {},
   "source": [
    "Above is the __E-step__\n",
    "\n",
    "---\n",
    "\n",
    "The __M-step__ is to maximize the likelihood function\n",
    "$$\\log p(\\theta) + \\sum \\log \\sum_{z^{(i)}} Q(z^{(i)}) \\frac{p(x^{(i)}, z^{(i)}|\\theta)}{Q(z^{(i)})}$$\n",
    "\n",
    "Suppose after t iterations, we got $\\theta^{(t)}$ such that\n",
    "$$\\ell(\\theta^{(t)}) = \\sum \\text{ELBO}(x^{(i)};Q^{(t)}, \\theta^{(t)})$$\n",
    "With\n",
    "$$Q^{(t)}(z^{(i)}) = p(z^{(i)}|x^{(i)};\\theta^{(t - 1)})$$\n",
    "Then at the t+1 iteration, we make\n",
    "$$Q^{(t + 1)}(z^{(i)}) = p(z^{(i)}|x^{(i)};\\theta^{(t)})$$\n",
    "And in the M-step, we have\n",
    "$$\\begin{align*}\n",
    "\\ell(\\theta^{(t + 1)}) & = \\sum \\text{ELBO}(x^{(i)};Q^{(t + 1)}, \\theta^{(t + 1)}) \\\\\n",
    "& \\ge \\sum \\text{ELBO}(x^{(i)};Q^{(t)}, \\theta^{(t + 1)}) \\\\\n",
    "& \\ge \\ell(\\theta)\n",
    "\\end{align*}$$"
   ]
  }
 ],
 "metadata": {
  "kernelspec": {
   "display_name": "Python 3",
   "language": "python",
   "name": "python3"
  },
  "language_info": {
   "codemirror_mode": {
    "name": "ipython",
    "version": 3
   },
   "file_extension": ".py",
   "mimetype": "text/x-python",
   "name": "python",
   "nbconvert_exporter": "python",
   "pygments_lexer": "ipython3",
   "version": "3.6.7"
  }
 },
 "nbformat": 4,
 "nbformat_minor": 2
}
