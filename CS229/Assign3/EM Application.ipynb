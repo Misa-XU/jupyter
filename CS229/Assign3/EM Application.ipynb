{
 "cells": [
  {
   "cell_type": "markdown",
   "metadata": {},
   "source": [
    "![](dataset/31.jpg)\n",
    "![](dataset/32.jpg)"
   ]
  },
  {
   "cell_type": "markdown",
   "metadata": {},
   "source": [
    "![](dataset/311.jpg)\n",
    "![](dataset/312.jpg)"
   ]
  },
  {
   "cell_type": "markdown",
   "metadata": {},
   "source": [
    "Here we just omit the superscript $(pr)$. We know that\n",
    "$$p(y, z, x) = p(x|y, z) * p(y, z) = p(x|y, z) * p(y) * p(z)$$ Because the random variables $y$ and $z$ are independent.\n",
    "Under the fact that $E(x|y, z) = E(y + z) = \\mu_p + \\nu_r$, then\n",
    "$$p(y, z, x) = \\frac{1}{\\sqrt{2\\pi} \\sigma} \\exp{- \\frac{(x - y - z)^2}{2\\sigma^2}} * \\frac{1}{\\sqrt{2\\pi} \\sigma_p} \\exp{- \\frac{(y - \\mu_p)^2}{2\\sigma_p^2}} * \\frac{1}{\\sqrt{2\\pi} \\tau_r} \\exp{- \\frac{(z - \\nu_r)^2}{2\\tau_r^2}}$$\n",
    "After calculation which is omitted here, we find that this could be written as a multi-normal distribution of these three variable, such that\n",
    "$$\\begin{bmatrix} y \\\\ z \\\\ x \\end{bmatrix} \\sim \\aleph(\\begin{bmatrix} \\mu_p \\\\ \\nu_r \\\\ \\mu_p + \\nu_r \\end{bmatrix}, \\begin{bmatrix} \\sigma_p^2 & 0 & \\sigma_p^2 \\\\ 0 & \\tau_r^2 & \\tau_r^2 \\\\ \\sigma_p^2 & \\tau_r^2 & \\sigma_p^2 + \\tau_r^2 + \\sigma^2 \\end{bmatrix} )$$ "
   ]
  },
  {
   "cell_type": "markdown",
   "metadata": {},
   "source": [
    "We could split the random variables into two parts like $\\begin{bmatrix} y & z & | & x \\end{bmatrix} $, so given x, the conditional distribution is like\n",
    "$$p(y, z | x) = \\aleph(\\begin{bmatrix} \\mu_p \\\\ \\nu_r \\end{bmatrix} + \\frac{x - (\\mu_p + \\nu_r)}{\\sigma_p^2 + \\tau_r^2 + \\sigma^2} \\begin{bmatrix} \\sigma_p^2 \\\\ \\tau_r^2 \\end{bmatrix}, \\begin{bmatrix} \\sigma_p^2 & 0 \\\\ 0 & \\tau_r^2 \\end{bmatrix} + \\frac{1}{\\sigma_p^2 + \\sigma_2 + \\tau_r^2} \\begin{bmatrix} \\sigma_p^4 & \\sigma_p^2 \\tau_r^2 \\\\ \\sigma_p^2 \\tau_r^2 & \\tau_r^4 \\end{bmatrix})$$"
   ]
  },
  {
   "cell_type": "markdown",
   "metadata": {},
   "source": [
    "![](dataset/322.jpg)"
   ]
  },
  {
   "cell_type": "markdown",
   "metadata": {},
   "source": [
    "$$\\begin{align*}\n",
    "\\ell(\\theta) & = \\log \\prod p(x;\\theta) \\\\\n",
    "& = \\sum log \\int_Q p(x| Q;\\theta) dQ \\\\\n",
    "& \\ge \\sum  \\int Q \\log p(x| Q; \\theta)\n",
    "\\end{align*}$$\n",
    "And the equality holds when $Q$ is the posterior estimation, such that\n",
    "$$\\ell(\\theta) = \\sum_p  \\sum_r \\sum_Q Q \\log p(x| y, z; \\theta)$$\n",
    "Then let's update the parameters\n",
    "$$\\frac{\\partial}{\\partial \\mu_p} \\ell = $$"
   ]
  }
 ],
 "metadata": {
  "kernelspec": {
   "display_name": "Python 3",
   "language": "python",
   "name": "python3"
  },
  "language_info": {
   "codemirror_mode": {
    "name": "ipython",
    "version": 3
   },
   "file_extension": ".py",
   "mimetype": "text/x-python",
   "name": "python",
   "nbconvert_exporter": "python",
   "pygments_lexer": "ipython3",
   "version": "3.6.7"
  }
 },
 "nbformat": 4,
 "nbformat_minor": 2
}
