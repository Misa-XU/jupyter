{
 "cells": [
  {
   "cell_type": "markdown",
   "metadata": {},
   "source": [
    "![q4](dataset/q4.png)"
   ]
  },
  {
   "cell_type": "markdown",
   "metadata": {},
   "source": [
    "1. $K(x, z) = K_1(x, z) + K_2(x, z)$\n",
    "    - Yes\n",
    "1. $K(x, z) = K_1(x, z) - K_2(x, z)$\n",
    "    - No\n",
    "1. $K(x, z) = \\alpha K_1(x, z)$\n",
    "    - Yes\n",
    "1. $K(x, z) = -\\alpha K_1(x, z)$\n",
    "    - No\n",
    "1. $K(x, z) = K_1(x, z) * K_2(x, z)$\n",
    "    - Yes\n",
    "1. $K(x, z) = f(x)f(z)$\n",
    "    - Yes\n",
    "1. $K(x, z) = K_3(\\Phi(x), \\Phi(z))$\n",
    "    - Yes\n",
    "1. $K(x, z) = p(K_1(x, z))$\n",
    "    - Yes"
   ]
  }
 ],
 "metadata": {
  "kernelspec": {
   "display_name": "Python 3",
   "language": "python",
   "name": "python3"
  },
  "language_info": {
   "codemirror_mode": {
    "name": "ipython",
    "version": 3
   },
   "file_extension": ".py",
   "mimetype": "text/x-python",
   "name": "python",
   "nbconvert_exporter": "python",
   "pygments_lexer": "ipython3",
   "version": "3.6.7"
  }
 },
 "nbformat": 4,
 "nbformat_minor": 2
}
