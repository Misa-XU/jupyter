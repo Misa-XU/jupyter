{
 "cells": [
  {
   "cell_type": "markdown",
   "metadata": {},
   "source": [
    "![](dataset/q3.png)"
   ]
  },
  {
   "cell_type": "markdown",
   "metadata": {},
   "source": [
    "If $||\\theta_{MAP}||_2 \\ge ||\\theta_{ML}||_2$, then we have $p(\\theta_{MAP}) \\le p(\\theta_{ML})$, so\n",
    "$$p(\\theta_{MAP}) \\prod p(y^{(i)}|x^{(i)}, \\theta_{MAP}) \\le p(\\theta_{ML}) \\prod p(y^{(i)}|x^{(i)}, \\theta_{MLP}) \\le p(\\theta_{ML}) \\prod p(y^{(i)}|x^{(i)}, \\theta_{ML})$$\n",
    "Then $\\theta_{MAP}$ is not a argmax. By contradiction, we could say that $||\\theta_{MAP}||_2 \\le ||\\theta_{ML}||_2$"
   ]
  }
 ],
 "metadata": {
  "kernelspec": {
   "display_name": "Python 3",
   "language": "python",
   "name": "python3"
  },
  "language_info": {
   "codemirror_mode": {
    "name": "ipython",
    "version": 3
   },
   "file_extension": ".py",
   "mimetype": "text/x-python",
   "name": "python",
   "nbconvert_exporter": "python",
   "pygments_lexer": "ipython3",
   "version": "3.6.7"
  }
 },
 "nbformat": 4,
 "nbformat_minor": 2
}
