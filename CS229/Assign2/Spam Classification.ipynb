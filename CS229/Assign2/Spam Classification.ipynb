{
 "cells": [
  {
   "cell_type": "code",
   "execution_count": 139,
   "metadata": {},
   "outputs": [],
   "source": [
    "import numpy as np\n",
    "\n",
    "def readMatrix(file):\n",
    "    fd = open(file, 'r')\n",
    "    hdr = fd.readline()\n",
    "    rows, cols = [int(s) for s in fd.readline().strip().split()]\n",
    "    tokens = fd.readline().strip().split()\n",
    "    matrix = np.zeros((rows, cols))\n",
    "    Y = []\n",
    "    for i, line in enumerate(fd):\n",
    "        nums = [int(x) for x in line.strip().split()]\n",
    "        Y.append(nums[0])\n",
    "        kv = np.array(nums[1:])\n",
    "        k = np.cumsum(kv[:-1:2])\n",
    "        v = kv[1::2]\n",
    "        matrix[i, k] = v\n",
    "    return matrix, tokens, np.array(Y)\n",
    "\n",
    "def nb_train(matrix, category):\n",
    "    state = {}\n",
    "    N = matrix.shape[1]\n",
    "    ###################\n",
    "    vn0 = np.sum(matrix[category == 0, :])\n",
    "    vn1 = np.sum(matrix[category == 1, :])\n",
    "    \n",
    "    state['phi0'] =  (np.sum(matrix[category == 0, :], axis = 0) + 1)/ (vn0 + N)\n",
    "    state['phi1'] =  (np.sum(matrix[category == 1, :], axis = 0) + 1)/ (vn1 + N)\n",
    "    \n",
    "    state['y1']  = np.sum(category) / category.shape[0]\n",
    "    ###################\n",
    "    return state\n",
    "\n",
    "def nb_test(matrix, state):\n",
    "    output = np.zeros(matrix.shape[0])\n",
    "    ###################\n",
    "    py1 = matrix.dot(np.log(state['phi1'])) + np.log(state['y1'])\n",
    "    py0 = matrix.dot(np.log(state['phi0'])) + np.log(1 - state['y1'])\n",
    "\n",
    "    output[py1 > py0] = 1\n",
    "    ###################\n",
    "    return output\n",
    "\n",
    "def evaluate(output, label):\n",
    "    error = (output != label).sum() * 1. / len(output)\n",
    "    print ('Error: %1.4f' % error)\n",
    "    return error\n",
    "\n",
    "def main():\n",
    "    trainMatrix, tokenlist, trainCategory = readMatrix('dataset/MATRIX.TRAIN')\n",
    "    testMatrix, tokenlist, testCategory = readMatrix('dataset/MATRIX.TEST')\n",
    "\n",
    "    state = nb_train(trainMatrix, trainCategory)\n",
    "    output = nb_test(testMatrix, state)\n",
    "\n",
    "    evaluate(output, testCategory)"
   ]
  },
  {
   "cell_type": "code",
   "execution_count": 140,
   "metadata": {},
   "outputs": [],
   "source": [
    "def findMostIndictive(dataset, n = 5):\n",
    "    trainMatrix, tokenlist, trainCategory = readMatrix(dataset)\n",
    "    state = nb_train(trainMatrix, trainCategory)\n",
    "    ratio = state['phi1'] / state['phi0']\n",
    "    indices = np.argsort(ratio)[::-1]\n",
    "    print(np.asarray(tokenlist)[indices[:n]])"
   ]
  },
  {
   "cell_type": "code",
   "execution_count": 109,
   "metadata": {
    "scrolled": true
   },
   "outputs": [
    {
     "name": "stdout",
     "output_type": "stream",
     "text": [
      "['httpaddr' 'spam' 'unsubscrib' 'ebai' 'valet' 'diploma' 'dvd' 'websit'\n",
      " 'click' 'lowest' 'numberpx' 'arial' 'helvetica' 'serif' 'nashua'\n",
      " 'amherst' 'mortgag' 'refin' 'charset' 'newslett' 'customerservic'\n",
      " 'numberpt' 'iso' 'web' 'lender' 'numberd' 'loan' 'dailybargainmail'\n",
      " 'coral' 'html' 'unsolicit' 'www' 'fl' 'holidai' 'equiti' 'tal' 'consolid'\n",
      " 'bachelor' 'sweepstak' 'subscript' 'mba' 'bonu' 'ae' 'refinanc' 'hover'\n",
      " 'mime' 'untitl' 'subscrib' 'recur' 'postal']\n"
     ]
    }
   ],
   "source": [
    "findMostIndictive('dataset/MATRIX.TRAIN', 50)"
   ]
  },
  {
   "cell_type": "code",
   "execution_count": 142,
   "metadata": {},
   "outputs": [],
   "source": [
    "import glob\n",
    "from matplotlib import pyplot as plt"
   ]
  },
  {
   "cell_type": "code",
   "execution_count": 143,
   "metadata": {
    "scrolled": false
   },
   "outputs": [
    {
     "name": "stdout",
     "output_type": "stream",
     "text": [
      "Error: 0.0387\n",
      "Error: 0.0262\n",
      "Error: 0.0262\n",
      "Error: 0.0187\n",
      "Error: 0.0175\n",
      "Error: 0.0163\n"
     ]
    },
    {
     "data": {
      "image/png": "[encoded data removed]",
      "text/plain": [
       "<Figure size 432x288 with 1 Axes>"
      ]
     },
     "metadata": {
      "needs_background": "light"
     },
     "output_type": "display_data"
    }
   ],
   "source": [
    "def tryMultipleSize():\n",
    "    prefix = \"dataset/MATRIX.TRAIN.\"\n",
    "    lst = sorted([int(s.split('.')[-1]) for s in glob.glob(prefix + \"*\")])\n",
    "    \n",
    "    testMatrix, tokenlist, testCategory = readMatrix('dataset/MATRIX.TEST')\n",
    "    errors = []\n",
    "    for l in lst:\n",
    "        trainMatrix, tokenlist, trainCategory = readMatrix('{0}{1}'.format(prefix, l))\n",
    "        state = nb_train(trainMatrix, trainCategory)\n",
    "        output = nb_test(testMatrix, state)\n",
    "        errors.append(evaluate(output, testCategory))\n",
    "    \n",
    "    plt.plot(lst, errors)\n",
    "tryMultipleSize()"
   ]
  },
  {
   "cell_type": "code",
   "execution_count": 144,
   "metadata": {},
   "outputs": [
    {
     "data": {
      "text/plain": [
       "array([[ 1,  4],\n",
       "       [ 9, 16]])"
      ]
     },
     "execution_count": 144,
     "metadata": {},
     "output_type": "execute_result"
    }
   ],
   "source": [
    "a = np.array([[1, 2],[3, 4]])\n",
    "a * a"
   ]
  }
 ],
 "metadata": {
  "kernelspec": {
   "display_name": "Python 3",
   "language": "python",
   "name": "python3"
  },
  "language_info": {
   "codemirror_mode": {
    "name": "ipython",
    "version": 3
   },
   "file_extension": ".py",
   "mimetype": "text/x-python",
   "name": "python",
   "nbconvert_exporter": "python",
   "pygments_lexer": "ipython3",
   "version": "3.6.7"
  }
 },
 "nbformat": 4,
 "nbformat_minor": 2
}
