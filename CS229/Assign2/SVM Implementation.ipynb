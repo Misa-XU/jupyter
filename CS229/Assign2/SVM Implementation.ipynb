{
 "cells": [
  {
   "cell_type": "code",
   "execution_count": 1,
   "metadata": {},
   "outputs": [],
   "source": [
    "import numpy as np\n",
    "\n",
    "def readMatrix(file):\n",
    "    fd = open(file, 'r')\n",
    "    hdr = fd.readline()\n",
    "    rows, cols = [int(s) for s in fd.readline().strip().split()]\n",
    "    tokens = fd.readline().strip().split()\n",
    "    matrix = np.zeros((rows, cols))\n",
    "    Y = []\n",
    "    for i, line in enumerate(fd):\n",
    "        nums = [int(x) for x in line.strip().split()]\n",
    "        Y.append(nums[0])\n",
    "        kv = np.array(nums[1:])\n",
    "        k = np.cumsum(kv[:-1:2])\n",
    "        v = kv[1::2]\n",
    "        matrix[i, k] = v\n",
    "    category = (np.array(Y) * 2) - 1\n",
    "    return matrix, tokens, category"
   ]
  },
  {
   "cell_type": "code",
   "execution_count": 90,
   "metadata": {},
   "outputs": [],
   "source": [
    "def svm_train(matrix, category, tau = 8, outer_loops = 40):\n",
    "    state = {}\n",
    "    M, N = matrix.shape\n",
    "    #####################\n",
    "    Y = category\n",
    "    matrix = 1. * (matrix > 0)\n",
    "    squared = np.sum(matrix, axis=1)\n",
    "    gram = matrix.dot(matrix.T)\n",
    "    K = np.exp(-(squared.reshape((1, -1)) + squared.reshape((-1, 1)) - 2 * gram) / (2 * (tau ** 2)) )\n",
    "\n",
    "    alpha = np.zeros(M)\n",
    "    alpha_avg = np.zeros(M)\n",
    "    L = 1. / (tau ** 2 * M)\n",
    "\n",
    "    alpha_avg\n",
    "    for ii in range(outer_loops * M):\n",
    "        i = int(np.random.rand() * M)\n",
    "        margin = Y[i] * np.dot(K[i, :], alpha)\n",
    "        grad = M * L * K[:, i] * alpha[i]\n",
    "        if (margin < 1):\n",
    "            grad -=  Y[i] * K[:, i]\n",
    "        alpha -=  grad / np.sqrt(ii + 1)\n",
    "        alpha_avg += alpha\n",
    "\n",
    "    alpha_avg /= (ii + 1) * M\n",
    "\n",
    "    state['alpha'] = alpha\n",
    "    state['alpha_avg'] = alpha_avg\n",
    "    state['Xtrain'] = matrix\n",
    "    state['Sqtrain'] = squared\n",
    "    ####################\n",
    "    return state"
   ]
  },
  {
   "cell_type": "code",
   "execution_count": 16,
   "metadata": {},
   "outputs": [],
   "source": [
    "def svm_test(matrix, state, tau = 8):\n",
    "    M, N = matrix.shape\n",
    "    output = np.zeros(M)\n",
    "    ###################\n",
    "    Xtrain = state['Xtrain']\n",
    "    Sqtrain = state['Sqtrain']\n",
    "    matrix = 1. * (matrix > 0)\n",
    "    squared = np.sum(matrix * matrix, axis=1)\n",
    "    gram = matrix.dot(Xtrain.T)\n",
    "    K = np.exp(-(squared.reshape((-1, 1)) + Sqtrain.reshape((1, -1)) - 2 * gram) / (2 * (tau ** 2)))\n",
    "    alpha_avg = state['alpha_avg']\n",
    "    preds = K.dot(alpha_avg)\n",
    "    output = np.sign(preds)\n",
    "    ###################\n",
    "    return output"
   ]
  },
  {
   "cell_type": "code",
   "execution_count": 5,
   "metadata": {},
   "outputs": [],
   "source": [
    "def evaluate(output, label):\n",
    "    error = (output != label).sum() * 1. / len(output)\n",
    "    print ('Error: %1.4f' % error)"
   ]
  },
  {
   "cell_type": "code",
   "execution_count": 88,
   "metadata": {},
   "outputs": [],
   "source": [
    "def main():\n",
    "    trainMatrix, tokenlist, trainCategory = readMatrix('dataset/MATRIX.TRAIN.400')\n",
    "    testMatrix, tokenlist, testCategory = readMatrix('dataset/MATRIX.TEST')\n",
    "\n",
    "    state = svm_train(trainMatrix, trainCategory)\n",
    "    output = svm_test(testMatrix, state)\n",
    "\n",
    "    evaluate(output, testCategory)\n",
    "    return"
   ]
  },
  {
   "cell_type": "code",
   "execution_count": 187,
   "metadata": {
    "scrolled": true
   },
   "outputs": [
    {
     "name": "stdout",
     "output_type": "stream",
     "text": [
      "Error: 0.0013\n"
     ]
    }
   ],
   "source": [
    "main()"
   ]
  },
  {
   "cell_type": "markdown",
   "metadata": {},
   "source": [
    "---"
   ]
  },
  {
   "cell_type": "code",
   "execution_count": 105,
   "metadata": {},
   "outputs": [],
   "source": [
    "def perception_in_primal(X, Y, epoch = 40):\n",
    "    M, N = X.shape\n",
    "    theta = np.random.randn(N)\n",
    "    for i in range(epoch):\n",
    "        for j in range(M):\n",
    "            margin = Y[j] * theta.dot(X[j, :].T)\n",
    "            if margin <= 0:\n",
    "                theta += Y[j] * X[j, :]\n",
    "    print(test_perception_primal(X, Y, theta))\n",
    "    return theta"
   ]
  },
  {
   "cell_type": "code",
   "execution_count": 106,
   "metadata": {},
   "outputs": [],
   "source": [
    "def test_perception_primal(X, Y, theta):\n",
    "    h = X @ theta\n",
    "    return h[h * Y < 0].size / Y.size"
   ]
  },
  {
   "cell_type": "code",
   "execution_count": 186,
   "metadata": {},
   "outputs": [
    {
     "name": "stdout",
     "output_type": "stream",
     "text": [
      "0.0\n"
     ]
    },
    {
     "data": {
      "text/plain": [
       "0.01375"
      ]
     },
     "execution_count": 186,
     "metadata": {},
     "output_type": "execute_result"
    }
   ],
   "source": [
    "trainMatrix, tokenlist, trainCategory = readMatrix('dataset/MATRIX.TRAIN.400')\n",
    "testMatrix, tokenlist, testCategory = readMatrix('dataset/MATRIX.TEST')\n",
    "theta = perception_in_primal(trainMatrix, trainCategory)\n",
    "test_perception_primal(testMatrix, testCategory, theta)"
   ]
  },
  {
   "cell_type": "markdown",
   "metadata": {},
   "source": [
    "-----"
   ]
  },
  {
   "cell_type": "code",
   "execution_count": 232,
   "metadata": {},
   "outputs": [],
   "source": [
    "def perception_in_dual(X, Y, tau = 8, epoch = 40):\n",
    "    M, N = X.shape\n",
    "    alpha = np.random.randn(M)\n",
    "    X = 1 * (X > 0)\n",
    "    squared = np.sum(X * X, axis = 1)\n",
    "    K = np.exp((squared.reshape((1, -1)) + squared.reshape((-1, 1)) - 2 * X @ X.T)/ 2 / tau ** 2)\n",
    "    for i in range(epoch):\n",
    "        for j in range(M):\n",
    "            margin = Y[j] * K[j, :] @ alpha\n",
    "            if margin <= 0:\n",
    "                alpha += Y[j] * K[j, :]\n",
    "    print(test_perception_dual(X, X, Y, alpha))\n",
    "    return alpha"
   ]
  },
  {
   "cell_type": "code",
   "execution_count": 233,
   "metadata": {},
   "outputs": [],
   "source": [
    "def test_perception_dual(X, trainX, Y, alpha, tau = 8):\n",
    "    X = 1 * (X > 0)\n",
    "    trainX = 1 * (trainX > 0)\n",
    "    squaredTrain = np.sum(trainX * trainX, axis = 1)\n",
    "    squaredTest = np.sum(X * X, axis = 1)\n",
    "    K = np.exp((squaredTrain.reshape((1, -1)) + squaredTest.reshape((-1, 1)) - 2 * X @ trainX.T)/ 2 / tau ** 2)\n",
    "    \n",
    "    h = alpha @ K.T\n",
    "    return h[h * Y < 0].size / Y.size"
   ]
  },
  {
   "cell_type": "code",
   "execution_count": 234,
   "metadata": {},
   "outputs": [
    {
     "name": "stdout",
     "output_type": "stream",
     "text": [
      "0.0\n"
     ]
    },
    {
     "data": {
      "text/plain": [
       "0.00125"
      ]
     },
     "execution_count": 234,
     "metadata": {},
     "output_type": "execute_result"
    }
   ],
   "source": [
    "trainMatrix, tokenlist, trainCategory = readMatrix('dataset/MATRIX.TRAIN.400')\n",
    "testMatrix, tokenlist, testCategory = readMatrix('dataset/MATRIX.TEST')\n",
    "theta = perception_in_dual(trainMatrix, trainCategory)\n",
    "test_perception_dual(testMatrix, trainMatrix, testCategory, theta)"
   ]
  }
 ],
 "metadata": {
  "kernelspec": {
   "display_name": "Python 3",
   "language": "python",
   "name": "python3"
  },
  "language_info": {
   "codemirror_mode": {
    "name": "ipython",
    "version": 3
   },
   "file_extension": ".py",
   "mimetype": "text/x-python",
   "name": "python",
   "nbconvert_exporter": "python",
   "pygments_lexer": "ipython3",
   "version": "3.6.7"
  }
 },
 "nbformat": 4,
 "nbformat_minor": 2
}
