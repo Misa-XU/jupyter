{
 "cells": [
  {
   "cell_type": "markdown",
   "metadata": {},
   "source": [
    "![](dataset/31.jpg)"
   ]
  },
  {
   "cell_type": "markdown",
   "metadata": {},
   "source": [
    "Here the problem is \n",
    "$$\\begin{align*}\n",
    "& \\underset{u}{\\arg \\min} \\sum ||x_i - u u^T x_i||_2^2 \\\\\n",
    "& \\text{subject to }  ||u|| = 1\n",
    "\\end{align*}$$"
   ]
  },
  {
   "cell_type": "markdown",
   "metadata": {},
   "source": [
    "We have\n",
    "$$\\begin{align*}\n",
    "\\sum ||x_i - u u^T x_i||_2^2 & = \\sum (x_i - u u^T x_i)^T (x_i - u u^T x_i) \\\\\n",
    "& = \\sum (x_i^T x_i - 2 x_i^T u u^T x_i + x_i^T u u^T u u^T x_i) \\\\\n",
    "& = \\sum (x_i^T x_i - x_i^T u u^T x_i) \\\\\n",
    "& = \\sum (x_i^T x_i - u^T x_i x_i^T u) \\\\\n",
    "& = \\sum x_i^T x_i - u^T \\sum x_i x_i^T u  \\\\\n",
    "& = \\sum x_i^T x_i - u^T \\Sigma u\n",
    "\\end{align*}$$\n",
    "So it's equivalent to find $u$ such that maximize $ u^T \\Sigma u$\n",
    "$$\\begin{align*}\n",
    "u^T \\Sigma u & = u^T (\\sum \\lambda_i e_i e_i^T) u \\\\\n",
    "& = \\sum \\lambda_i u^T  e_i e_i^T  u\n",
    "\\end{align*}$$\n",
    "Since\n",
    "$$\\sum u^T e_i e_i^T u = u^T P P^T u = u^T u = 1$$\n",
    "Then\n",
    "$$\\begin{align*}\n",
    "u^T \\Sigma u & = \\sum \\lambda_i u^T  e_i e_i^T  u \\\\\n",
    "& \\le \\sum \\lambda_1 u^T  e_i e_i^T  u = \\lambda_1 \\sum u^T  e_i e_i^T  u = 1\n",
    "\\end{align*}$$\n",
    "When the equality holds, u is the first principle component"
   ]
  }
 ],
 "metadata": {
  "kernelspec": {
   "display_name": "Python 3",
   "language": "python",
   "name": "python3"
  },
  "language_info": {
   "codemirror_mode": {
    "name": "ipython",
    "version": 3
   },
   "file_extension": ".py",
   "mimetype": "text/x-python",
   "name": "python",
   "nbconvert_exporter": "python",
   "pygments_lexer": "ipython3",
   "version": "3.6.7"
  }
 },
 "nbformat": 4,
 "nbformat_minor": 2
}
