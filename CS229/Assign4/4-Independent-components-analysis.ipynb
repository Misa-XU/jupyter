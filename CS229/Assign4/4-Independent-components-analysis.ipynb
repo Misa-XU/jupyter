{
 "cells": [
  {
   "cell_type": "code",
   "execution_count": 9,
   "metadata": {},
   "outputs": [],
   "source": [
    "import sounddevice as sd\n",
    "import numpy as np\n",
    "\n",
    "Fs = 11025\n",
    "\n",
    "def normalize(dat):\n",
    "    return 0.99 * dat / np.max(np.abs(dat))\n",
    "\n",
    "def load_data():\n",
    "    mix = np.loadtxt('dataset/mix.dat')\n",
    "    return mix\n",
    "\n",
    "def play(vec):\n",
    "    sd.play(vec, Fs, blocking=True)\n"
   ]
  },
  {
   "cell_type": "code",
   "execution_count": 62,
   "metadata": {},
   "outputs": [],
   "source": [
    "def unmix(X, W):\n",
    "    return X @ W"
   ]
  },
  {
   "cell_type": "code",
   "execution_count": 142,
   "metadata": {},
   "outputs": [],
   "source": [
    "g = lambda x: 1. / (1 + np.exp(-x))\n",
    "def unmixer(X, W):\n",
    "    M, N = X.shape\n",
    "    print(X.shape)\n",
    "    anneal = [0.1, 0.1, 0.1, 0.05, 0.05, 0.05, 0.02, 0.02, 0.01, 0.01,\n",
    "              0.005, 0.005, 0.002, 0.002, 0.001, 0.001]\n",
    "    print('Separating tracks ...')\n",
    "    ######## Your code here ##########\n",
    "    for lr in anneal[:5]:\n",
    "        for xi in X:\n",
    "            W += lr * (np.outer((1 - 2 * g(W @ xi)).T, xi) + np.linalg.pinv(W.T))\n",
    "    ##################################\n",
    "    ###################################\n",
    "    return W"
   ]
  },
  {
   "cell_type": "code",
   "execution_count": 36,
   "metadata": {},
   "outputs": [],
   "source": [
    "raw_data = load_data()\n",
    "X = normalize(raw_data)"
   ]
  },
  {
   "cell_type": "code",
   "execution_count": 143,
   "metadata": {},
   "outputs": [],
   "source": [
    "W = np.eye(X.shape[1])"
   ]
  },
  {
   "cell_type": "code",
   "execution_count": 144,
   "metadata": {
    "scrolled": true
   },
   "outputs": [
    {
     "name": "stdout",
     "output_type": "stream",
     "text": [
      "(53442, 5)\n",
      "Separating tracks ...\n"
     ]
    },
    {
     "data": {
      "text/plain": [
       "array([[ 74.43364911,  28.71833051,  25.31993979, -19.29764296,\n",
       "        -19.65386299],\n",
       "       [ 13.59833246,  37.90354807,  -3.19791934, -17.32406211,\n",
       "          8.75348117],\n",
       "       [ 22.28591286,  -6.68325342,  29.41435639,  21.20392389,\n",
       "        -20.20773404],\n",
       "       [ -3.5959553 ,  -2.68877671,  -4.91503163,  25.20307068,\n",
       "         -9.14594202],\n",
       "       [-12.56399068,  22.46595974,   8.35776951,  13.38762619,\n",
       "         48.70304747]])"
      ]
     },
     "execution_count": 144,
     "metadata": {},
     "output_type": "execute_result"
    }
   ],
   "source": [
    "unmixer(X, W)"
   ]
  },
  {
   "cell_type": "code",
   "execution_count": 100,
   "metadata": {},
   "outputs": [],
   "source": [
    "W_expected = np.array([[ 72.15081922,  28.62441682,  25.91040458, -17.2322227 , -21.191357  ],\n",
    "                       [ 13.45886116,  31.94398247,  -4.03003982, -24.0095722 , 11.89906179 ],\n",
    "                       [ 18.89688784,  -7.80435173,  28.71469558,  18.14356811, -21.17474522],\n",
    "                       [ -6.0119837 ,  -4.15743607,  -1.01692289,  13.87321073, -5.26252289 ],\n",
    "                       [ -8.74061186,  22.55821897,   9.61289023,  14.73637074, 45.28841827 ]])"
   ]
  },
  {
   "cell_type": "code",
   "execution_count": 145,
   "metadata": {},
   "outputs": [],
   "source": [
    "S = normalize(unmix(X, W))"
   ]
  },
  {
   "cell_type": "code",
   "execution_count": 146,
   "metadata": {
    "scrolled": true
   },
   "outputs": [
    {
     "name": "stdout",
     "output_type": "stream",
     "text": [
      "Playing mixed track 0\n",
      "Playing separated track 0\n",
      "Playing mixed track 1\n",
      "Playing separated track 1\n",
      "Playing mixed track 2\n",
      "Playing separated track 2\n",
      "Playing mixed track 3\n",
      "Playing separated track 3\n",
      "Playing mixed track 4\n",
      "Playing separated track 4\n"
     ]
    }
   ],
   "source": [
    "for i in range(S.shape[1]):\n",
    "    print('Playing mixed track %d' % i)\n",
    "    #play(X[:, i])\n",
    "    print('Playing separated track %d' % i)\n",
    "    play(S[:, i])"
   ]
  }
 ],
 "metadata": {
  "kernelspec": {
   "display_name": "Python 3",
   "language": "python",
   "name": "python3"
  },
  "language_info": {
   "codemirror_mode": {
    "name": "ipython",
    "version": 3
   },
   "file_extension": ".py",
   "mimetype": "text/x-python",
   "name": "python",
   "nbconvert_exporter": "python",
   "pygments_lexer": "ipython3",
   "version": "3.6.7"
  }
 },
 "nbformat": 4,
 "nbformat_minor": 2
}
