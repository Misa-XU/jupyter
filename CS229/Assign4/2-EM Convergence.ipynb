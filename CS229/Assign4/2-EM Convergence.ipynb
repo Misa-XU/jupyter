{
 "cells": [
  {
   "cell_type": "markdown",
   "metadata": {},
   "source": [
    "![](dataset/21.jpg)"
   ]
  },
  {
   "cell_type": "markdown",
   "metadata": {},
   "source": [
    "![](dataset/22.jpg)"
   ]
  },
  {
   "cell_type": "markdown",
   "metadata": {},
   "source": [
    "When converged, we have\n",
    "$$Q^*(z^{(i)}) = p(z^{(i)}|x^{(i)}; \\theta^*) = \\frac{ p(z^{(i)},x^{(i)}; \\theta^*)}{ p(x^{(i)}; \\theta^*)}$$\n",
    "and\n",
    "$$M = \\sum^m \\sum_{z^(i)} Q^*(z^{(i)}) \\log \\frac{p(x^{(i)}, z^{(i)}; \\theta)}{Q^*(z^{(i)})}$$"
   ]
  },
  {
   "cell_type": "markdown",
   "metadata": {},
   "source": [
    "Then\n",
    "$$\\begin{align*}\n",
    "\\nabla_\\theta M & = \\sum^m \\sum_{z^(i)} Q^*(z^{(i)}) \\frac{\\nabla_\\theta p(x^{(i)}, z^{(i)};\\theta)}{p(x^{(i)}, z^{(i)}; \\theta)} \\\\\n",
    "& = \\sum^m \\sum_{z^(i)} \\frac{ p(z^{(i)},x^{(i)}; \\theta^*)}{ p(x^{(i)}; \\theta^*)} \\frac{\\nabla_\\theta p(x^{(i)}, z^{(i)};\\theta)}{p(x^{(i)}, z^{(i)}; \\theta)} \\\\\n",
    "\\end{align*}$$"
   ]
  },
  {
   "cell_type": "markdown",
   "metadata": {},
   "source": [
    "$$\\begin{align*}\n",
    "0 & =  \\nabla_\\theta M|_{\\theta = \\theta^*} = \\sum^m \\sum_{z^(i)} \\frac{ p(z^{(i)},x^{(i)}; \\theta^*)}{ p(x^{(i)}; \\theta^*)} \\frac{\\nabla_\\theta p(x^{(i)}, z^{(i)};\\theta^*)}{p(x^{(i)}, z^{(i)}; \\theta^*)} \\\\\n",
    "& = \\sum^m \\sum_{z^(i)} \\frac{\\nabla_\\theta p(x^{(i)}, z^{(i)};\\theta^*)}{ p(x^{(i)}; \\theta^*)} \\\\\n",
    "& = \\sum^m \\frac{\\nabla_\\theta p(x^{(i)};\\theta^*)}{ p(x^{(i)}; \\theta^*)} \\\\\n",
    "& = \\sum^m \\nabla_\\theta \\log p(x^{(i)};\\theta^*) \\\\\n",
    "& = \\nabla_\\theta \\sum^m \\ell(\\theta)\n",
    "\\end{align*}$$"
   ]
  },
  {
   "cell_type": "markdown",
   "metadata": {},
   "source": [
    "So we also maximized $\\ell(\\theta)$"
   ]
  }
 ],
 "metadata": {
  "kernelspec": {
   "display_name": "Python 3",
   "language": "python",
   "name": "python3"
  },
  "language_info": {
   "codemirror_mode": {
    "name": "ipython",
    "version": 3
   },
   "file_extension": ".py",
   "mimetype": "text/x-python",
   "name": "python",
   "nbconvert_exporter": "python",
   "pygments_lexer": "ipython3",
   "version": "3.6.7"
  }
 },
 "nbformat": 4,
 "nbformat_minor": 2
}
