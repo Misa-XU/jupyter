{
 "cells": [
  {
   "cell_type": "code",
   "execution_count": 6,
   "metadata": {},
   "outputs": [],
   "source": [
    "from PIL import Image \n",
    "from numpy import complex\n",
    "\n",
    "# drawing area \n",
    "xa = -2.0\n",
    "xb = 1.0\n",
    "ya = -1.5\n",
    "yb = 1.5\n",
    "  \n",
    "# max iterations allowed \n",
    "MAXITER = 255\n",
    "THR = 2.0\n",
    "# image size \n",
    "imgx = 256\n",
    "imgy = 256\n",
    "image = Image.new(\"RGB\", (imgx, imgy)) \n",
    "\n",
    "y_in_space = lambda y: y / (imgy - 1) * (yb - ya) + ya\n",
    "x_in_space = lambda x: x / (imgx - 1) * (xb - xa) + xa\n",
    "\n",
    "def mandelbrot(x, y):\n",
    "    c0 = complex(x, y)\n",
    "    c = 0\n",
    "    n = 0\n",
    "    while abs(c) < THR and n < MAXITER:\n",
    "        c = c * c + c0\n",
    "        n += 1\n",
    "    return n"
   ]
  },
  {
   "cell_type": "code",
   "execution_count": 7,
   "metadata": {},
   "outputs": [],
   "source": [
    "MAXITER = 2048\n",
    "for i in range(1):\n",
    "    for y in range(imgy): \n",
    "        zy = y_in_space(y)\n",
    "        for x in range(imgx): \n",
    "            zx = x_in_space(x)\n",
    "            n = mandelbrot(zx, zy)\n",
    "            image.putpixel((x, y), (n % 4 * 64, n % 8 * 32, n % 16 * 16)) \n",
    "    image.save('images/' + 'WOW' + str(i) + \".png\") "
   ]
  },
  {
   "cell_type": "code",
   "execution_count": null,
   "metadata": {},
   "outputs": [],
   "source": []
  }
 ],
 "metadata": {
  "kernelspec": {
   "display_name": "Python 3",
   "language": "python",
   "name": "python3"
  },
  "language_info": {
   "codemirror_mode": {
    "name": "ipython",
    "version": 3
   },
   "file_extension": ".py",
   "mimetype": "text/x-python",
   "name": "python",
   "nbconvert_exporter": "python",
   "pygments_lexer": "ipython3",
   "version": "3.6.7"
  }
 },
 "nbformat": 4,
 "nbformat_minor": 2
}
