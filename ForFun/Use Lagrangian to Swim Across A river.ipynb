{
 "cells": [
  {
   "cell_type": "markdown",
   "metadata": {},
   "source": [
    "![](images/qw3.png)"
   ]
  },
  {
   "cell_type": "markdown",
   "metadata": {},
   "source": [
    "Given the intervals $s_1,...,s_n$, velocity of river $v_1,...,v_n$ and velocity of human $v$ as well as the time $T$, we could have\n",
    "$$\\begin{align*} \n",
    "\\frac{s_i}{v \\cos\\alpha_i} & = T_i\\\\\n",
    "\\sum \\frac{s_i}{v \\cos\\alpha_i} & \\le T\n",
    "\\end{align*}$$\n",
    "And the optimization problem\n",
    "$$\\underset{\\alpha_i}{\\text{argmin}} - \\sum (v_i + v\\sin \\alpha_i) \\frac{s_i}{v \\cos \\alpha_i}$$\n",
    "subject to\n",
    "$$\\sum \\frac{s_i}{v \\cos\\alpha_i} - T \\le 0$$\n",
    "Let's construct the lagrangian function\n",
    "$$L(\\alpha_1,...,\\alpha_n, \\lambda) = - \\sum (v_i + v\\sin \\alpha_i) \\frac{s_i}{v \\cos \\alpha_i} + \\lambda(\\sum \\frac{s_i}{v \\cos\\alpha_i} - T)$$"
   ]
  },
  {
   "cell_type": "markdown",
   "metadata": {},
   "source": [
    "$$\\begin{align*}\n",
    "\\frac{\\partial}{\\partial \\alpha_i} L & = - \\frac{v_i s_i}{v} \\frac{\\sin \\alpha_i}{\\cos^2 \\alpha_i} - \\frac{s_i}{\\cos^2 \\alpha_i} + \\lambda \\frac{s_i}{v} \\frac{\\sin \\alpha_i}{\\cos^2 \\alpha_i} = 0\\\\\n",
    "\\frac{\\partial}{\\partial \\lambda} L & =  \\sum \\frac{s_i}{v \\cos\\alpha_i} - T = 0\n",
    "\\end{align*}$$\n",
    "So\n",
    "$$\\begin{align*}\n",
    "\\sin \\alpha_i & = \\frac{v}{v_i - \\lambda} \\\\\n",
    "\\alpha_i & = \\arcsin \\frac{v}{v_i - \\lambda}\n",
    "\\end{align*}$$\n",
    "Finally, we have \n",
    "$$\\sum \\frac{s_i}{v \\cos \\arcsin \\frac{v}{v_i - \\lambda}} - T = 0$$\n",
    "We could get the value of $\\lambda$ here."
   ]
  }
 ],
 "metadata": {
  "kernelspec": {
   "display_name": "Python 3",
   "language": "python",
   "name": "python3"
  },
  "language_info": {
   "codemirror_mode": {
    "name": "ipython",
    "version": 3
   },
   "file_extension": ".py",
   "mimetype": "text/x-python",
   "name": "python",
   "nbconvert_exporter": "python",
   "pygments_lexer": "ipython3",
   "version": "3.6.7"
  }
 },
 "nbformat": 4,
 "nbformat_minor": 2
}
