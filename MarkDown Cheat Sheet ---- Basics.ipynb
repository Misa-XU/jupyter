{
 "cells": [
  {
   "cell_type": "markdown",
   "metadata": {},
   "source": [
    "## Headings"
   ]
  },
  {
   "cell_type": "code",
   "execution_count": null,
   "metadata": {},
   "outputs": [],
   "source": [
    "# From H1 to H6, headings \n",
    "\n",
    "#   # H1\n",
    "#   ## H2\n",
    "#   ### H3\n",
    "#   #### H4\n",
    "#   ##### H5\n",
    "#   ###### H6"
   ]
  },
  {
   "cell_type": "markdown",
   "metadata": {},
   "source": [
    "# H1\n",
    "## H2\n",
    "### H3\n",
    "#### H4\n",
    "##### H5\n",
    "###### H6"
   ]
  },
  {
   "cell_type": "markdown",
   "metadata": {},
   "source": [
    "## Basic Text Styles"
   ]
  },
  {
   "cell_type": "code",
   "execution_count": 2,
   "metadata": {},
   "outputs": [],
   "source": [
    "# These are several styles \n",
    "\n",
    "# Emphasis, aka italics        *asterisk* or _underscore_\n",
    "# Strong Emphasis, aka bold    **double-asterisks** or __double-underscores__\n",
    "# Combined Emphasis            **it_combines_bold and *italics***\n",
    "# Strikethrough                ~~Two-tildes~~\n",
    "# Inline Code                  `highlight`\n",
    "# Blockqoutes                  > \"我没说过这句话\" ---- 鲁迅\n",
    "#                              >> Nested qoutes may also useful in some cases\n",
    "\n",
    "\n",
    "#Code block with syntax highlighted\n",
    "# ```python\n",
    "# s = \"Python syntax highlighting\"\n",
    "# print s\n",
    "# ```"
   ]
  },
  {
   "cell_type": "markdown",
   "metadata": {},
   "source": [
    "*asterisk* and _undersocre_\n",
    "\n",
    "**double-asterisks** and __double-underscored__\n",
    "\n",
    "**_single-underscore-wrapped-by-double-asterisks_**\n",
    "\n",
    "~~Two-tildes~~\n",
    "\n",
    "**it_combines_bold and *italics***\n",
    "\n",
    "`Inline Code`\n",
    "\n",
    "> \"我没说过这句话\" ---- 鲁迅\n",
    ">> Nested qoutes may also useful in some cases\n",
    "\n",
    "Code block with syntax highlighted\n",
    "```python\n",
    "s = \"Python syntax highlighting\"\n",
    "print s\n",
    "```"
   ]
  },
  {
   "cell_type": "markdown",
   "metadata": {},
   "source": [
    "## Horizontal Rule"
   ]
  },
  {
   "cell_type": "code",
   "execution_count": null,
   "metadata": {},
   "outputs": [],
   "source": [
    "# --- or\n",
    "# *** or\n",
    "# ___"
   ]
  },
  {
   "cell_type": "markdown",
   "metadata": {},
   "source": [
    "---\n",
    "\n",
    "Hyphens\n",
    "\n",
    "***\n",
    "\n",
    "Asterisks\n",
    "\n",
    "___\n",
    "\n",
    "Underscores"
   ]
  },
  {
   "cell_type": "markdown",
   "metadata": {},
   "source": [
    "## Definition"
   ]
  },
  {
   "cell_type": "code",
   "execution_count": null,
   "metadata": {},
   "outputs": [],
   "source": [
    "'''\n",
    "term\n",
    ": definition\n",
    "\n",
    "It works in github, but not in jupyter\n",
    "\n",
    "The equivalent HTML format is:\n",
    "<dl>\n",
    "  <dt>First Term</dt>\n",
    "  <dd>This is the definition of the first term.</dd>\n",
    "  <dt>Second Term</dt>\n",
    "  <dd>This is one definition of the second term. </dd>\n",
    "  <dd>This is another definition of the second term.</dd>\n",
    "</dl>\n",
    "'''"
   ]
  },
  {
   "cell_type": "markdown",
   "metadata": {},
   "source": [
    "<dl>\n",
    "  <dt>First Term</dt>\n",
    "  <dd>This is the definition of the first term.</dd>\n",
    "  <dt>Second Term</dt>\n",
    "  <dd>This is one definition of the second term. </dd>\n",
    "  <dd>This is another definition of the second term.</dd>\n",
    "</dl>"
   ]
  },
  {
   "cell_type": "markdown",
   "metadata": {},
   "source": [
    "## Indexing"
   ]
  },
  {
   "cell_type": "code",
   "execution_count": null,
   "metadata": {},
   "outputs": [],
   "source": [
    "# 1. First ordered list item\n",
    "# 2. Another item\n",
    "#    * Unordered sub-list. (with required number of spaces at the beginning) \n",
    "# 1. Actual numbers don't matter, just that it's a number\n",
    "#    1. Ordered sub-list (with spaces at the beginning)\n",
    "# 4. And another item.\n",
    "\n",
    "# * Unordered list can use asterisks\n",
    "# - Or minuses\n",
    "# + Or pluses"
   ]
  },
  {
   "cell_type": "markdown",
   "metadata": {},
   "source": [
    "1. First ordered list item\n",
    "2. Another item\n",
    "  * Unordered sub-list. \n",
    "1. Actual numbers don't matter, just that it's a number\n",
    "  1. Ordered sub-list\n",
    "4. And another item.\n",
    "\n",
    "\n",
    "* Unordered list use asterisks\n",
    "- minuses\n",
    "+ pluses"
   ]
  },
  {
   "cell_type": "markdown",
   "metadata": {},
   "source": [
    "## Links and Images"
   ]
  },
  {
   "cell_type": "code",
   "execution_count": null,
   "metadata": {},
   "outputs": [],
   "source": [
    "# [An inline-style link](https://www.google.com)\n",
    "\n",
    "# [A inline-style link with title](https://www.google.com \"Google's Homepage\")\n",
    "# The 'title' will appear when being hovered\n",
    "\n",
    "# [A link refer to a repository file](../blob/master/LICENSE)\n",
    "\n",
    "# [A reference-style link definitions][1]\n",
    "# [1]: http://slashdot.org"
   ]
  },
  {
   "cell_type": "markdown",
   "metadata": {},
   "source": [
    "[An inline-style link](https://www.google.com)\n",
    "\n",
    "[An inline-style link with title](https://www.google.com \"Google's Homepage\")\n",
    "\n",
    "[A link refer to a repository file](../blob/master/LICENSE)\n",
    "\n",
    "[A reference-style link definitions][1]\n",
    "\n",
    "[1]: http://slashdot.org\n"
   ]
  },
  {
   "cell_type": "code",
   "execution_count": null,
   "metadata": {},
   "outputs": [],
   "source": [
    "# Both inlin-style and reference-style can insert an image\n",
    "\n",
    "# Inline-style: \n",
    "# ![alt text](https://github.com/adam-p/markdown-here/raw/master/src/common/images/icon48.png \"Logo Title Text 1\")\n",
    "\n",
    "#Reference-style: \n",
    "#![alt text][logo]\n",
    "#[logo]: https://github.com/adam-p/markdown-here/raw/master/src/common/images/icon48.png \"Logo Title Text 2\""
   ]
  },
  {
   "cell_type": "markdown",
   "metadata": {},
   "source": [
    "Inline-style: \n",
    "![alt text](https://github.com/adam-p/markdown-here/raw/master/src/common/images/icon48.png \"Logo Title Text 1\")\n",
    "\n",
    "Reference-style: \n",
    "![alt text][logo]\n",
    "\n",
    "[logo]: https://github.com/adam-p/markdown-here/raw/master/src/common/images/icon48.png \"Logo Title Text 2\""
   ]
  },
  {
   "cell_type": "markdown",
   "metadata": {},
   "source": [
    "## Tableau"
   ]
  },
  {
   "cell_type": "code",
   "execution_count": null,
   "metadata": {},
   "outputs": [],
   "source": [
    "'''\n",
    "| Syntax      | Description | Test Text     |\n",
    "| :---        |    :----:   |          ---: |\n",
    "| Left Alignment      | Center       | Right  |\n",
    "| Paragraph   | Text        | And more      |\n",
    "\n",
    "# There must be at least 3 dashes separating each header cell. \n",
    "# The colons near the dashes indicate the alignment of the elements below.\n",
    "# Note that the alignment works in github, not in Jupyter\n",
    "# The outer pipes (|) are optional, and you don't need to make the raw Markdown line up prettily. "
   ]
  },
  {
   "cell_type": "markdown",
   "metadata": {},
   "source": [
    "| Syntax      | Description | Test Text     |\n",
    "| :---        |    :----:   |          ---: |\n",
    "| Left Alignment       | Center       | Right   |\n",
    "| Paragraph   | Text        | And more      |"
   ]
  },
  {
   "cell_type": "markdown",
   "metadata": {},
   "source": [
    "## Tasks"
   ]
  },
  {
   "cell_type": "code",
   "execution_count": null,
   "metadata": {},
   "outputs": [],
   "source": [
    "'''\n",
    "- [x] this is a checked item\n",
    "- [ ] this is an unchecked item\n",
    "- [x] @mentions works on github, [links](https://www.google.com/), **formatting**, and <del>tags</del> supported\n",
    "- [x] list syntax is a must\n",
    "'''"
   ]
  },
  {
   "cell_type": "markdown",
   "metadata": {},
   "source": [
    "- [x] this is a checked item\n",
    "- [ ] this is an unchecked item\n",
    "- [x] @mentions works on github, [links](https://www.google.com/), **formatting**, and <del>tags</del> supported\n",
    "- [x] list syntax is a must"
   ]
  },
  {
   "cell_type": "markdown",
   "metadata": {},
   "source": [
    "## Footnote"
   ]
  },
  {
   "cell_type": "markdown",
   "metadata": {},
   "source": [
    "Here's a simple footnote,[^1] and here's a longer one.[^bignote]\n",
    "Footnote could be formatted on github, as well as  the \"editing mode\" in Jupyter,\n",
    "which means that once you run this cell, the highlights disappear.\n",
    "\n",
    "[^1]: This is the first footnote.\n",
    "\n",
    "[^bignote]: Here's one with multiple paragraphs and code.\n",
    "\n",
    "    Indent paragraphs to include them in the footnote.\n",
    "\n",
    "    `{ my code }`\n",
    "\n",
    "    Add as many paragraphs as you like."
   ]
  }
 ],
 "metadata": {
  "kernelspec": {
   "display_name": "Python 3",
   "language": "python",
   "name": "python3"
  },
  "language_info": {
   "codemirror_mode": {
    "name": "ipython",
    "version": 3
   },
   "file_extension": ".py",
   "mimetype": "text/x-python",
   "name": "python",
   "nbconvert_exporter": "python",
   "pygments_lexer": "ipython3",
   "version": "3.6.7"
  }
 },
 "nbformat": 4,
 "nbformat_minor": 2
}
