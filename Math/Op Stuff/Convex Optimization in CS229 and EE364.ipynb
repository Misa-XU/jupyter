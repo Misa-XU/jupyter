{
 "cells": [
  {
   "cell_type": "markdown",
   "metadata": {},
   "source": [
    "### Convex Sets\n",
    "A set C is said to be convex if for any $x, y \\in C$, $\\theta \\in \\mathbb R$ and $0 \\le \\theta \\le 1$, it satisfies\n",
    "$$\\theta x + (1 - \\theta) y \\in C$$\n",
    "Intuitively, it means that given two elements in C, draw a line segment between them, then all the points on the line are also in C. And $\\theta x + (1 - \\theta) y$ is called a __convex combination__\n",
    "\n",
    "Examples:\n",
    "1. All of $R^n$\n",
    "2. The non-negative orthant\n",
    "3. Norm balls\n",
    "4. Affine Subspaces\n",
    "5. Intersection of Convex Sets\n",
    "6. Positive semidenifite matrices."
   ]
  },
  {
   "cell_type": "markdown",
   "metadata": {},
   "source": [
    "### Convex Functions\n",
    "A function $f: R^n \\to R$ is said to be convex if \n",
    "1. its __domain $D(f)$ is a convex set__ and \n",
    "2. for all $x, y \\in D(f)$, $\\theta \\in \\mathbb R$ and $0 \\le \\theta \\le 1$, $f(\\theta x + (1 - \\theta) y) < \\theta f(x) + (1 - \\theta) f(y)$\n",
    "\n",
    "Note that we say $f$ is __concave__ if $-f$ is convex. And we say $f$ is __strictly convex__ is the inequality strictly holds."
   ]
  }
 ],
 "metadata": {
  "kernelspec": {
   "display_name": "Python 3",
   "language": "python",
   "name": "python3"
  },
  "language_info": {
   "codemirror_mode": {
    "name": "ipython",
    "version": 3
   },
   "file_extension": ".py",
   "mimetype": "text/x-python",
   "name": "python",
   "nbconvert_exporter": "python",
   "pygments_lexer": "ipython3",
   "version": "3.6.7"
  }
 },
 "nbformat": 4,
 "nbformat_minor": 2
}
