{
 "cells": [
  {
   "cell_type": "markdown",
   "metadata": {},
   "source": [
    "## Field\n",
    "A field is a set $\\mathbb F$ together with two operations on $\\mathbb F$ called addition and multiplication. \n",
    "\n",
    "An operation on $\\mathbb F$ is a function $\\mathbb{F \\times F \\to F}$ – in other words, a mapping that associates an element of $\\mathbb F$ to every pair of its elements. The result of the addition of $a$ and $b$ is called the sum of $a$ and $b$, and is denoted $a + b$. Similarly, the result of the multiplication of $a$ and $b$ is called the product of $a$ and $b$, and is denoted ab or $a \\cdot b$. \n",
    "\n",
    "These operations are required to satisfy the following properties, referred to as field axioms. In these axioms, $a$, $b$, and $c$ are arbitrary elements of the field $\\mathbb F$. \n",
    "\n",
    "1. __Associativity__ of addition and multiplication: a + (b + c) = (a + b) + c, and a · (b · c) = (a · b) · c.\n",
    "2. __Commutativity__ of addition and multiplication: a + b = b + a, and a · b = b · a.\n",
    "3. __Identity__ of additive and multiplicative: there exist two different elements 0 and 1 in $\\mathbb F$ such that a + 0 = a and a · 1 = a.\n",
    "4. __Additive inverses__: for every $a \\in \\mathbb F$, there exists an element in $\\mathbb F$, denoted $−a$, called the additive inverse of a, such that $a + (−a) = 0$.\n",
    "5. __Multiplicative inverses__: for every $a \\ne 0 \\in F$, there exists an element in $\\mathbb F$, denoted by $a^{−1}$ or $\\frac{1}{a}$, called the multiplicative inverse of $a$, such that $a \\cdot a^{−1} = 1$.\n",
    "6. __Distributivity__ of multiplication over addition: $a \\cdot (b + c) = (a \\cdot b) + (a \\cdot c)$."
   ]
  },
  {
   "cell_type": "markdown",
   "metadata": {},
   "source": [
    "## Bilinear map\n",
    "Let $V$ , $W$  and  $X$ be three vector spaces over the same base field $\\mathbb {F}$. A bilinear map is a function \n",
    "$$B:V\\times W\\to X$$ such that \n",
    "$\\forall w\\in W$, the map $$B_{w} : v \\mapsto B(v,w)$$ is a linear map from $V$ to $X$.\n",
    "\n",
    "And $\\forall v\\in V$, the map $$B_{v} : w \\mapsto B(v,w)$$ is a linear map from $W$ to $X$.\n",
    "\n",
    "In other words, when we hold the first entry of the bilinear map fixed while letting the second entry vary, the result is a linear operator, and similarly for when we hold the second entry fixed.  If $V = W$ and we have $B(v, w) = B(w, v) \\, \\forall v, w \\in V$, then we say that $B$ is symmetric. The case where $X$ is the base field $\\mathbb F$, and we have a bilinear form, is particularly useful. "
   ]
  }
 ],
 "metadata": {
  "kernelspec": {
   "display_name": "Python 3",
   "language": "python",
   "name": "python3"
  },
  "language_info": {
   "codemirror_mode": {
    "name": "ipython",
    "version": 3
   },
   "file_extension": ".py",
   "mimetype": "text/x-python",
   "name": "python",
   "nbconvert_exporter": "python",
   "pygments_lexer": "ipython3",
   "version": "3.6.7"
  }
 },
 "nbformat": 4,
 "nbformat_minor": 2
}
