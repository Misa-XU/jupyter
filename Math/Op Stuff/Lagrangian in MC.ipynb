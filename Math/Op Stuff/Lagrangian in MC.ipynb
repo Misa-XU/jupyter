{
 "cells": [
  {
   "cell_type": "markdown",
   "metadata": {},
   "source": [
    "# 1. Extreme Values\n",
    "Recall the single variable case, $f(x)$ has a local maximum (or local minimum) value at a point $a$ in its domain if $f(x) \\le f(a)$ or $f(x) \\ge f(a)$ for all $x$ in the domain of f and be sufficient close to $a$. If the inequalities holds for all x in the domain of $f$, we then we say that $f(x)$ is a global maximum (or global minimum) value at point $a$.\n",
    "### 1.1 Necessary conditions of extreme values\n",
    "Moreover, the extreme values will occure only at points that in the following three conditions:\n",
    "1. It's a critical point where $\\nabla f = \\mathbf{0}$\n",
    "2. It's a singular point where $\\nabla f$ doesn't exist\n",
    "3. It's a boundary point of the domain of f\n",
    "\n",
    "### 1.2 Sufficient conditions of extreme values\n",
    "If f is a _continuous_ function of $n$ variables whose domain is a __closed__ and __bounded__ set in $\\mathbb{R}^n$, then the range of $f$ is a bounded set of real values; And the function $f$ have both maximum and minimum in its domain.\n",
    "\n",
    "### 1.3 Classifying critical points\n",
    "#### 1.3.1 Brute Force\n",
    "Considering the difference $\\Delta f = f(x + h, y + k) - f(x, y)$ for small values of $h$ and $k$, where (x, y) is a critical point. If the points is always nonnegative or nonpositive, then it is a local optima. Otherwise, it is a _saddle point_.\n",
    "\n",
    "#### 1.3.2 Second Derivative Test\n",
    "Suppose that all points near $\\mathbf{a}$ have _continuous_ second partial derivatives, Then the __Hessian__ is also continuous.\n",
    "1. if $\\mathscr H$ is positive definite, then it's a local minima\n",
    "2. if $\\mathscr H$ is negative definite, then it's a local maxima.\n",
    "3. if $\\mathscr H$ is indefinite, then it's a saddle point.\n",
    "4. if $\\mathscr H$ is none of the above, then the test gives no information\n",
    "\n",
    "Recall the second order taylor expansion of $f(\\mathbf{x})$. Since $\\Delta f(\\mathbf x) = 0$, then $f(\\mathbf{x + t}) - f(\\mathbf x) = \\frac{1}{2}\\mathbf t^T H(\\mathbf x + \\theta \\mathbf h) \\mathbf t$"
   ]
  },
  {
   "cell_type": "markdown",
   "metadata": {},
   "source": [
    "# 2. Extreme values defined on restriced domains\n",
    "If we deal with a continuous function in a closed and bounded domain, then 1.2 guarantee the exsitance of the extreme values. We will always have to check boundary points and interior critical points or singular points.\n",
    "\n",
    "### 2.1 Lagrange Multipliers\n",
    "It is a method to solve a extreame-value problem of with equation constraints by looking for the critical points of a unconstrained problem. \n",
    "\n",
    "Let $f(x, y)$ subject to the equality constraint g(x, y) = 0. Suppose there is a extrema $P_0$ such that\n",
    "1. $\\nabla g(P_0) \\ne 0$\n",
    "2. $P_0$ is not the endpoint of the curve $g(x, y)$\n",
    "\n",
    "Then there exist a number $\\lambda_0$ such that $(x_0, y_0, \\lambda_0)$ is the critical point of the __Lagrangian function__\n",
    "$$L(x, y, \\lambda) = f(x, y) + \\lambda g(x, y)$$\n",
    "\n",
    "![](data/2.1.jpg)\n",
    "\n",
    "The figure above show that $\\nabla f(P_0)$ must be perpendicular to the tangent line of $g(P_0)$. So we could find a $\\lambda_0$ such that $\\nabla f(x_0, y_0) = -\\lambda_0 \\nabla g(x_0, y_0)$. Moreover, the points should satisify the constraint, which means that $g(x_0, y_0) = \\frac{\\partial}{\\partial \\lambda_0} L(x, y, \\lambda)= 0$\n",
    "\n",
    "Note that Lagrangian method doesn't guarantee the existance of a solution. It just means that \n",
    "1. if a solution exists\n",
    "2. the constraint equation have smooth graphs in the neibourhood of the extrema\n",
    "3. The points is not on the boundary of the graphs\n",
    "\n",
    "Then we could use Lagrangian to find it. \n",
    "\n",
    "If $\\nabla g(P_0) = \\vec{0}$ Then it's meaningless to find a $\\nabla f(P_0)$ that perpendicular to the tangent line of $\\nabla g(P_0)$ So the lagrangian doesn't work at that point.\n",
    "\n",
    "Finally, be aware that when applying an Lagrangian Multiplier, an extreme may occur at\n",
    "1. a critical point of Lagrangian\n",
    "2. a point where $\\nabla g = \\mathbf{0}$\n",
    "3. an endpoint of the constraint curve\n",
    "4. a point where $\\nabla g$ or $\\nabla f$ doesn't exist\n",
    "\n",
    "##### Lagrangian with multiple equality constraints\n",
    "$$L(\\mathbf{x}, \\lambda_1,...\\lambda_n) = f(\\mathbf{x}) + \\sum_{i = 1}^n \\lambda_i g_i(\\mathbf{x})$$"
   ]
  },
  {
   "cell_type": "markdown",
   "metadata": {},
   "source": [
    "### 2.2 Nonlinear Programming\n",
    "\n",
    "Let's generalize it by making $g(\\mathbf{x})$ be inequality constraint such that $g(\\mathbf{x}) \\le 0$\n",
    "\n",
    "Now we let the lagrangian function be\n",
    "$$L(\\mathbf{x}, \\lambda, \\mu) = f(\\mathbf{x}) + \\sum_{i = 0}^n \\lambda_i(g_i(\\mathbf x) + \\mu_i^2)$$\n",
    "and make the partial derivative to be $\\mathbf{0}$, then we have\n",
    "\n",
    "$$\\begin{equation*}\n",
    "\\begin{cases}\n",
    "\\frac{\\partial}{\\mathbf{x}} L = \\nabla f + \\sum_{i = 1}^n \\lambda_i \\nabla g_i = 0 \\\\\n",
    "\\frac{\\partial}{\\mathbf{\\lambda_i}} L = g_i(\\mathbf x) + \\mu_i^2 = 0 \\\\\n",
    "\\frac{\\partial}{\\mathbf{\\mu_i}} L = 2 \\lambda_i \\mu_i = 0 \n",
    "\\end{cases}\n",
    "\\end{equation*}$$\n",
    "\n",
    "So within the last equation, we could have 2 cases:\n",
    "1. $\\mu = 0$. Given the equation, we could say that $g(\\mathbf x) = 0$, so the extrema is locate at the manifold $g(\\mathbf x) = 0$\n",
    "2. $\\mu \\ne 0$, which means that $\\lambda = 0$. So the extrema is located at an interior point and the constraint $g(\\mathbf x)$ is not \"_active_\" (the equality doesn't hold)\n",
    "\n",
    "By all means, $\\lambda_i (g_i(\\mathbf x) + \\mu_i) = 0$"
   ]
  },
  {
   "cell_type": "markdown",
   "metadata": {},
   "source": [
    "<br>"
   ]
  }
 ],
 "metadata": {
  "kernelspec": {
   "display_name": "Python 3",
   "language": "python",
   "name": "python3"
  },
  "language_info": {
   "codemirror_mode": {
    "name": "ipython",
    "version": 3
   },
   "file_extension": ".py",
   "mimetype": "text/x-python",
   "name": "python",
   "nbconvert_exporter": "python",
   "pygments_lexer": "ipython3",
   "version": "3.6.7"
  }
 },
 "nbformat": 4,
 "nbformat_minor": 2
}
