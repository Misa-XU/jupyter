{
 "cells": [
  {
   "cell_type": "markdown",
   "metadata": {},
   "source": [
    "#### Bilinear Mapping\n",
    "The vector space of linear maps $V \\to V$ is isomorphic to the bilinear functionals $V \\times V \\to R$.\n",
    "\n",
    "Suppose B is a bounded bilinear form on $\\mathscr H$. If $u \\in \\mathscr H$ then $B(u, \\cdot)$ is a bounded linear functional. By Riesz representation, for some unique $Ku \\in H$, we have $$B(u, \\cdot) = \\langle Ku, \\cdot \\rangle_\\mathscr H$$\n",
    "The map $K : \\mathscr H \\to \\mathscr H$ is a bounded linear operator. Conversely,\n",
    "any bounded linear $K : \\mathscr H \\to \\mathscr H$ defines a bounded bilinear form $\\langle f, Kg\\rangle_\\mathscr H$\n",
    "\n",
    "#### Finite set and Kernel\n",
    "Let X be a measure space with k : $L_2(X \\times X) \\to R$. We call k a kernel iff there is some\n",
    "feature map $\\phi : \\chi \\to \\mathscr{H}$ such that $$k(x, x') \\equiv \\langle \\phi(x), \\phi(x')\\rangle_\\mathscr H$$\n",
    "\n",
    "Suppose $\\chi$ is a finite set of size $n$ equipped with the counting measure. Consider the set of functions $\\chi \\to R$: It is an n-dimensional Hilbert space $V$ . We can associate a symmetric function k : $\\chi \\times \\chi \\to \\mathbb R$ with a self-adjoint linear map K : $V \\to V$,\n",
    "$$(Ku)_i =\\sum^n_{j= 1} k(x_i, x_j)u_j$$\n",
    "\n",
    "Given a kernel $k: \\chi \\times \\chi \\to \\mathbb R$ and finite set $\\chi = \\{x_1, ..., x_r\\}$ And let define a gram matrix $G \\in \\mathbb R^{r\\times r}$ such that $G_{ij} = k(x_i, x_j)$, then it's clear that G is a symmetric matrix and could be written as $U\\wedge U^T$. Then for each $x_i$, its feature $\\phi(x_i) = \\wedge^{\\frac{1}{2}}u_i$<br>\n",
    "Proof:\n",
    "$$G_{ij} = u_i^T \\wedge u_j = (\\wedge^{\\frac{1}{2}} u_i)^T (\\wedge^{\\frac{1}{2}} u_j) = \\phi(x_i)^T \\phi(x_j)$$ \n",
    "\n",
    "#### Mercer's Theorem\n",
    "A symmetric $k \\in L_2(\\chi \\times \\chi)$ is Mercer iff k is a kernel.\n",
    "\n",
    "Let $K : \\mathscr H \\to \\mathscr H$ be a bounded, self-adjoint linear map. Then K is positive definite iff $\\langle \\cdot, \\cdot \\rangle_\\mathscr H$ is an inner product.\n",
    "\n",
    "Let $\\chi$ be a measure space and let $L_2(\\chi)$ indicate the Hilbert space of square-integrable functions $\\chi \\to \\mathbb R$. Let $k \\in L_2(\\chi \\times \\chi)$ and consider the corresponding Hilbert-Schmidt operator K : $L_2(\\chi) \\to L_2(\\chi)$,\n",
    "$$Kf(x) = \\int_\\chi k(x, x')f(x') dx'$$\n",
    "If k is symmetric, then\n",
    "$$\\begin{align*}\n",
    "\\langle f, Kg \\rangle & = \\int_\\chi f(x) \\int_\\chi k(x, x') g(x') dx' dx \\\\\n",
    "& =  \\int_\\chi g(x') \\int_\\chi k(x, x') f(x) dx dx' \\\\\n",
    "& = \\langle g, Kf \\rangle\n",
    "\\end{align*}$$\n",
    "\n",
    "We say that $k$ satisfies Mercer's condition iff $$\\int_{\\chi \\times \\chi} k(x, x')f(x)f(x') dx \\,dx' \\ge 0\\,  \\forall f \\in L_2(\\chi)$$\n",
    "\n",
    "And we define a eigenfunction and its eigen value $\\lambda$ as\n",
    "$$\\begin{align*}\n",
    "\\int_{\\chi} k(x, x')\\psi(x') dx' & = \\lambda \\psi(x) \\forall x \\in \\chi \\\\ \n",
    "||\\psi(x)||^2_{L2} & = \\int_{\\chi} \\psi^2(x) dx = 1\n",
    "\\end{align*}$$\n",
    "\n",
    "#### Feature Mapping\n",
    "m __general__ points in an m-1 dimensional space is always linearly separable by a hyperspace. But it always not enough to map the data into a feature space with dimension m-1 because we have to think about the test data. We might want to map our data to a huge ($\\infty$) dimensional feature space\n",
    "Now suppose we have a feature mappin function $\\phi: \\chi \\subset \\mathbb R^n \\to \\mathscr H \\subset \\mathbb R^r$ and a decision surface given $w \\in \\mathbb R^r$\n",
    "$$\\tilde{X_0}(\\mathbf w) = \\{ x \\in \\mathbb R_n | \\sum_{i = 1}^r \\mathbf w_i \\phi(x)_i = 0 \\}$$ is nonlinear in the original space $x \\in \\mathbb R^n$ but linear in the feature space $\\phi(x) \\in \\mathbb R^r$"
   ]
  },
  {
   "cell_type": "markdown",
   "metadata": {},
   "source": [
    "#### Reproducing Kernel Hilbert Space\n",
    "Example:\n",
    "\n",
    "Define a _linear function_ of the input $x_1$, $x_2$ and their product $x_1x_2$ such that\n",
    "$$f(x) = f_1 x_1 + f_2 x_2 + f_3 x_1 x_2$$\n",
    "where $f$ in a space of functions mapping from $\\chi \\in \\mathbb R^2 \\to \\mathbb R^2$. \n",
    "An equivalent representation is $$f(\\cdot) = \\big[ f_1 \\quad f_2 \\quad f_3 \\big]$$\n",
    "$f(\\cdot)$ refers to the function as an object (here as a vector in $\\mathbb R^3$) \n",
    "\n",
    "$f(x) = f(\\cdot)^T \\phi(x) = \\langle f(\\cdot), \\phi(x) \\rangle_\\mathscr H \\in \\mathbb R$ is function evaluated at a point.\n",
    "\n",
    "If a function has infinitely many features, then\n",
    "$$f(x) = \\langle f, \\phi(x) \\rangle = \\sum_{l}^{\\infty} f_l \\phi_l(x)$$\n",
    "Again, suppose the size of $\\chi$ is m, if we make $f_l := \\sum_{i = 1}^m \\alpha_i \\phi_l(x_i)$, then we could express a function of __infinitely many features__ using m coefficients:\n",
    "$$\\begin{align*}\n",
    "f(x) & = \\sum_{l}^{\\infty} f_l \\phi_l(x) \\\\\n",
    "& = \\sum_{l}^{\\infty} \\sum_{i = 1}^m \\alpha_i \\phi_l(x_i) \\phi_l(x) \\\\\n",
    "& = \\sum_{i = 1}^m \\alpha_i k(x_i, x)\n",
    "\\end{align*}$$\n",
    "For example, suppose $m = 1$ and $\\alpha_1 = 1$, then\n",
    "$$f(x) = k(x_1, x) = \\langle k(x_1, \\cdot), \\phi(x) \\rangle = \\langle k(x, \\cdot), \\phi(x_1) \\rangle = \\langle k(x_1, \\cdot), k(x, \\cdot) \\rangle $$\n",
    "\n",
    "So the feature map of every point is a function $k(\\cdot, x) = \\phi(x) \\in \\mathscr H \\text{ for any } x \\in \\chi$, and\n",
    "$$k(x, x') = \\langle \\phi(x), \\phi(x') \\rangle = \\langle k(x, \\cdot), k(x', \\cdot)\\rangle$$"
   ]
  },
  {
   "cell_type": "markdown",
   "metadata": {},
   "source": [
    "#### SVM\n",
    "Now we assume $h_\\theta(x)$ be a non-linear mapping  such that $h_\\theta(x) = \\theta^T \\phi(x)$. Let $\\theta = \\sum_{i = 1}^m \\beta_i \\phi(x^{(i)})$, then the update rule would be\n",
    "$$ β_i := β_i + α(y^{(i)} − \\sum_{j=1}^n β_j K(x^{(i)}, x^{(j)}))$$\n",
    "Or in vector notation\n",
    "$$\\beta := \\beta + \\alpha (\\vec{y} - K\\beta)$$"
   ]
  }
 ],
 "metadata": {
  "kernelspec": {
   "display_name": "Python 3",
   "language": "python",
   "name": "python3"
  },
  "language_info": {
   "codemirror_mode": {
    "name": "ipython",
    "version": 3
   },
   "file_extension": ".py",
   "mimetype": "text/x-python",
   "name": "python",
   "nbconvert_exporter": "python",
   "pygments_lexer": "ipython3",
   "version": "3.6.7"
  }
 },
 "nbformat": 4,
 "nbformat_minor": 2
}
