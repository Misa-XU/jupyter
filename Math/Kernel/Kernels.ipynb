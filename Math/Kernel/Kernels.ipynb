{
 "cells": [
  {
   "cell_type": "markdown",
   "metadata": {},
   "source": [
    "#### Bilinear Mapping\n",
    "The vector space of linear maps $V \\to V$ is isomorphic to the bilinear functionals $V \\times V \\to R$.\n",
    "\n",
    "Suppose B is a bounded bilinear form on $\\mathscr H$. If $u \\in \\mathscr H$ then $B(u, \\cdot)$ is a bounded linear functional. By Riesz representation, for some unique $Ku \\in H$, we have $$B(u, \\cdot) = \\langle Ku, \\cdot \\rangle_\\mathscr H$$\n",
    "The map $K : \\mathscr H \\to \\mathscr H$ is a bounded linear operator. Conversely,\n",
    "any bounded linear $K : \\mathscr H \\to \\mathscr H$ defines a bounded bilinear form $\\langle f, Kg\\rangle_\\mathscr H$\n",
    "\n",
    "#### Finite set and Kernel\n",
    "Let X be a measure space with k : $L_2(X \\times X) \\to R$. We call k a kernel iff there is some\n",
    "feature map $\\phi : \\chi \\to \\mathscr{H}$ such that $$k(x, x') \\equiv \\langle \\phi(x), \\phi(x')\\rangle_\\mathscr H$$\n",
    "\n",
    "Suppose $\\chi$ is a finite set of size $n$ equipped with the counting measure. Consider the set of functions $\\chi \\to R$: It is an n-dimensional Hilbert space $V$ . We can associate a symmetric function k : $\\chi \\times \\chi \\to \\mathbb R$ with a self-adjoint linear map K : $V \\to V$,\n",
    "$$(Ku)_i =\\sum^n_{j= 1} k(x_i, x_j)u_j$$\n",
    "\n",
    "Given a kernel $k: \\chi \\times \\chi \\to \\mathbb R$ and finite set $\\chi = \\{x_1, ..., x_r\\}$ And let define a gram matrix $G \\in \\mathbb R^{r\\times r}$ such that $G_{ij} = k(x_i, x_j)$, then it's clear that G is a symmetric matrix and could be written as $U\\wedge U^T$. Then for each $x_i$, its feature $\\phi(x_i) = \\wedge^{\\frac{1}{2}}u_i$<br>\n",
    "Proof:\n",
    "$$G_{ij} = u_i^T \\wedge u_j = (\\wedge^{\\frac{1}{2}} u_i)^T (\\wedge^{\\frac{1}{2}} u_j) = \\phi(x_i)^T \\phi(x_j)$$ \n",
    "\n",
    "#### Mercer's Theorem\n",
    "A symmetric $k \\in L_2(\\chi \\times \\chi)$ is Mercer iff k is a kernel.\n",
    "\n",
    "Let $K : \\mathscr H \\to \\mathscr H$ be a bounded, self-adjoint linear map. Then K is positive definite iff $\\langle \\cdot, \\cdot \\rangle_\\mathscr H$ is an inner product.\n",
    "\n",
    "Let $\\chi$ be a measure space and let $L_2(\\chi)$ indicate the Hilbert space of square-integrable functions $\\chi \\to \\mathbb R$. Let $k \\in L_2(\\chi \\times \\chi)$ and consider the corresponding Hilbert-Schmidt operator K : $L_2(\\chi) \\to L_2(\\chi)$,\n",
    "$$Kf(x) = \\int_\\chi k(x, x')f(x') dx'$$\n",
    "If k is symmetric, then\n",
    "$$\\begin{align*}\n",
    "\\langle f, Kg \\rangle & = \\int_\\chi f(x) \\int_\\chi k(x, x') g(x') dx' dx \\\\\n",
    "& =  \\int_\\chi g(x') \\int_\\chi k(x, x') f(x) dx dx' \\\\\n",
    "& = \\langle g, Kf \\rangle\n",
    "\\end{align*}$$\n",
    "\n",
    "We say that $k$ satisfies Mercer's condition iff $$\\int_{\\chi \\times \\chi} k(x, x')f(x)f(x') dx \\,dx' \\ge 0\\,  \\forall f \\in L_2(\\chi)$$\n",
    "\n",
    "And we define a eigenfunction and its eigen value $\\lambda$ as\n",
    "$$\\begin{align*}\n",
    "\\int_{\\chi} k(x, x')\\psi(x') dx' & = \\lambda \\psi(x) \\forall x \\in \\chi \\\\ \n",
    "||\\psi(x)||^2_{L2} & = \\int_{\\chi} \\psi^2(x) dx = 1\n",
    "\\end{align*}$$\n",
    "\n",
    "#### Feature Mapping\n",
    "m __general__ points in an m-1 dimensional space is always linearly separable by a hyperspace. But it always not enough to map the data into a feature space with dimension m-1 because we have to think about the test data. We might want to map our data to a huge ($\\infty$) dimensional feature space\n",
    "Now suppose we have a feature mappin function $\\phi: \\chi \\subset \\mathbb R^n \\to \\mathscr H \\subset \\mathbb R^r$ and a decision surface given $w \\in \\mathbb R^r$\n",
    "$$\\tilde{X_0}(\\mathbf w) = \\{ x \\in \\mathbb R_n | \\sum_{i = 1}^r \\mathbf w_i \\phi(x)_i = 0 \\}$$ is nonlinear in the original space $x \\in \\mathbb R^n$ but linear in the feature space $\\phi(x) \\in \\mathbb R^r$"
   ]
  },
  {
   "cell_type": "markdown",
   "metadata": {},
   "source": [
    "#### Reproducing Kernel Hilbert Space\n",
    "Given a kernel k, then we could define a function space $\\mathscr F_0 \\doteq \\{k(x, \\cdot) | x \\in X\\}$\n",
    "$$(x_1,..., x_r) given \\Rightarrow f(\\cdot) \\equiv \\sum_{i = 1}^r \\alpha_i k(x_i, \\cdot) \\in \\mathscr F_0$$\n",
    "$$(\\tilde{x_1},..., \\tilde{x_s}) given \\Rightarrow g(\\cdot) \\equiv \\sum_{j = 1}^s \\beta_j k(x_j, \\cdot) \\in \\mathscr F_0$$\n",
    "The inner product is\n",
    "$$\\begin{align*}\n",
    "\\langle f, g \\rangle_{\\mathscr F_0} & \\equiv \\sum_{i = 1}^r \\sum_{j = 1}^s \\alpha_i \\beta_j k(x_i, \\tilde{x_j}) \\\\\n",
    "& = \\sum_{i = 1}^r \\alpha_i g(x_i) \\\\\n",
    "& = \\sum_{j = 1}^s \\beta_j f(x_j)\n",
    "\\end{align*}$$"
   ]
  }
 ],
 "metadata": {
  "kernelspec": {
   "display_name": "Python 3",
   "language": "python",
   "name": "python3"
  },
  "language_info": {
   "codemirror_mode": {
    "name": "ipython",
    "version": 3
   },
   "file_extension": ".py",
   "mimetype": "text/x-python",
   "name": "python",
   "nbconvert_exporter": "python",
   "pygments_lexer": "ipython3",
   "version": "3.6.7"
  }
 },
 "nbformat": 4,
 "nbformat_minor": 2
}
