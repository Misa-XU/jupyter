{
 "cells": [
  {
   "cell_type": "markdown",
   "metadata": {},
   "source": [
    "## Introduction\n",
    "\n",
    "Signals can be categorized as either continuous-time signals, for which the independent variable is a continuous vairable (for example, the image brightness as a function of two spatial variables); or discrete-time signals, for which the independent variable is an integer (for example the daily stock market index)\n",
    "\n",
    "Note that there are some very strong similarities and also very important differences between discrete-time signals and their systems and continuous-time signals and their systems. Through the concept of sampling, we could convert between them. This tutorial will be restricted to the _linear, time-invariant_ systems."
   ]
  },
  {
   "cell_type": "markdown",
   "metadata": {},
   "source": [
    "## 1. Sinusoidal Signals\n",
    "\n",
    "### 1.1 Continuous-Time Sinusoidal Signal\n",
    "\n",
    "![continuous_signal.png](dataset/continuous_signal.png)\n",
    "\n",
    "### $$x(t) = A \\cos (\\omega_0 t + \\phi)$$\n",
    "\n",
    "#### 1.1.1 Time Shift versus Phase Change\n",
    "\n",
    "A periodic function should satisfy that $$ x(t) = x(t + T_0) $$ where period is the smallest $T_0$. Then in a sinusoidal function, we have\n",
    "$$ A\\cos(\\omega_0 t + \\phi) = A \\cos(\\omega_0 t + \\omega_0 T_0 + \\phi), \\text{where } \\omega_0 T_0 = 2\\pi m$$\n",
    "For a $\\omega_0$, it's corresponding $T_0 = \\frac{2\\pi m}{\\omega_0}$, the smallest one, means period, is $\\frac{2\\pi}{\\omega_0}$.\n",
    "\n",
    "We can see that _a time shift corresponds to a phase change and vice versa_\n",
    "\n",
    "#### 1.1.2 Sinusoidal Signals At Distinct Frequencies\n",
    "Suppose we have\n",
    "- $x_1(t) = A \\cos (\\omega_1 t + \\phi)$\n",
    "- $x_2(t) = A \\cos (\\omega_2 t + \\phi)$\n",
    "\n",
    "If $\\omega_2 \\ne \\omega_1$, then $x_2(t) \\ne x_1(t)$"
   ]
  },
  {
   "cell_type": "markdown",
   "metadata": {},
   "source": [
    "### 1. 2 Discrete-Time Sinusoidal Signal\n",
    "\n",
    "![discrete_signal.png](dataset/discrete_signal.png)\n",
    "\n",
    "### $$x[n] = A \\cos (\\Omega_0 n + \\phi)$$\n",
    "Hey like, here we use squared bracket for n\n",
    "#### 1.2.1 Time Shift versus Phase Change\n",
    "\n",
    "Similarly with above, it must satisfy $x[n] = x[n + N]$ where the smallest N is period. And it's clear that \n",
    "$$ A\\cos(\\Omega_0 (n_0 + n) ) = A \\cos(\\Omega_0 n_0 + \\Omega_0 n)$$\n",
    "So a time shift means changing a phase.\n",
    "\n",
    "However, for a change of phase\n",
    "$A \\cos (\\Omega_0 n_0 + \\phi) $ it may not be possible to be converted to time shifting because sometimes $\\frac{\\phi}{\\Omega_0}$ is not an integer.\n",
    "\n",
    "Given $\\Omega_0$, for any N, it should satisfy $\\Omega_0 N = 2\\pi m \\to N = \\frac{2\\pi m}{\\Omega_0}$\n",
    "This indicates that _not all discrete-time sinusoids are periodic_. \n",
    "\n",
    "#### 1.2.2 Sinusoidal Signals At Distinct Frequencies\n",
    "Suppose we have\n",
    "- $x_1[t] = A \\cos (\\Omega_1 t + \\phi)$\n",
    "- $x_2[t] = A \\cos (\\Omega_2 t + \\phi)$\n",
    "\n",
    "If $\\Omega_2 = \\Omega_1 + 2\\pi m$, then $x_2[t] = x_1[t]$"
   ]
  },
  {
   "cell_type": "markdown",
   "metadata": {},
   "source": [
    "### 2. Exponential Signal\n",
    "#### 2.1 Real Exponential\n",
    "#### 2.1.1 Continuous Time\n",
    "![real_exponential](dataset/real_exponential.png)\n",
    "### $$x(t) = Ce^{at}$$\n",
    "where c and a are real numbers.\n",
    "> _a time shift corresponds to a scale change and vice versa_ like $Ce^{a(t + t_0)} = Ce^{at_0}e^{at}$\n",
    "#### 2.1.2  Discrete Time\n",
    "![discrete](dataset/real_exponential_discrete.png)\n",
    "### $$x[n] = Ce^{\\beta n} = C\\alpha^n$$\n",
    "where c and $\\alpha$ are real numbers"
   ]
  },
  {
   "cell_type": "markdown",
   "metadata": {},
   "source": [
    "#### 2.2 Complex Exponential\n",
    "What if the parameters are complex numbers? Here we learn the complex exponential\n",
    "#### 2.2.1 Continuous Time\n",
    "Given $x(t) = Ce^{at}$, let\n",
    "$$\n",
    "\\begin{equation}\n",
    "C = |C|e^{j\\theta} \\\\\n",
    "a = r + j\\omega_0 \\\\\n",
    "\\end{equation}\n",
    "$$\n",
    "\n",
    "Then \n",
    "$$\n",
    "\\begin{equation}\n",
    "\\begin{split}\n",
    "x(t)  & = |C| e^{j \\theta} e^{(r + j \\omega_0) t} \\\\\n",
    "& = |C|e^{rt} e^{j(\\omega_0t + \\theta)}\n",
    "\\end{split}\n",
    "\\end{equation}\n",
    "$$\n",
    "\n",
    "According to the __Euler's Relation__\n",
    "$$\\cos{(\\omega_0t + \\theta)} + j\\sin{(\\omega_0t + \\theta)} = e^{j(\\omega_0 t + \\theta)}$$\n",
    "We could rewrite $x(t)$ to be\n",
    "$$x(t) = |C|e^{rt}\\cos{(\\omega_0 t +\\theta)} + |C|e^{rt}j\\sin{(\\omega_0t + \\theta)} $$\n",
    "\n",
    "![complex_exponential.png](dataset/complex_exponential.png)\n",
    "Suppose we have a complex plane, now we add another axis t, then the figure above is the relationship between t and real part, which the enveloped by $\\pm|C|e^{rt}$"
   ]
  },
  {
   "cell_type": "markdown",
   "metadata": {},
   "source": [
    "#### 2.2.2 Discrete Time\n",
    "Given $x[n] = C\\alpha^n$, let\n",
    "$$\n",
    "\\begin{equation}\n",
    "C = |C|e^{j\\theta} \\\\\n",
    "\\alpha = |\\alpha|e^{j\\Omega_0} \\\\\n",
    "\\end{equation}\n",
    "$$\n",
    "\n",
    "Then \n",
    "$$\n",
    "\\begin{equation}\n",
    "\\begin{split}\n",
    "x[n]  & = |C| e^{j \\theta} (|\\alpha|e^{j\\Omega_0})^n \\\\\n",
    "& = |C||\\alpha|^n e^{j(\\Omega_0 n + \\theta)}\n",
    "\\end{split}\n",
    "\\end{equation}\n",
    "$$\n",
    "\n",
    "According to the __Euler's Relation__\n",
    "$$\\cos{(\\Omega_0t + \\theta)} + j\\sin{(\\Omega_0t + \\theta)} = e^{j(\\Omega_0 t + \\theta)}$$\n",
    "We could rewrite $x(t)$ to be\n",
    "$$x[n] = |C||\\alpha|^n \\cos{(\\Omega_0 t +\\theta)} + j|C||\\alpha|^n \\sin{(\\Omega_0t + \\theta)} $$\n",
    "\n",
    "![complex_exponential_discrete.png](dataset/complex_exponential_discrete.png)"
   ]
  },
  {
   "cell_type": "markdown",
   "metadata": {},
   "source": [
    "### 3. Unit Step and Unit Impulse\n",
    "\n",
    "The unit step, both for continuous and discrete time, is zero for negative time and unity for positive time. In discrete time the unit step is a well-defined sequence, whereas in continuous time there is the mathematical complication of a discontinuity at the origin. \n",
    "\n",
    "A similar distinction applies to the unit impulse. In discrete time the unit impulse is simply a sequence that is zero except at n = 0, where it is unity. In continuous time, it is somewhat badly behaved mathematically, being of infinite height and zero width but having a finite area. The unit step and unit impulse are closely related. \n",
    "\n",
    "In discrete time the unit impulse is the first difference of the unit step, and the unit step is the running sum of the unit impulse. Correspondingly, in continuous time the unit impulse is the derivative of the unit step, and the unit step is the running integral of the impulse. \n",
    "\n",
    "#### 3.1 Discrete Time\n",
    "![discrete](dataset/unit_step_discrete.png)\n",
    "![discrete](dataset/unit_impulse_discrete.png)\n",
    "\n",
    "By the figures above we can find that \n",
    "- $\\delta[n]  = u[n] - u[n - 1]$\n",
    "- $u[n] = \\sum_{m = -\\infty}^n \\delta[m] = \\sum_{k = 0}^{\\infty} \\delta[n - k]$\n",
    "\n",
    "#### 3.2 Continuous Time\n",
    "![continuous](dataset/unit_step_continuous.png)\n",
    "![continuous](dataset/unit_impulse_continuous.png)\n",
    "- $\\delta(t) = \\frac{du(t)}{dt}$\n",
    "- $\\delta_\\Delta(t) = \\frac{du_\\Delta(t)}{dt}$\n",
    "- $\\delta_\\Delta(t) = \\delta(t) \\,\\text{as}\\, \\Delta \\to 0$"
   ]
  },
  {
   "cell_type": "markdown",
   "metadata": {},
   "source": [
    "## 4. Convolution\n",
    "\n",
    "### 4.1 Definitions\n",
    "#### 4.1.1 Time - Invariance\n",
    "In C-T: if $x(t) \\to y(t) \\,$ then $\\, x(t - t_0) \\to y(t - t_0)$\n",
    "\n",
    "In D-T: if $x[n] \\to y[n] \\,$ then $\\, x[n - n_0] \\to y[n - n_0]$\n",
    "\n",
    "#### 4.1.2 Linearity\n",
    "If: $\\phi_k \\to \\psi_k$\n",
    "\n",
    "Then: $a_1\\phi_1 + a_2\\phi_2 + ... \\to a_1 \\psi_1 + a_2\\psi_2$\n",
    "\n",
    "### 4.2 Strategy\n",
    "- Decompose input signal into a linear combination of basis signals\n",
    "- Choose Basic Signals so that the response be easy to compute\n",
    "\n",
    "Which means that\n",
    "\n",
    "- delayed impulses $\\iff$ convolution\n",
    "\n",
    "- complex exponentials $\\iff$ Fourier analysis\n",
    "\n",
    "### 4.3 Convolutional Sum\n",
    "Here x\\[0\\], x\\[1\\] ... are scalars, x\\[n\\] is a function, $\\delta[n]$ is unit impulse function, we could have\n",
    "![4.3.1](dataset/4_3_1.png)\n",
    "### $$x[n] = \\sum_{k = -\\infty}^{+ \\infty} x[k]\\delta[n - k]$$\n",
    "![4.4.2](dataset/img104.gif)\n",
    "let $h[n]$ be the unit impulse response, which decay with the increase of t.\n",
    "![4.4.1](dataset/4_4_1.png)\n",
    "Given the linearity of $\\delta[n - k] \\to h_k[n]$, and the property of Time-Invariant $h_k[n] = h_0[n - k]$, We could get\n",
    "$$y[n] = \\sum_{k = -\\infty}^{+ \\infty} x[k]\\,h[n - k] = x[n] * h[n]$$\n",
    "Which is called the Convolution Sum."
   ]
  },
  {
   "cell_type": "markdown",
   "metadata": {},
   "source": [
    "### 4.4 Convolution Integral\n",
    "![4.4.2](dataset/4_4_2.png)"
   ]
  },
  {
   "cell_type": "markdown",
   "metadata": {},
   "source": [
    "We can find that\n",
    "\n",
    "$$ x(t)\\approx \\sum_{k = -\\infty}^{\\infty}x(k\\Delta) \\,\\delta_\\Delta(n - k\\Delta) \\Delta $$\n",
    "\n",
    "Let $\\tau = k\\Delta$, and $d\\tau = k\\Delta - (k - 1)\\Delta = \\Delta$, then\n",
    "$$x(t) \\approx \\sum_{\\tau = -\\infty}^{\\infty} x(\\tau_k)\\delta_\\Delta(t - \\tau_k) \\Delta$$\n",
    "Which is a Riemann Sum of x(t).\n",
    "When $\\Delta = d\\tau \\to 0$, we get\n",
    "$$x(t) = \\int_{-\\infty}^\\infty x(\\tau) \\delta(t - \\tau) d\\tau$$\n",
    "Given the linearity of $\\delta(t - \\tau) \\to h_\\tau(t)$, and the property of Time-Invariant $h_\\tau(t) = h_0(\\tau)$, We could get\n",
    "$$y(t) = \\int_{-\\infty}^\\infty x(\\tau) h(t - \\tau) d\\tau = x(t) * h(t) $$"
   ]
  },
  {
   "cell_type": "markdown",
   "metadata": {},
   "source": [
    "### 4.5 Properties of Convolution\n",
    "- Commutative\n",
    "- Associative\n",
    "- Distributive"
   ]
  }
 ],
 "metadata": {
  "kernelspec": {
   "display_name": "Python 3",
   "language": "python",
   "name": "python3"
  },
  "language_info": {
   "codemirror_mode": {
    "name": "ipython",
    "version": 3
   },
   "file_extension": ".py",
   "mimetype": "text/x-python",
   "name": "python",
   "nbconvert_exporter": "python",
   "pygments_lexer": "ipython3",
   "version": "3.6.7"
  }
 },
 "nbformat": 4,
 "nbformat_minor": 2
}
