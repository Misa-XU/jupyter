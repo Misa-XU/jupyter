{
 "cells": [
  {
   "cell_type": "markdown",
   "metadata": {},
   "source": [
    "### 1. Motivation\n",
    "\n",
    "If a system is linear and :\n",
    "$$x(t) = a_1\\phi_1(t) + a_2\\phi_2(t) + ...$$\n",
    "$$\\phi_k(t) \\to \\psi_k(t)$$\n",
    "\n",
    "Then: $y(t) = a_1\\psi_1(t) + a_2\\psi_2(t)$\n",
    "\n",
    "We want a $\\phi_k(t)$ such that\n",
    "- a broad class of signals can be constructed as a linear combination of $\\phi_k(t)$'s\n",
    "- the response to $\\phi_k(t)$ is easy to compute\n",
    "\n",
    "In LTY systems:\n",
    "- In C-T: $\\phi_k(t) = \\delta(t - k\\Delta)$, then $\\psi_k(t) = h(t - k\\Delta)$\n",
    "- In C-T: $\\phi_k[t] = \\delta[t - k\\Delta]$, then $\\psi_k[t] = h[t - k\\Delta]$\n",
    "\n",
    "We find that complex exponentials helps, then\n",
    "\n",
    "- C-T: $s_k=j\\omega_k$, and  $\\phi_k(t)=e^{s_kt} = e^{j\\omega_kt}$\n",
    "- D-T: $|z_k| = 1$, and  $\\phi_k[n] = z_k^n = e^{j\\Omega_kn}$\n",
    "\n",
    "if s_k is complex $\\Rightarrow$ Laplace Transform\n",
    "\n",
    "if z_k is complex $\\Rightarrow$ Z-Transform"
   ]
  }
 ],
 "metadata": {
  "kernelspec": {
   "display_name": "Python 3",
   "language": "python",
   "name": "python3"
  },
  "language_info": {
   "codemirror_mode": {
    "name": "ipython",
    "version": 3
   },
   "file_extension": ".py",
   "mimetype": "text/x-python",
   "name": "python",
   "nbconvert_exporter": "python",
   "pygments_lexer": "ipython3",
   "version": "3.6.7"
  }
 },
 "nbformat": 4,
 "nbformat_minor": 2
}
