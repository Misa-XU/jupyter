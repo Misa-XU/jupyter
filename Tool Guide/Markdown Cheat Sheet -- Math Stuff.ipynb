{
 "cells": [
  {
   "cell_type": "markdown",
   "metadata": {},
   "source": [
    "A useful link:\n",
    "\n",
    "[Math Symbol Cheat Sheet](https://kapeli.com/cheat_sheets/LaTeX_Math_Symbols.docset/Contents/Resources/Documents/index)"
   ]
  },
  {
   "cell_type": "markdown",
   "metadata": {},
   "source": [
    "Extensions:\n",
    "### Square Root\n",
    "\n",
    "$\\sqrt[3]{64}$\n",
    "\n",
    "### Matrix\n",
    "- Bracketed matrix: $\\begin{bmatrix} a & b \\\\ c & d\\end{bmatrix}$\n",
    "- Parenthesized matrix $\\begin{pmatrix} a & b \\\\ c & d\\end{pmatrix}$\n",
    "- Determinant $\\begin{vmatrix} a & b \\\\ c & d\\end{vmatrix}$\n",
    "- Norm $\\begin{Vmatrix} a & b \\\\ c & d\\end{Vmatrix}$\n",
    "- Braced matrix $\\begin{Bmatrix} a & b \\\\ c & d \\end{Bmatrix}$\n",
    "- Small matrix that could be used inline $\\begin{smallmatrix} a & b \\\\ c & d \\end{smallmatrix}$"
   ]
  },
  {
   "cell_type": "markdown",
   "metadata": {},
   "source": [
    "### Arrow\n",
    "$\\xrightarrow[g(x)]{f(x)}$"
   ]
  },
  {
   "cell_type": "markdown",
   "metadata": {},
   "source": [
    "### Display equation in multi-line\n",
    "$\\begin{multline}\n",
    "1+2+3+4+8x+7=1+2+3+4+4x+35 \\\\\n",
    "\\Rightarrow x=7\n",
    "\\end{multline}$"
   ]
  },
  {
   "cell_type": "markdown",
   "metadata": {},
   "source": [
    "### Align equations\n",
    "\n",
    "$$\\begin{equation}\n",
    "\\begin{split}\n",
    "A & = \\frac{\\pi r^2}{2} \\\\\n",
    " & = \\frac{1}{2} \\pi r^2\n",
    "\\end{split}\n",
    "\\end{equation}$$\n",
    "\n",
    "---\n",
    "\n",
    "$$\\begin{align*}\n",
    "2x - 5y &=  8 \\\\ \n",
    "3x + 9y &=  -12\n",
    "\\end{align*}$$\n",
    "\n",
    "---\n",
    "\n",
    "$$ \\begin{equation*}\n",
    "X(\\omega) = \\begin{cases}\n",
    "1 &\\text{se $\\omega\\in A$}\\\\\n",
    "1250 &\\text{se $\\omega \\in A^c$}\n",
    "\\end{cases}\n",
    "\\end{equation*} $$"
   ]
  },
  {
   "cell_type": "markdown",
   "metadata": {},
   "source": [
    "$$\\underset{x}{argmin}$$\n",
    "\n",
    "---\n",
    "\n",
    "$$\\overset{x}{y}$$"
   ]
  }
 ],
 "metadata": {
  "kernelspec": {
   "display_name": "Python 3",
   "language": "python",
   "name": "python3"
  },
  "language_info": {
   "codemirror_mode": {
    "name": "ipython",
    "version": 3
   },
   "file_extension": ".py",
   "mimetype": "text/x-python",
   "name": "python",
   "nbconvert_exporter": "python",
   "pygments_lexer": "ipython3",
   "version": "3.6.7"
  }
 },
 "nbformat": 4,
 "nbformat_minor": 2
}
